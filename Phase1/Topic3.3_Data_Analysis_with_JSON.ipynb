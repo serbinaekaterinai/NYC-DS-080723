{
 "cells": [
  {
   "cell_type": "markdown",
   "metadata": {
    "slideshow": {
     "slide_type": "slide"
    }
   },
   "source": [
    "<div style=\"color:white;\n",
    "           display:fill;\n",
    "           border-radius:5px;\n",
    "           background-color:#5642C5;\n",
    "           font-size:200%;\n",
    "           font-family:Arial;letter-spacing:0.5px\">\n",
    "\n",
    "<p width = 20%, style=\"padding: 10px;\n",
    "              color:white;\">\n",
    "Data Analysis with JSON Files              \n",
    "</p>\n",
    "</div>\n",
    "\n",
    "Data Science Cohort Live NYC August 2023\n",
    "<p>Phase 1: Topic 3.3</p>\n",
    "<br>\n",
    "<br>\n",
    "\n",
    "<div align = \"right\">\n",
    "<img src=\"images/flatiron-school-logo.png\" align = \"right\" width=\"200\"/>\n",
    "</div>\n",
    "    \n",
    "    "
   ]
  },
  {
   "cell_type": "code",
   "execution_count": 1,
   "metadata": {
    "slideshow": {
     "slide_type": "slide"
    }
   },
   "outputs": [],
   "source": [
    "import json\n",
    "import pandas as pd\n",
    "import numpy as np\n",
    "from matplotlib import pyplot as plt\n",
    "from collections import defaultdict"
   ]
  },
  {
   "cell_type": "markdown",
   "metadata": {
    "heading_collapsed": true,
    "slideshow": {
     "slide_type": "slide"
    }
   },
   "source": [
    "# Learning Objectives"
   ]
  },
  {
   "cell_type": "markdown",
   "metadata": {
    "hidden": true,
    "slideshow": {
     "slide_type": "fragment"
    }
   },
   "source": [
    "- Load and explore a .json file in Python\n",
    "- Create a clean data structure from a .json file\n",
    "- Conduct descriptive analysis\n",
    "- Visualize the results"
   ]
  },
  {
   "cell_type": "markdown",
   "metadata": {
    "hidden": true,
    "slideshow": {
     "slide_type": "fragment"
    }
   },
   "source": [
    "Part of being a good data scientist is having the capacity to work with data in many different forms. Much data online is stored in JSON format. So let's see if we can conduct a descriptive analysis of data when it's given to us in that form!"
   ]
  },
  {
   "cell_type": "markdown",
   "metadata": {
    "slideshow": {
     "slide_type": "slide"
    }
   },
   "source": [
    "## What is JSON?\n",
    "\n",
    "JSON stands for Java Script Object Notation.\n",
    "\n",
    "    - **plain text** format. \n",
    "    - Object structure of data encoded in hierarchical syntax.\n",
    "\n",
    "JSON objects are one common way that data is transmitted over the web.  It is notable for being lightweight, which makes it [preferred](https://stackoverflow.com/questions/383692/what-is-json-and-why-would-i-use-it), generally, over XML."
   ]
  },
  {
   "cell_type": "markdown",
   "metadata": {
    "hidden": true,
    "slideshow": {
     "slide_type": "slide"
    }
   },
   "source": [
    "```json\n",
    "{\"menu\": {\n",
    "  \"id\": 12412,\n",
    "  \"istest\": true,\n",
    "  \"value\": \"File\",\n",
    "  \"popup\": {\n",
    "    \"menuitem\": [\n",
    "      {\"value\": \"New\", \"onclick\": \"CreateNewDoc()\"},\n",
    "      {\"value\": \"Open\", \"onclick\": \"OpenDoc()\"},\n",
    "      {\"value\": \"Close\", \"onclick\": \"CloseDoc()\"}\n",
    "    ]\n",
    "  }\n",
    "}}\n",
    "```"
   ]
  },
  {
   "cell_type": "markdown",
   "metadata": {
    "heading_collapsed": true,
    "hidden": true,
    "slideshow": {
     "slide_type": "slide"
    }
   },
   "source": [
    "## JSON Format"
   ]
  },
  {
   "cell_type": "markdown",
   "metadata": {
    "hidden": true,
    "slideshow": {
     "slide_type": "fragment"
    }
   },
   "source": [
    "JSON objects store data in a format similar to a nested Python dictionary. The JSON format makes it easy to store as a file, transfer between users, and use in other languages.\n",
    "\n",
    "For more information about the syntax of JSON files, check out this [link](https://www.json.org/json-en.html) to the JSON website."
   ]
  },
  {
   "cell_type": "markdown",
   "metadata": {
    "ExecuteTime": {
     "end_time": "2021-06-10T04:15:20.107976Z",
     "start_time": "2021-06-10T04:15:20.101838Z"
    },
    "hidden": true,
    "slideshow": {
     "slide_type": "slide"
    }
   },
   "source": [
    "Can have these types in it (all relatable to Python types):\n",
    "\n",
    "|JavaScript|JS Example               |Python Equivalent|Python Example           |\n",
    "|----------|-------------------------|-----------------|-------------------------|\n",
    "|Objects   |`{'key0':'v12','v':1}`   |Dictionaries     |`{'key0':'v12','v':1}`   |\n",
    "|Arrays    |`[1, 'one', 'two', 3, 5]`|Lists            |`[1, 'one', 'two', 3, 5]`|\n",
    "|Strings   |`'One'` or `\"Two\"`       |Strings          |`'One'` or `\"Two\"`       |\n",
    "|Numbers   |`1234.5` or `8675309`    |Numbers          |`1234.5` or `8675309`    |  \n",
    "|Boolean   |`true` or `false`        |Boolean          |`True` or `False`        |\n",
    "|Null Value|`null`                   |None Value       |`None`                   |"
   ]
  },
  {
   "cell_type": "markdown",
   "metadata": {
    "heading_collapsed": true,
    "slideshow": {
     "slide_type": "slide"
    }
   },
   "source": [
    "# Loading a JSON File"
   ]
  },
  {
   "cell_type": "markdown",
   "metadata": {
    "hidden": true,
    "slideshow": {
     "slide_type": "fragment"
    }
   },
   "source": [
    "For this example, we've created a `new_releases.json` file containing data on 20 newly released music albums. We got this from the Spotify API - we'll explain what this means later. \n",
    "\n",
    "Let's begin by importing the `json` package, opening a file with python's `open()` function, and then loading that data from the JSON file into a new `data` object."
   ]
  },
  {
   "cell_type": "markdown",
   "metadata": {
    "slideshow": {
     "slide_type": "slide"
    }
   },
   "source": [
    "#### json.load()\n",
    "\n",
    "To load data from a JSON file:\n",
    "1. `open` file with context manager. \n",
    "2. Pass the file object to the `json.load` function.\n",
    "3. Returns Python object representing contents of file.\n",
    "\n",
    "In the cell below, we open the campaign finance JSON file previewed above:"
   ]
  },
  {
   "cell_type": "code",
   "execution_count": 2,
   "metadata": {
    "hidden": true,
    "slideshow": {
     "slide_type": "fragment"
    }
   },
   "outputs": [],
   "source": [
    "with open('data/new_releases.json') as f:\n",
    "    data = json.load(f)"
   ]
  },
  {
   "cell_type": "markdown",
   "metadata": {
    "hidden": true,
    "slideshow": {
     "slide_type": "fragment"
    }
   },
   "source": [
    "The Spotify API returned the data in the form of JSON object, which the `json` module transforms into a Python object."
   ]
  },
  {
   "cell_type": "markdown",
   "metadata": {
    "cell_style": "center",
    "heading_collapsed": true,
    "hidden": true,
    "slideshow": {
     "slide_type": "slide"
    }
   },
   "source": [
    "## Exploring JSON Schemas  "
   ]
  },
  {
   "cell_type": "markdown",
   "metadata": {
    "hidden": true,
    "slideshow": {
     "slide_type": "fragment"
    }
   },
   "source": [
    "Recall that JSON files have a nested structure. The deepest levels of our object will contain individual values: numbers, booleans or strings. These in turn will be stored in the equivalents of Python lists and dictionaries, usually with many levels of nesting. \n",
    "\n",
    "If you try to look at a raw JSON file, you will likely have a hard time understanding the structure. To more easily make sense of it, we will proceed through each level methodically."
   ]
  },
  {
   "cell_type": "code",
   "execution_count": 3,
   "metadata": {
    "hidden": true,
    "slideshow": {
     "slide_type": "slide"
    }
   },
   "outputs": [
    {
     "name": "stdout",
     "output_type": "stream",
     "text": [
      "{'albums': {'href': 'https://api.spotify.com/v1/browse/new-releases?offset=0&limit=20', 'items': [{'album_type': 'album', 'artists': [{'external_urls': {'spotify': 'https://open.spotify.com/artist/1RyvyyTE3xzB2ZywiAwp0i'}, 'href': 'https://api.spotify.com/v1/artists/1RyvyyTE3xzB2ZywiAwp0i', 'id': '1RyvyyTE3xzB2ZywiAwp0i', 'name': 'Future', 'type': 'artist', 'uri': 'spotify:artist:1RyvyyTE3xzB2ZywiAwp0i'}], 'available_markets': ['AD', 'AE', 'AR', 'AT', 'AU', 'BE', 'BG', 'BH', 'BO', 'BR', 'CA', 'CH', 'CL', 'CO', 'CR', 'CY', 'CZ', 'DE', 'DK', 'DO', 'DZ', 'EC', 'EE', 'EG', 'ES', 'FI', 'FR', 'GB', 'GR', 'GT', 'HK', 'HN', 'HU', 'ID', 'IE', 'IL', 'IN', 'IS', 'IT', 'JO', 'JP', 'KW', 'LB', 'LI', 'LT', 'LU', 'LV', 'MA', 'MC', 'MT', 'MX', 'MY', 'NI', 'NL', 'NO', 'NZ', 'OM', 'PA', 'PE', 'PH', 'PL', 'PS', 'PT', 'PY', 'QA', 'RO', 'SA', 'SE', 'SG', 'SK', 'SV', 'TH', 'TN', 'TR', 'TW', 'US', 'UY', 'VN', 'ZA'], 'external_urls': {'spotify': 'https://open.spotify.com/album/4bNPOFOzxGhF5jhfIK6lit'}, 'href': 'https://api.spotify.com/v1/albums/4bNPOFOzxGhF5jhfIK6lit', 'id': '4bNPOFOzxGhF5jhfIK6lit', 'images': [{'height': 640, 'url': 'https://i.scdn.co/image/ab67616d0000b273935d8d5369bc55e74a39303e', 'width': 640}, {'height': 300, 'url': 'https://i.scdn.co/image/ab67616d00001e02935d8d5369bc55e74a39303e', 'width': 300}, {'height': 64, 'url': 'https://i.scdn.co/image/ab67616d00004851935d8d5369bc55e74a39303e', 'width': 64}], 'name': 'High Off Life', 'release_date': '2020-05-15', 'release_date_precision': 'day', 'total_tracks': 21, 'type': 'album', 'uri': 'spotify:album:4bNPOFOzxGhF5jhfIK6lit'}, {'album_type': 'single', 'artists': [{'external_urls': {'spotify': 'https://open.spotify.com/artist/23fqKkggKUBHNkbKtXEls4'}, 'href': 'https://api.spotify.com/v1/artists/23fqKkggKUBHNkbKtXEls4', 'id': '23fqKkggKUBHNkbKtXEls4', 'name': 'Kygo', 'type': 'artist', 'uri': 'spotify:artist:23fqKkggKUBHNkbKtXEls4'}, {'external_urls': {'spotify': 'https://open.spotify.com/artist/5Pwc4xIPtQLFEnJriah9YJ'}, 'href': 'https://api.spotify.com/v1/artists/5Pwc4xIPtQLFEnJriah9YJ', 'id': '5Pwc4xIPtQLFEnJriah9YJ', 'name': 'OneRepublic', 'type': 'artist', 'uri': 'spotify:artist:5Pwc4xIPtQLFEnJriah9YJ'}], 'available_markets': ['AD', 'AE', 'AR', 'AT', 'AU', 'BE', 'BG', 'BH', 'BO', 'BR', 'CA', 'CH', 'CL', 'CO', 'CR', 'CY', 'CZ', 'DE', 'DK', 'DO', 'DZ', 'EC', 'EE', 'EG', 'ES', 'FI', 'FR', 'GB', 'GR', 'GT', 'HK', 'HN', 'HU', 'ID', 'IE', 'IL', 'IN', 'IS', 'IT', 'JO', 'JP', 'KW', 'LB', 'LI', 'LT', 'LU', 'LV', 'MA', 'MC', 'MT', 'MX', 'MY', 'NI', 'NL', 'NO', 'NZ', 'OM', 'PA', 'PE', 'PH', 'PL', 'PS', 'PT', 'PY', 'QA', 'RO', 'SA', 'SE', 'SG', 'SK', 'SV', 'TH', 'TN', 'TR', 'TW', 'US', 'UY', 'VN', 'ZA'], 'external_urls': {'spotify': 'https://open.spotify.com/album/3LhriqAiHJYw7rxvtlkvQc'}, 'href': 'https://api.spotify.com/v1/albums/3LhriqAiHJYw7rxvtlkvQc', 'id': '3LhriqAiHJYw7rxvtlkvQc', 'images': [{'height': 640, 'url': 'https://i.scdn.co/image/ab67616d0000b273479856767f92aab97c956704', 'width': 640}, {'height': 300, 'url': 'https://i.scdn.co/image/ab67616d00001e02479856767f92aab97c956704', 'width': 300}, {'height': 64, 'url': 'https://i.scdn.co/image/ab67616d00004851479856767f92aab97c956704', 'width': 64}], 'name': 'Lose Somebody', 'release_date': '2020-05-15', 'release_date_precision': 'day', 'total_tracks': 1, 'type': 'album', 'uri': 'spotify:album:3LhriqAiHJYw7rxvtlkvQc'}, {'album_type': 'album', 'artists': [{'external_urls': {'spotify': 'https://open.spotify.com/artist/0LyfQWJT6nXafLPZqxe9Of'}, 'href': 'https://api.spotify.com/v1/artists/0LyfQWJT6nXafLPZqxe9Of', 'id': '0LyfQWJT6nXafLPZqxe9Of', 'name': 'Various Artists', 'type': 'artist', 'uri': 'spotify:artist:0LyfQWJT6nXafLPZqxe9Of'}], 'available_markets': ['AD', 'AE', 'AR', 'AT', 'AU', 'BE', 'BG', 'BH', 'BO', 'BR', 'CA', 'CH', 'CL', 'CO', 'CR', 'CY', 'CZ', 'DE', 'DK', 'DO', 'DZ', 'EC', 'EE', 'EG', 'ES', 'FI', 'FR', 'GB', 'GR', 'GT', 'HK', 'HN', 'HU', 'ID', 'IE', 'IL', 'IN', 'IS', 'IT', 'JO', 'JP', 'KW', 'LB', 'LI', 'LT', 'LU', 'LV', 'MA', 'MC', 'MT', 'MX', 'MY', 'NI', 'NL', 'NO', 'NZ', 'OM', 'PA', 'PE', 'PH', 'PL', 'PS', 'PT', 'PY', 'QA', 'RO', 'SA', 'SE', 'SG', 'SK', 'SV', 'TH', 'TN', 'TR', 'TW', 'US', 'UY', 'VN', 'ZA'], 'external_urls': {'spotify': 'https://open.spotify.com/album/2Zg5xZo3WwIoAZys8OcUpG'}, 'href': 'https://api.spotify.com/v1/albums/2Zg5xZo3WwIoAZys8OcUpG', 'id': '2Zg5xZo3WwIoAZys8OcUpG', 'images': [{'height': 640, 'url': 'https://i.scdn.co/image/ab67616d0000b2732e819e33b9703a8b3fc85a35', 'width': 640}, {'height': 300, 'url': 'https://i.scdn.co/image/ab67616d00001e022e819e33b9703a8b3fc85a35', 'width': 300}, {'height': 64, 'url': 'https://i.scdn.co/image/ab67616d000048512e819e33b9703a8b3fc85a35', 'width': 64}], 'name': 'SCOOB! The Album', 'release_date': '2020-05-15', 'release_date_precision': 'day', 'total_tracks': 12, 'type': 'album', 'uri': 'spotify:album:2Zg5xZo3WwIoAZys8OcUpG'}, {'album_type': 'single', 'artists': [{'external_urls': {'spotify': 'https://open.spotify.com/artist/6jJ0s89eD6GaHleKKya26X'}, 'href': 'https://api.spotify.com/v1/artists/6jJ0s89eD6GaHleKKya26X', 'id': '6jJ0s89eD6GaHleKKya26X', 'name': 'Katy Perry', 'type': 'artist', 'uri': 'spotify:artist:6jJ0s89eD6GaHleKKya26X'}], 'available_markets': ['AD', 'AE', 'AR', 'AT', 'AU', 'BE', 'BG', 'BH', 'BO', 'BR', 'CA', 'CH', 'CL', 'CO', 'CR', 'CY', 'CZ', 'DE', 'DK', 'DO', 'DZ', 'EC', 'EE', 'EG', 'ES', 'FI', 'FR', 'GB', 'GR', 'GT', 'HK', 'HN', 'HU', 'ID', 'IE', 'IL', 'IN', 'IS', 'IT', 'JO', 'JP', 'KW', 'LB', 'LI', 'LT', 'LU', 'LV', 'MA', 'MC', 'MT', 'MX', 'MY', 'NI', 'NL', 'NO', 'NZ', 'OM', 'PA', 'PE', 'PH', 'PL', 'PS', 'PT', 'PY', 'QA', 'RO', 'SA', 'SE', 'SG', 'SK', 'SV', 'TH', 'TN', 'TR', 'TW', 'US', 'UY', 'VN', 'ZA'], 'external_urls': {'spotify': 'https://open.spotify.com/album/2m5J1DUH7hJpPSOromIqpN'}, 'href': 'https://api.spotify.com/v1/albums/2m5J1DUH7hJpPSOromIqpN', 'id': '2m5J1DUH7hJpPSOromIqpN', 'images': [{'height': 640, 'url': 'https://i.scdn.co/image/ab67616d0000b2738df6751bad8ab6b5c928dba3', 'width': 640}, {'height': 300, 'url': 'https://i.scdn.co/image/ab67616d00001e028df6751bad8ab6b5c928dba3', 'width': 300}, {'height': 64, 'url': 'https://i.scdn.co/image/ab67616d000048518df6751bad8ab6b5c928dba3', 'width': 64}], 'name': 'Daisies', 'release_date': '2020-05-15', 'release_date_precision': 'day', 'total_tracks': 1, 'type': 'album', 'uri': 'spotify:album:2m5J1DUH7hJpPSOromIqpN'}, {'album_type': 'album', 'artists': [{'external_urls': {'spotify': 'https://open.spotify.com/artist/6AgTAQt8XS6jRWi4sX7w49'}, 'href': 'https://api.spotify.com/v1/artists/6AgTAQt8XS6jRWi4sX7w49', 'id': '6AgTAQt8XS6jRWi4sX7w49', 'name': 'Polo G', 'type': 'artist', 'uri': 'spotify:artist:6AgTAQt8XS6jRWi4sX7w49'}], 'available_markets': ['AD', 'AE', 'AR', 'AT', 'AU', 'BE', 'BG', 'BH', 'BO', 'BR', 'CA', 'CH', 'CL', 'CO', 'CR', 'CY', 'CZ', 'DE', 'DK', 'DO', 'DZ', 'EC', 'EE', 'EG', 'ES', 'FI', 'FR', 'GB', 'GR', 'GT', 'HK', 'HN', 'HU', 'ID', 'IE', 'IL', 'IN', 'IS', 'IT', 'JO', 'JP', 'KW', 'LB', 'LI', 'LT', 'LU', 'LV', 'MA', 'MC', 'MT', 'MX', 'MY', 'NI', 'NL', 'NO', 'NZ', 'OM', 'PA', 'PE', 'PH', 'PL', 'PS', 'PT', 'PY', 'QA', 'RO', 'SA', 'SE', 'SG', 'SK', 'SV', 'TH', 'TN', 'TR', 'TW', 'US', 'UY', 'VN', 'ZA'], 'external_urls': {'spotify': 'https://open.spotify.com/album/39xhYyNNDatQtgKw2KdXMz'}, 'href': 'https://api.spotify.com/v1/albums/39xhYyNNDatQtgKw2KdXMz', 'id': '39xhYyNNDatQtgKw2KdXMz', 'images': [{'height': 640, 'url': 'https://i.scdn.co/image/ab67616d0000b273339f780dfdbc38558ea0761d', 'width': 640}, {'height': 300, 'url': 'https://i.scdn.co/image/ab67616d00001e02339f780dfdbc38558ea0761d', 'width': 300}, {'height': 64, 'url': 'https://i.scdn.co/image/ab67616d00004851339f780dfdbc38558ea0761d', 'width': 64}], 'name': 'THE GOAT', 'release_date': '2020-05-15', 'release_date_precision': 'day', 'total_tracks': 16, 'type': 'album', 'uri': 'spotify:album:39xhYyNNDatQtgKw2KdXMz'}, {'album_type': 'single', 'artists': [{'external_urls': {'spotify': 'https://open.spotify.com/artist/7gOdHgIoIKoe4i9Tta6qdD'}, 'href': 'https://api.spotify.com/v1/artists/7gOdHgIoIKoe4i9Tta6qdD', 'id': '7gOdHgIoIKoe4i9Tta6qdD', 'name': 'Jonas Brothers', 'type': 'artist', 'uri': 'spotify:artist:7gOdHgIoIKoe4i9Tta6qdD'}, {'external_urls': {'spotify': 'https://open.spotify.com/artist/790FomKkXshlbRYZFtlgla'}, 'href': 'https://api.spotify.com/v1/artists/790FomKkXshlbRYZFtlgla', 'id': '790FomKkXshlbRYZFtlgla', 'name': 'KAROL G', 'type': 'artist', 'uri': 'spotify:artist:790FomKkXshlbRYZFtlgla'}], 'available_markets': ['AD', 'AE', 'AR', 'AT', 'AU', 'BE', 'BG', 'BH', 'BO', 'BR', 'CA', 'CH', 'CL', 'CO', 'CR', 'CY', 'CZ', 'DE', 'DK', 'DO', 'DZ', 'EC', 'EE', 'EG', 'ES', 'FI', 'FR', 'GB', 'GR', 'GT', 'HK', 'HN', 'HU', 'ID', 'IE', 'IL', 'IN', 'IS', 'IT', 'JO', 'JP', 'KW', 'LB', 'LI', 'LT', 'LU', 'LV', 'MA', 'MC', 'MT', 'MX', 'MY', 'NI', 'NL', 'NO', 'NZ', 'OM', 'PA', 'PE', 'PH', 'PL', 'PS', 'PT', 'PY', 'QA', 'RO', 'SA', 'SE', 'SG', 'SK', 'SV', 'TH', 'TN', 'TR', 'TW', 'US', 'UY', 'VN', 'ZA'], 'external_urls': {'spotify': 'https://open.spotify.com/album/0i96PtPJV65ddxsfMfo45F'}, 'href': 'https://api.spotify.com/v1/albums/0i96PtPJV65ddxsfMfo45F', 'id': '0i96PtPJV65ddxsfMfo45F', 'images': [{'height': 640, 'url': 'https://i.scdn.co/image/ab67616d0000b2733b3cd45dfa6f779c01d63fdb', 'width': 640}, {'height': 300, 'url': 'https://i.scdn.co/image/ab67616d00001e023b3cd45dfa6f779c01d63fdb', 'width': 300}, {'height': 64, 'url': 'https://i.scdn.co/image/ab67616d000048513b3cd45dfa6f779c01d63fdb', 'width': 64}], 'name': 'XV', 'release_date': '2020-05-15', 'release_date_precision': 'day', 'total_tracks': 2, 'type': 'album', 'uri': 'spotify:album:0i96PtPJV65ddxsfMfo45F'}, {'album_type': 'album', 'artists': [{'external_urls': {'spotify': 'https://open.spotify.com/artist/25uiPmTg16RbhZWAqwLBy5'}, 'href': 'https://api.spotify.com/v1/artists/25uiPmTg16RbhZWAqwLBy5', 'id': '25uiPmTg16RbhZWAqwLBy5', 'name': 'Charli XCX', 'type': 'artist', 'uri': 'spotify:artist:25uiPmTg16RbhZWAqwLBy5'}], 'available_markets': ['AD', 'AE', 'AR', 'AT', 'AU', 'BE', 'BG', 'BH', 'BO', 'BR', 'CA', 'CH', 'CL', 'CO', 'CR', 'CY', 'CZ', 'DE', 'DK', 'DO', 'DZ', 'EC', 'EE', 'EG', 'ES', 'FI', 'FR', 'GB', 'GR', 'GT', 'HK', 'HN', 'HU', 'ID', 'IE', 'IL', 'IN', 'IS', 'IT', 'JO', 'JP', 'KW', 'LB', 'LI', 'LT', 'LU', 'LV', 'MA', 'MC', 'MT', 'MX', 'MY', 'NI', 'NL', 'NO', 'NZ', 'OM', 'PA', 'PE', 'PH', 'PL', 'PS', 'PT', 'PY', 'QA', 'RO', 'SA', 'SE', 'SG', 'SK', 'SV', 'TH', 'TN', 'TR', 'TW', 'US', 'UY', 'VN', 'ZA'], 'external_urls': {'spotify': 'https://open.spotify.com/album/3a9qH2VEsSiOZvMrjaS0Nu'}, 'href': 'https://api.spotify.com/v1/albums/3a9qH2VEsSiOZvMrjaS0Nu', 'id': '3a9qH2VEsSiOZvMrjaS0Nu', 'images': [{'height': 640, 'url': 'https://i.scdn.co/image/ab67616d0000b273664e38c99d077cc52ab48914', 'width': 640}, {'height': 300, 'url': 'https://i.scdn.co/image/ab67616d00001e02664e38c99d077cc52ab48914', 'width': 300}, {'height': 64, 'url': 'https://i.scdn.co/image/ab67616d00004851664e38c99d077cc52ab48914', 'width': 64}], 'name': \"how i'm feeling now\", 'release_date': '2020-05-15', 'release_date_precision': 'day', 'total_tracks': 11, 'type': 'album', 'uri': 'spotify:album:3a9qH2VEsSiOZvMrjaS0Nu'}, {'album_type': 'single', 'artists': [{'external_urls': {'spotify': 'https://open.spotify.com/artist/2jku7tDXc6XoB6MO2hFuqg'}, 'href': 'https://api.spotify.com/v1/artists/2jku7tDXc6XoB6MO2hFuqg', 'id': '2jku7tDXc6XoB6MO2hFuqg', 'name': 'Tory Lanez', 'type': 'artist', 'uri': 'spotify:artist:2jku7tDXc6XoB6MO2hFuqg'}], 'available_markets': ['AD', 'AE', 'AR', 'AT', 'AU', 'BE', 'BG', 'BH', 'BO', 'BR', 'CH', 'CL', 'CO', 'CR', 'CY', 'CZ', 'DE', 'DK', 'DO', 'DZ', 'EC', 'EE', 'EG', 'ES', 'FI', 'FR', 'GB', 'GR', 'GT', 'HK', 'HN', 'HU', 'ID', 'IE', 'IL', 'IN', 'IS', 'IT', 'JO', 'JP', 'KW', 'LB', 'LI', 'LT', 'LU', 'LV', 'MA', 'MC', 'MT', 'MX', 'MY', 'NI', 'NL', 'NO', 'NZ', 'OM', 'PA', 'PE', 'PH', 'PL', 'PS', 'PT', 'PY', 'QA', 'RO', 'SA', 'SE', 'SG', 'SK', 'SV', 'TH', 'TN', 'TR', 'TW', 'US', 'UY', 'VN', 'ZA'], 'external_urls': {'spotify': 'https://open.spotify.com/album/3lalGt6k7JM3tIji1Xbgmk'}, 'href': 'https://api.spotify.com/v1/albums/3lalGt6k7JM3tIji1Xbgmk', 'id': '3lalGt6k7JM3tIji1Xbgmk', 'images': [{'height': 640, 'url': 'https://i.scdn.co/image/ab67616d0000b273c2ebaf0c84eb77f358d958bc', 'width': 640}, {'height': 300, 'url': 'https://i.scdn.co/image/ab67616d00001e02c2ebaf0c84eb77f358d958bc', 'width': 300}, {'height': 64, 'url': 'https://i.scdn.co/image/ab67616d00004851c2ebaf0c84eb77f358d958bc', 'width': 64}], 'name': 'Temperature Rising', 'release_date': '2020-05-15', 'release_date_precision': 'day', 'total_tracks': 1, 'type': 'album', 'uri': 'spotify:album:3lalGt6k7JM3tIji1Xbgmk'}, {'album_type': 'album', 'artists': [{'external_urls': {'spotify': 'https://open.spotify.com/artist/2ueoLVCXQ948OfhVvAy3Nn'}, 'href': 'https://api.spotify.com/v1/artists/2ueoLVCXQ948OfhVvAy3Nn', 'id': '2ueoLVCXQ948OfhVvAy3Nn', 'name': 'Perfume Genius', 'type': 'artist', 'uri': 'spotify:artist:2ueoLVCXQ948OfhVvAy3Nn'}], 'available_markets': ['AD', 'AE', 'AR', 'AT', 'AU', 'BE', 'BG', 'BH', 'BO', 'BR', 'CA', 'CH', 'CL', 'CO', 'CR', 'CY', 'CZ', 'DE', 'DK', 'DO', 'DZ', 'EC', 'EE', 'EG', 'ES', 'FI', 'FR', 'GB', 'GR', 'GT', 'HK', 'HN', 'HU', 'ID', 'IE', 'IL', 'IN', 'IS', 'IT', 'JO', 'JP', 'KW', 'LB', 'LI', 'LT', 'LU', 'LV', 'MA', 'MC', 'MT', 'MX', 'MY', 'NI', 'NL', 'NO', 'NZ', 'OM', 'PA', 'PE', 'PH', 'PL', 'PS', 'PT', 'PY', 'QA', 'RO', 'SA', 'SE', 'SG', 'SK', 'SV', 'TH', 'TN', 'TR', 'TW', 'US', 'UY', 'VN', 'ZA'], 'external_urls': {'spotify': 'https://open.spotify.com/album/6daEdTBi1hyFQgmsnR7oRr'}, 'href': 'https://api.spotify.com/v1/albums/6daEdTBi1hyFQgmsnR7oRr', 'id': '6daEdTBi1hyFQgmsnR7oRr', 'images': [{'height': 640, 'url': 'https://i.scdn.co/image/ab67616d0000b2739af34850f5125ef195d6101a', 'width': 640}, {'height': 300, 'url': 'https://i.scdn.co/image/ab67616d00001e029af34850f5125ef195d6101a', 'width': 300}, {'height': 64, 'url': 'https://i.scdn.co/image/ab67616d000048519af34850f5125ef195d6101a', 'width': 64}], 'name': 'Set My Heart On Fire Immediately', 'release_date': '2020-05-15', 'release_date_precision': 'day', 'total_tracks': 13, 'type': 'album', 'uri': 'spotify:album:6daEdTBi1hyFQgmsnR7oRr'}, {'album_type': 'album', 'artists': [{'external_urls': {'spotify': 'https://open.spotify.com/artist/7rkW85dBwwrJtlHRDkJDAC'}, 'href': 'https://api.spotify.com/v1/artists/7rkW85dBwwrJtlHRDkJDAC', 'id': '7rkW85dBwwrJtlHRDkJDAC', 'name': 'NAV', 'type': 'artist', 'uri': 'spotify:artist:7rkW85dBwwrJtlHRDkJDAC'}], 'available_markets': ['AD', 'AE', 'AR', 'AT', 'AU', 'BE', 'BG', 'BH', 'BO', 'BR', 'CA', 'CH', 'CL', 'CO', 'CR', 'CY', 'CZ', 'DE', 'DK', 'DO', 'DZ', 'EC', 'EE', 'EG', 'ES', 'FI', 'FR', 'GB', 'GR', 'GT', 'HK', 'HN', 'HU', 'ID', 'IE', 'IL', 'IN', 'IS', 'IT', 'JO', 'JP', 'KW', 'LB', 'LI', 'LT', 'LU', 'LV', 'MA', 'MC', 'MT', 'MX', 'MY', 'NI', 'NL', 'NO', 'NZ', 'OM', 'PA', 'PE', 'PH', 'PL', 'PS', 'PT', 'PY', 'QA', 'RO', 'SA', 'SE', 'SG', 'SK', 'SV', 'TH', 'TN', 'TR', 'TW', 'US', 'UY', 'VN', 'ZA'], 'external_urls': {'spotify': 'https://open.spotify.com/album/2kx4l1OQNT2JXLld9HJDIh'}, 'href': 'https://api.spotify.com/v1/albums/2kx4l1OQNT2JXLld9HJDIh', 'id': '2kx4l1OQNT2JXLld9HJDIh', 'images': [{'height': 640, 'url': 'https://i.scdn.co/image/ab67616d0000b273b9c89bb14d58ea3150bd435d', 'width': 640}, {'height': 300, 'url': 'https://i.scdn.co/image/ab67616d00001e02b9c89bb14d58ea3150bd435d', 'width': 300}, {'height': 64, 'url': 'https://i.scdn.co/image/ab67616d00004851b9c89bb14d58ea3150bd435d', 'width': 64}], 'name': 'Good Intentions (Brown Boy 2 Deluxe Version)', 'release_date': '2020-05-11', 'release_date_precision': 'day', 'total_tracks': 32, 'type': 'album', 'uri': 'spotify:album:2kx4l1OQNT2JXLld9HJDIh'}, {'album_type': 'single', 'artists': [{'external_urls': {'spotify': 'https://open.spotify.com/artist/6oMuImdp5ZcFhWP0ESe6mG'}, 'href': 'https://api.spotify.com/v1/artists/6oMuImdp5ZcFhWP0ESe6mG', 'id': '6oMuImdp5ZcFhWP0ESe6mG', 'name': 'Migos', 'type': 'artist', 'uri': 'spotify:artist:6oMuImdp5ZcFhWP0ESe6mG'}], 'available_markets': ['AD', 'AE', 'AR', 'AT', 'AU', 'BE', 'BG', 'BH', 'BO', 'BR', 'CA', 'CH', 'CL', 'CO', 'CR', 'CY', 'CZ', 'DE', 'DK', 'DO', 'DZ', 'EC', 'EE', 'EG', 'ES', 'FI', 'FR', 'GB', 'GR', 'GT', 'HK', 'HN', 'HU', 'ID', 'IE', 'IL', 'IN', 'IS', 'IT', 'JO', 'JP', 'KW', 'LB', 'LI', 'LT', 'LU', 'LV', 'MA', 'MC', 'MT', 'MX', 'MY', 'NI', 'NL', 'NO', 'NZ', 'OM', 'PA', 'PE', 'PH', 'PL', 'PS', 'PT', 'PY', 'QA', 'RO', 'SA', 'SE', 'SG', 'SK', 'SV', 'TH', 'TN', 'TR', 'TW', 'US', 'UY', 'VN', 'ZA'], 'external_urls': {'spotify': 'https://open.spotify.com/album/3PASWLvNfvfMF68dDznEgK'}, 'href': 'https://api.spotify.com/v1/albums/3PASWLvNfvfMF68dDznEgK', 'id': '3PASWLvNfvfMF68dDznEgK', 'images': [{'height': 640, 'url': 'https://i.scdn.co/image/ab67616d0000b2739325c863d9139cc2d507421b', 'width': 640}, {'height': 300, 'url': 'https://i.scdn.co/image/ab67616d00001e029325c863d9139cc2d507421b', 'width': 300}, {'height': 64, 'url': 'https://i.scdn.co/image/ab67616d000048519325c863d9139cc2d507421b', 'width': 64}], 'name': 'Racks 2 Skinny', 'release_date': '2020-05-11', 'release_date_precision': 'day', 'total_tracks': 1, 'type': 'album', 'uri': 'spotify:album:3PASWLvNfvfMF68dDznEgK'}, {'album_type': 'single', 'artists': [{'external_urls': {'spotify': 'https://open.spotify.com/artist/5Zq7R5qmi58ByYyBQTlNuk'}, 'href': 'https://api.spotify.com/v1/artists/5Zq7R5qmi58ByYyBQTlNuk', 'id': '5Zq7R5qmi58ByYyBQTlNuk', 'name': 'Lee Brice', 'type': 'artist', 'uri': 'spotify:artist:5Zq7R5qmi58ByYyBQTlNuk'}], 'available_markets': ['AD', 'AE', 'AR', 'AT', 'AU', 'BE', 'BG', 'BH', 'BO', 'BR', 'CA', 'CH', 'CL', 'CO', 'CR', 'CY', 'CZ', 'DE', 'DK', 'DO', 'DZ', 'EC', 'EE', 'EG', 'ES', 'FI', 'FR', 'GB', 'GR', 'GT', 'HK', 'HN', 'HU', 'ID', 'IE', 'IL', 'IN', 'IS', 'IT', 'JO', 'JP', 'KW', 'LB', 'LI', 'LT', 'LU', 'LV', 'MA', 'MC', 'MT', 'MX', 'MY', 'NI', 'NL', 'NO', 'NZ', 'OM', 'PA', 'PE', 'PH', 'PL', 'PS', 'PT', 'PY', 'QA', 'RO', 'SA', 'SE', 'SG', 'SK', 'SV', 'TH', 'TN', 'TR', 'TW', 'US', 'UY', 'VN', 'ZA'], 'external_urls': {'spotify': 'https://open.spotify.com/album/5LK5cCx0XdniivfZ91vOSv'}, 'href': 'https://api.spotify.com/v1/albums/5LK5cCx0XdniivfZ91vOSv', 'id': '5LK5cCx0XdniivfZ91vOSv', 'images': [{'height': 640, 'url': 'https://i.scdn.co/image/ab67616d0000b27306ae99421702f8a9d881e268', 'width': 640}, {'height': 300, 'url': 'https://i.scdn.co/image/ab67616d00001e0206ae99421702f8a9d881e268', 'width': 300}, {'height': 64, 'url': 'https://i.scdn.co/image/ab67616d0000485106ae99421702f8a9d881e268', 'width': 64}], 'name': 'One Of Them Girls', 'release_date': '2020-05-15', 'release_date_precision': 'day', 'total_tracks': 2, 'type': 'album', 'uri': 'spotify:album:5LK5cCx0XdniivfZ91vOSv'}, {'album_type': 'album', 'artists': [{'external_urls': {'spotify': 'https://open.spotify.com/artist/2o5jDhtHVPhrJdv3cEQ99Z'}, 'href': 'https://api.spotify.com/v1/artists/2o5jDhtHVPhrJdv3cEQ99Z', 'id': '2o5jDhtHVPhrJdv3cEQ99Z', 'name': 'Tiësto', 'type': 'artist', 'uri': 'spotify:artist:2o5jDhtHVPhrJdv3cEQ99Z'}], 'available_markets': ['AD', 'AE', 'AR', 'AT', 'AU', 'BE', 'BG', 'BH', 'BO', 'BR', 'CA', 'CH', 'CL', 'CO', 'CR', 'CY', 'CZ', 'DE', 'DK', 'DO', 'DZ', 'EC', 'EE', 'EG', 'ES', 'FI', 'FR', 'GB', 'GR', 'GT', 'HK', 'HN', 'HU', 'ID', 'IE', 'IL', 'IN', 'IS', 'IT', 'JO', 'JP', 'KW', 'LB', 'LI', 'LT', 'LU', 'LV', 'MA', 'MC', 'MT', 'MX', 'MY', 'NI', 'NL', 'NO', 'NZ', 'OM', 'PA', 'PE', 'PH', 'PL', 'PS', 'PT', 'PY', 'QA', 'RO', 'SA', 'SE', 'SG', 'SK', 'SV', 'TH', 'TN', 'TR', 'TW', 'US', 'UY', 'VN', 'ZA'], 'external_urls': {'spotify': 'https://open.spotify.com/album/6CIslPQSknp875cigkhKJC'}, 'href': 'https://api.spotify.com/v1/albums/6CIslPQSknp875cigkhKJC', 'id': '6CIslPQSknp875cigkhKJC', 'images': [{'height': 640, 'url': 'https://i.scdn.co/image/ab67616d0000b2739759d6dfa2c19091814fccb3', 'width': 640}, {'height': 300, 'url': 'https://i.scdn.co/image/ab67616d00001e029759d6dfa2c19091814fccb3', 'width': 300}, {'height': 64, 'url': 'https://i.scdn.co/image/ab67616d000048519759d6dfa2c19091814fccb3', 'width': 64}], 'name': 'The London Sessions', 'release_date': '2020-05-15', 'release_date_precision': 'day', 'total_tracks': 13, 'type': 'album', 'uri': 'spotify:album:6CIslPQSknp875cigkhKJC'}, {'album_type': 'single', 'artists': [{'external_urls': {'spotify': 'https://open.spotify.com/artist/6pBNfggcZZDCmb0p92OnGn'}, 'href': 'https://api.spotify.com/v1/artists/6pBNfggcZZDCmb0p92OnGn', 'id': '6pBNfggcZZDCmb0p92OnGn', 'name': 'Chase Rice', 'type': 'artist', 'uri': 'spotify:artist:6pBNfggcZZDCmb0p92OnGn'}], 'available_markets': ['AD', 'AE', 'AR', 'AT', 'AU', 'BE', 'BG', 'BH', 'BO', 'BR', 'CA', 'CH', 'CL', 'CO', 'CR', 'CY', 'CZ', 'DE', 'DK', 'DO', 'DZ', 'EC', 'EE', 'EG', 'ES', 'FI', 'FR', 'GB', 'GR', 'GT', 'HK', 'HN', 'HU', 'ID', 'IE', 'IL', 'IS', 'IT', 'JO', 'JP', 'KW', 'LB', 'LI', 'LT', 'LU', 'LV', 'MA', 'MC', 'MT', 'MX', 'MY', 'NI', 'NL', 'NO', 'NZ', 'OM', 'PA', 'PE', 'PH', 'PL', 'PS', 'PT', 'PY', 'QA', 'RO', 'SA', 'SE', 'SG', 'SK', 'SV', 'TH', 'TN', 'TR', 'TW', 'US', 'UY', 'VN', 'ZA'], 'external_urls': {'spotify': 'https://open.spotify.com/album/5XvXf3mdhShyLZhoJYR74q'}, 'href': 'https://api.spotify.com/v1/albums/5XvXf3mdhShyLZhoJYR74q', 'id': '5XvXf3mdhShyLZhoJYR74q', 'images': [{'height': 640, 'url': 'https://i.scdn.co/image/ab67616d0000b2735f6b892b478747a769252650', 'width': 640}, {'height': 300, 'url': 'https://i.scdn.co/image/ab67616d00001e025f6b892b478747a769252650', 'width': 300}, {'height': 64, 'url': 'https://i.scdn.co/image/ab67616d000048515f6b892b478747a769252650', 'width': 64}], 'name': 'The Album, Pt. II', 'release_date': '2020-05-15', 'release_date_precision': 'day', 'total_tracks': 4, 'type': 'album', 'uri': 'spotify:album:5XvXf3mdhShyLZhoJYR74q'}, {'album_type': 'album', 'artists': [{'external_urls': {'spotify': 'https://open.spotify.com/artist/1caBfBEapzw8z2Qz9q0OaQ'}, 'href': 'https://api.spotify.com/v1/artists/1caBfBEapzw8z2Qz9q0OaQ', 'id': '1caBfBEapzw8z2Qz9q0OaQ', 'name': 'Asking Alexandria', 'type': 'artist', 'uri': 'spotify:artist:1caBfBEapzw8z2Qz9q0OaQ'}], 'available_markets': ['AD', 'AE', 'AR', 'AT', 'AU', 'BE', 'BG', 'BH', 'BO', 'BR', 'CA', 'CH', 'CL', 'CO', 'CR', 'CY', 'CZ', 'DE', 'DK', 'DO', 'DZ', 'EC', 'EE', 'EG', 'ES', 'FI', 'FR', 'GB', 'GR', 'GT', 'HK', 'HN', 'HU', 'ID', 'IE', 'IL', 'IN', 'IS', 'IT', 'JO', 'JP', 'KW', 'LB', 'LI', 'LT', 'LU', 'LV', 'MA', 'MC', 'MT', 'MX', 'MY', 'NI', 'NL', 'NO', 'NZ', 'OM', 'PA', 'PE', 'PH', 'PL', 'PS', 'PT', 'PY', 'QA', 'RO', 'SA', 'SE', 'SG', 'SK', 'SV', 'TH', 'TN', 'TR', 'TW', 'US', 'UY', 'VN', 'ZA'], 'external_urls': {'spotify': 'https://open.spotify.com/album/5VKKXDvYuJmRc2UQHCwNQK'}, 'href': 'https://api.spotify.com/v1/albums/5VKKXDvYuJmRc2UQHCwNQK', 'id': '5VKKXDvYuJmRc2UQHCwNQK', 'images': [{'height': 640, 'url': 'https://i.scdn.co/image/ab67616d0000b273d30ebbcdf987ab5273abdd8d', 'width': 640}, {'height': 300, 'url': 'https://i.scdn.co/image/ab67616d00001e02d30ebbcdf987ab5273abdd8d', 'width': 300}, {'height': 64, 'url': 'https://i.scdn.co/image/ab67616d00004851d30ebbcdf987ab5273abdd8d', 'width': 64}], 'name': 'Like A House On Fire', 'release_date': '2020-05-15', 'release_date_precision': 'day', 'total_tracks': 15, 'type': 'album', 'uri': 'spotify:album:5VKKXDvYuJmRc2UQHCwNQK'}, {'album_type': 'single', 'artists': [{'external_urls': {'spotify': 'https://open.spotify.com/artist/7d3WFRME3vBY2cgoP38RDo'}, 'href': 'https://api.spotify.com/v1/artists/7d3WFRME3vBY2cgoP38RDo', 'id': '7d3WFRME3vBY2cgoP38RDo', 'name': 'Lil Skies', 'type': 'artist', 'uri': 'spotify:artist:7d3WFRME3vBY2cgoP38RDo'}], 'available_markets': ['AD', 'AE', 'AR', 'AT', 'AU', 'BE', 'BG', 'BH', 'BO', 'BR', 'CA', 'CH', 'CL', 'CO', 'CR', 'CY', 'CZ', 'DE', 'DK', 'DO', 'DZ', 'EC', 'EE', 'EG', 'ES', 'FI', 'FR', 'GB', 'GR', 'GT', 'HK', 'HN', 'HU', 'ID', 'IE', 'IL', 'IN', 'IS', 'IT', 'JO', 'JP', 'KW', 'LB', 'LI', 'LT', 'LU', 'LV', 'MA', 'MC', 'MT', 'MX', 'MY', 'NI', 'NL', 'NO', 'NZ', 'OM', 'PA', 'PE', 'PH', 'PL', 'PS', 'PT', 'PY', 'QA', 'RO', 'SA', 'SE', 'SG', 'SK', 'SV', 'TH', 'TN', 'TR', 'TW', 'US', 'UY', 'VN', 'ZA'], 'external_urls': {'spotify': 'https://open.spotify.com/album/3cVy1WTjSAVpzUc7MVCTLu'}, 'href': 'https://api.spotify.com/v1/albums/3cVy1WTjSAVpzUc7MVCTLu', 'id': '3cVy1WTjSAVpzUc7MVCTLu', 'images': [{'height': 640, 'url': 'https://i.scdn.co/image/ab67616d0000b273f7571dc32332081426ab3818', 'width': 640}, {'height': 300, 'url': 'https://i.scdn.co/image/ab67616d00001e02f7571dc32332081426ab3818', 'width': 300}, {'height': 64, 'url': 'https://i.scdn.co/image/ab67616d00004851f7571dc32332081426ab3818', 'width': 64}], 'name': 'Riot', 'release_date': '2020-05-13', 'release_date_precision': 'day', 'total_tracks': 1, 'type': 'album', 'uri': 'spotify:album:3cVy1WTjSAVpzUc7MVCTLu'}, {'album_type': 'album', 'artists': [{'external_urls': {'spotify': 'https://open.spotify.com/artist/55fhWPvDiMpLnE4ZzNXZyW'}, 'href': 'https://api.spotify.com/v1/artists/55fhWPvDiMpLnE4ZzNXZyW', 'id': '55fhWPvDiMpLnE4ZzNXZyW', 'name': 'Noah Cyrus', 'type': 'artist', 'uri': 'spotify:artist:55fhWPvDiMpLnE4ZzNXZyW'}], 'available_markets': ['AD', 'AE', 'AR', 'AT', 'AU', 'BE', 'BG', 'BH', 'BO', 'BR', 'CA', 'CH', 'CL', 'CO', 'CR', 'CY', 'CZ', 'DE', 'DK', 'DO', 'DZ', 'EC', 'EE', 'EG', 'ES', 'FI', 'FR', 'GB', 'GR', 'GT', 'HK', 'HN', 'HU', 'ID', 'IE', 'IL', 'IN', 'IS', 'IT', 'JO', 'JP', 'KW', 'LB', 'LI', 'LT', 'LU', 'LV', 'MA', 'MC', 'MT', 'MX', 'MY', 'NI', 'NL', 'NO', 'NZ', 'OM', 'PA', 'PE', 'PH', 'PL', 'PS', 'PT', 'PY', 'QA', 'RO', 'SA', 'SE', 'SG', 'SK', 'SV', 'TH', 'TN', 'TR', 'TW', 'US', 'UY', 'VN', 'ZA'], 'external_urls': {'spotify': 'https://open.spotify.com/album/5Gn3fFzlWL89j0hGumtXb5'}, 'href': 'https://api.spotify.com/v1/albums/5Gn3fFzlWL89j0hGumtXb5', 'id': '5Gn3fFzlWL89j0hGumtXb5', 'images': [{'height': 640, 'url': 'https://i.scdn.co/image/ab67616d0000b2737f66b73bd6e86f4c8d2a7692', 'width': 640}, {'height': 300, 'url': 'https://i.scdn.co/image/ab67616d00001e027f66b73bd6e86f4c8d2a7692', 'width': 300}, {'height': 64, 'url': 'https://i.scdn.co/image/ab67616d000048517f66b73bd6e86f4c8d2a7692', 'width': 64}], 'name': 'THE END OF EVERYTHING', 'release_date': '2020-05-15', 'release_date_precision': 'day', 'total_tracks': 8, 'type': 'album', 'uri': 'spotify:album:5Gn3fFzlWL89j0hGumtXb5'}, {'album_type': 'single', 'artists': [{'external_urls': {'spotify': 'https://open.spotify.com/artist/6C1ohJrd5VydigQtaGy5Wa'}, 'href': 'https://api.spotify.com/v1/artists/6C1ohJrd5VydigQtaGy5Wa', 'id': '6C1ohJrd5VydigQtaGy5Wa', 'name': 'Joyner Lucas', 'type': 'artist', 'uri': 'spotify:artist:6C1ohJrd5VydigQtaGy5Wa'}, {'external_urls': {'spotify': 'https://open.spotify.com/artist/41qil2VaGbD194gaEcmmyx'}, 'href': 'https://api.spotify.com/v1/artists/41qil2VaGbD194gaEcmmyx', 'id': '41qil2VaGbD194gaEcmmyx', 'name': 'Will Smith', 'type': 'artist', 'uri': 'spotify:artist:41qil2VaGbD194gaEcmmyx'}], 'available_markets': ['AD', 'AE', 'AR', 'AT', 'AU', 'BE', 'BG', 'BH', 'BO', 'BR', 'CA', 'CH', 'CL', 'CO', 'CR', 'CY', 'CZ', 'DE', 'DK', 'DO', 'DZ', 'EC', 'EE', 'EG', 'ES', 'FI', 'FR', 'GB', 'GR', 'GT', 'HK', 'HN', 'HU', 'ID', 'IE', 'IL', 'IN', 'IS', 'IT', 'JO', 'JP', 'KW', 'LB', 'LI', 'LT', 'LU', 'LV', 'MA', 'MC', 'MT', 'MX', 'MY', 'NI', 'NL', 'NO', 'NZ', 'OM', 'PA', 'PE', 'PH', 'PL', 'PS', 'PT', 'PY', 'QA', 'RO', 'SA', 'SE', 'SG', 'SK', 'SV', 'TH', 'TN', 'TR', 'TW', 'US', 'UY', 'VN', 'ZA'], 'external_urls': {'spotify': 'https://open.spotify.com/album/3tOe6XM8LmRA5vDAaMqp8e'}, 'href': 'https://api.spotify.com/v1/albums/3tOe6XM8LmRA5vDAaMqp8e', 'id': '3tOe6XM8LmRA5vDAaMqp8e', 'images': [{'height': 640, 'url': 'https://i.scdn.co/image/ab67616d0000b2734ac196312c24faedb76a345e', 'width': 640}, {'height': 300, 'url': 'https://i.scdn.co/image/ab67616d00001e024ac196312c24faedb76a345e', 'width': 300}, {'height': 64, 'url': 'https://i.scdn.co/image/ab67616d000048514ac196312c24faedb76a345e', 'width': 64}], 'name': 'Will (Remix)', 'release_date': '2020-05-15', 'release_date_precision': 'day', 'total_tracks': 1, 'type': 'album', 'uri': 'spotify:album:3tOe6XM8LmRA5vDAaMqp8e'}, {'album_type': 'single', 'artists': [{'external_urls': {'spotify': 'https://open.spotify.com/artist/6Xgp2XMz1fhVYe7i6yNAax'}, 'href': 'https://api.spotify.com/v1/artists/6Xgp2XMz1fhVYe7i6yNAax', 'id': '6Xgp2XMz1fhVYe7i6yNAax', 'name': 'Trippie Redd', 'type': 'artist', 'uri': 'spotify:artist:6Xgp2XMz1fhVYe7i6yNAax'}, {'external_urls': {'spotify': 'https://open.spotify.com/artist/2HPaUgqeutzr3jx5a9WyDV'}, 'href': 'https://api.spotify.com/v1/artists/2HPaUgqeutzr3jx5a9WyDV', 'id': '2HPaUgqeutzr3jx5a9WyDV', 'name': 'PARTYNEXTDOOR', 'type': 'artist', 'uri': 'spotify:artist:2HPaUgqeutzr3jx5a9WyDV'}], 'available_markets': ['AD', 'AE', 'AR', 'AT', 'AU', 'BE', 'BG', 'BH', 'BO', 'BR', 'CA', 'CH', 'CL', 'CO', 'CR', 'CY', 'CZ', 'DE', 'DK', 'DO', 'DZ', 'EC', 'EE', 'EG', 'ES', 'FI', 'FR', 'GB', 'GR', 'GT', 'HK', 'HN', 'HU', 'ID', 'IE', 'IL', 'IN', 'IS', 'IT', 'JO', 'JP', 'KW', 'LB', 'LI', 'LT', 'LU', 'LV', 'MA', 'MC', 'MT', 'MX', 'MY', 'NI', 'NL', 'NO', 'NZ', 'OM', 'PA', 'PE', 'PH', 'PL', 'PS', 'PT', 'PY', 'QA', 'RO', 'SA', 'SE', 'SG', 'SK', 'SV', 'TH', 'TN', 'TR', 'TW', 'US', 'UY', 'VN', 'ZA'], 'external_urls': {'spotify': 'https://open.spotify.com/album/7rcMHNqNbQxF5TaPMHFoKu'}, 'href': 'https://api.spotify.com/v1/albums/7rcMHNqNbQxF5TaPMHFoKu', 'id': '7rcMHNqNbQxF5TaPMHFoKu', 'images': [{'height': 640, 'url': 'https://i.scdn.co/image/ab67616d0000b273de32a6662a7db272328f4761', 'width': 640}, {'height': 300, 'url': 'https://i.scdn.co/image/ab67616d00001e02de32a6662a7db272328f4761', 'width': 300}, {'height': 64, 'url': 'https://i.scdn.co/image/ab67616d00004851de32a6662a7db272328f4761', 'width': 64}], 'name': 'Excitement', 'release_date': '2020-05-15', 'release_date_precision': 'day', 'total_tracks': 1, 'type': 'album', 'uri': 'spotify:album:7rcMHNqNbQxF5TaPMHFoKu'}, {'album_type': 'single', 'artists': [{'external_urls': {'spotify': 'https://open.spotify.com/artist/3NPpFNZtSTHheNBaWC82rB'}, 'href': 'https://api.spotify.com/v1/artists/3NPpFNZtSTHheNBaWC82rB', 'id': '3NPpFNZtSTHheNBaWC82rB', 'name': 'X Ambassadors', 'type': 'artist', 'uri': 'spotify:artist:3NPpFNZtSTHheNBaWC82rB'}, {'external_urls': {'spotify': 'https://open.spotify.com/artist/0pCNk4D3E2xtszsm6hMsWr'}, 'href': 'https://api.spotify.com/v1/artists/0pCNk4D3E2xtszsm6hMsWr', 'id': '0pCNk4D3E2xtszsm6hMsWr', 'name': 'K.Flay', 'type': 'artist', 'uri': 'spotify:artist:0pCNk4D3E2xtszsm6hMsWr'}, {'external_urls': {'spotify': 'https://open.spotify.com/artist/4ZgQDCtRqZlhLswVS6MHN4'}, 'href': 'https://api.spotify.com/v1/artists/4ZgQDCtRqZlhLswVS6MHN4', 'id': '4ZgQDCtRqZlhLswVS6MHN4', 'name': 'grandson', 'type': 'artist', 'uri': 'spotify:artist:4ZgQDCtRqZlhLswVS6MHN4'}], 'available_markets': ['AD', 'AE', 'AR', 'AT', 'AU', 'BE', 'BG', 'BH', 'BO', 'BR', 'CA', 'CH', 'CL', 'CO', 'CR', 'CY', 'CZ', 'DE', 'DK', 'DO', 'DZ', 'EC', 'EE', 'EG', 'ES', 'FI', 'FR', 'GB', 'GR', 'GT', 'HK', 'HN', 'HU', 'ID', 'IE', 'IL', 'IN', 'IS', 'IT', 'JO', 'JP', 'KW', 'LB', 'LI', 'LT', 'LU', 'LV', 'MA', 'MC', 'MT', 'MX', 'MY', 'NI', 'NL', 'NO', 'NZ', 'OM', 'PA', 'PE', 'PH', 'PL', 'PS', 'PT', 'PY', 'QA', 'RO', 'SA', 'SE', 'SG', 'SK', 'SV', 'TH', 'TN', 'TR', 'TW', 'US', 'UY', 'VN', 'ZA'], 'external_urls': {'spotify': 'https://open.spotify.com/album/2JQbWWpYG6kKppiD6z2FwL'}, 'href': 'https://api.spotify.com/v1/albums/2JQbWWpYG6kKppiD6z2FwL', 'id': '2JQbWWpYG6kKppiD6z2FwL', 'images': [{'height': 640, 'url': 'https://i.scdn.co/image/ab67616d0000b273e420fab8e9ec9cf79c073a28', 'width': 640}, {'height': 300, 'url': 'https://i.scdn.co/image/ab67616d00001e02e420fab8e9ec9cf79c073a28', 'width': 300}, {'height': 64, 'url': 'https://i.scdn.co/image/ab67616d00004851e420fab8e9ec9cf79c073a28', 'width': 64}], 'name': 'Zen (with K.Flay & grandson)', 'release_date': '2020-05-15', 'release_date_precision': 'day', 'total_tracks': 1, 'type': 'album', 'uri': 'spotify:album:2JQbWWpYG6kKppiD6z2FwL'}], 'limit': 20, 'next': 'https://api.spotify.com/v1/browse/new-releases?offset=20&limit=20', 'offset': 0, 'previous': None, 'total': 100}}\n"
     ]
    }
   ],
   "source": [
    "## This will look messy\n",
    "print(data)"
   ]
  },
  {
   "cell_type": "code",
   "execution_count": 4,
   "metadata": {
    "hidden": true,
    "slideshow": {
     "slide_type": "slide"
    }
   },
   "outputs": [
    {
     "name": "stdout",
     "output_type": "stream",
     "text": [
      "{\n",
      "    \"albums\": {\n",
      "        \"href\": \"https://api.spotify.com/v1/browse/new-releases?offset=0&limit=20\",\n",
      "        \"items\": [\n",
      "            {\n",
      "                \"album_type\": \"album\",\n",
      "                \"artists\": [\n",
      "                    {\n",
      "                        \"external_urls\": {\n",
      "                            \"spotify\": \"https://open.spotify.com/artist/1RyvyyTE3xzB2ZywiAwp0i\"\n",
      "                        },\n",
      "                        \"href\": \"https://api.spotify.com/v1/artists/1RyvyyTE3xzB2ZywiAwp0i\",\n",
      "                        \"id\": \"1RyvyyTE3xzB2ZywiAwp0i\",\n",
      "                        \"name\": \"Future\",\n",
      "                        \"type\": \"artist\",\n",
      "                        \"uri\": \"spotify:artist:1RyvyyTE3xzB2ZywiAwp0i\"\n",
      "                    }\n",
      "                ],\n",
      "                \"available_markets\": [\n",
      "                    \"AD\",\n",
      "                    \"AE\",\n",
      "                    \"AR\",\n",
      "                    \"AT\",\n",
      "                    \"AU\",\n",
      "                    \"BE\",\n",
      "                    \"BG\",\n",
      "                    \"BH\",\n",
      "                    \"BO\",\n",
      "                    \"BR\",\n",
      "                    \"CA\",\n",
      "                    \"CH\",\n",
      "                    \"CL\",\n",
      "                    \"CO\",\n",
      "                    \"CR\",\n",
      "                    \"CY\",\n",
      "                    \"CZ\",\n",
      "                    \"DE\",\n",
      "                    \"DK\",\n",
      "                    \"DO\",\n",
      "                    \"DZ\",\n",
      "                    \"EC\",\n",
      "                    \"EE\",\n",
      "                    \"EG\",\n",
      "                    \"ES\",\n",
      "                    \"FI\",\n",
      "                    \"FR\",\n",
      "                    \"GB\",\n",
      "                    \"GR\",\n",
      "                    \"GT\",\n",
      "                    \"HK\",\n",
      "                    \"HN\",\n",
      "                    \"HU\",\n",
      "                    \"ID\",\n",
      "                    \"IE\",\n",
      "                    \"IL\",\n",
      "                    \"IN\",\n",
      "                    \"IS\",\n",
      "                    \"IT\",\n",
      "                    \"JO\",\n",
      "                    \"JP\",\n",
      "                    \"KW\",\n",
      "                    \"LB\",\n",
      "                    \"LI\",\n",
      "                    \"LT\",\n",
      "                    \"LU\",\n",
      "                    \"LV\",\n",
      "                    \"MA\",\n",
      "                    \"MC\",\n",
      "                    \"MT\",\n",
      "                    \"MX\",\n",
      "                    \"MY\",\n",
      "                    \"NI\",\n",
      "                    \"NL\",\n",
      "                    \"NO\",\n",
      "                    \"NZ\",\n",
      "                    \"OM\",\n",
      "                    \"PA\",\n",
      "                    \"PE\",\n",
      "                    \"PH\",\n",
      "                    \"PL\",\n",
      "                    \"PS\",\n",
      "                    \"PT\",\n",
      "                    \"PY\",\n",
      "                    \"QA\",\n",
      "                    \"RO\",\n",
      "                    \"SA\",\n",
      "                    \"SE\",\n",
      "                    \"SG\",\n",
      "                    \"SK\",\n",
      "                    \"SV\",\n",
      "                    \"TH\",\n",
      "                    \"TN\",\n",
      "                    \"TR\",\n",
      "                    \"TW\",\n",
      "                    \"US\",\n",
      "                    \"UY\",\n",
      "                    \"VN\",\n",
      "                    \"ZA\"\n",
      "                ],\n",
      "                \"external_urls\": {\n",
      "                    \"spotify\": \"https://open.spotify.com/album/4bNPOFOzxGhF5jhfIK6lit\"\n",
      "                },\n",
      "                \"href\": \"https://api.spotify.com/v1/albums/4bNPOFOzxGhF5jhfIK6lit\",\n",
      "                \"id\": \"4bNPOFOzxGhF5jhfIK6lit\",\n",
      "                \"images\": [\n",
      "                    {\n",
      "                        \"height\": 640,\n",
      "                        \"url\": \"https://i.scdn.co/image/ab67616d0000b273935d8d5369bc55e74a39303e\",\n",
      "                        \"width\": 640\n",
      "                    },\n",
      "                    {\n",
      "                        \"height\": 300,\n",
      "                        \"url\": \"https://i.scdn.co/image/ab67616d00001e02935d8d5369bc55e74a39303e\",\n",
      "                        \"width\": 300\n",
      "                    },\n",
      "                    {\n",
      "                        \"height\": 64,\n",
      "                        \"url\": \"https://i.scdn.co/image/ab67616d00004851935d8d5369bc55e74a39303e\",\n",
      "                        \"width\": 64\n",
      "                    }\n",
      "                ],\n",
      "                \"name\": \"High Off Life\",\n",
      "                \"release_date\": \"2020-05-15\",\n",
      "                \"release_date_precision\": \"day\",\n",
      "                \"total_tracks\": 21,\n",
      "                \"type\": \"album\",\n",
      "                \"uri\": \"spotify:album:4bNPOFOzxGhF5jhfIK6lit\"\n",
      "            },\n",
      "            {\n",
      "                \"album_type\": \"single\",\n",
      "                \"artists\": [\n",
      "                    {\n",
      "                        \"external_urls\": {\n",
      "                            \"spotify\": \"https://open.spotify.com/artist/23fqKkggKUBHNkbKtXEls4\"\n",
      "                        },\n",
      "                        \"href\": \"https://api.spotify.com/v1/artists/23fqKkggKUBHNkbKtXEls4\",\n",
      "                        \"id\": \"23fqKkggKUBHNkbKtXEls4\",\n",
      "                        \"name\": \"Kygo\",\n",
      "                        \"type\": \"artist\",\n",
      "                        \"uri\": \"spotify:artist:23fqKkggKUBHNkbKtXEls4\"\n",
      "                    },\n",
      "                    {\n",
      "                        \"external_urls\": {\n",
      "                            \"spotify\": \"https://open.spotify.com/artist/5Pwc4xIPtQLFEnJriah9YJ\"\n",
      "                        },\n",
      "                        \"href\": \"https://api.spotify.com/v1/artists/5Pwc4xIPtQLFEnJriah9YJ\",\n",
      "                        \"id\": \"5Pwc4xIPtQLFEnJriah9YJ\",\n",
      "                        \"name\": \"OneRepublic\",\n",
      "                        \"type\": \"artist\",\n",
      "                        \"uri\": \"spotify:artist:5Pwc4xIPtQLFEnJriah9YJ\"\n",
      "                    }\n",
      "                ],\n",
      "                \"available_markets\": [\n",
      "                    \"AD\",\n",
      "                    \"AE\",\n",
      "                    \"AR\",\n",
      "                    \"AT\",\n",
      "                    \"AU\",\n",
      "                    \"BE\",\n",
      "                    \"BG\",\n",
      "                    \"BH\",\n",
      "                    \"BO\",\n",
      "                    \"BR\",\n",
      "                    \"CA\",\n",
      "                    \"CH\",\n",
      "                    \"CL\",\n",
      "                    \"CO\",\n",
      "                    \"CR\",\n",
      "                    \"CY\",\n",
      "                    \"CZ\",\n",
      "                    \"DE\",\n",
      "                    \"DK\",\n",
      "                    \"DO\",\n",
      "                    \"DZ\",\n",
      "                    \"EC\",\n",
      "                    \"EE\",\n",
      "                    \"EG\",\n",
      "                    \"ES\",\n",
      "                    \"FI\",\n",
      "                    \"FR\",\n",
      "                    \"GB\",\n",
      "                    \"GR\",\n",
      "                    \"GT\",\n",
      "                    \"HK\",\n",
      "                    \"HN\",\n",
      "                    \"HU\",\n",
      "                    \"ID\",\n",
      "                    \"IE\",\n",
      "                    \"IL\",\n",
      "                    \"IN\",\n",
      "                    \"IS\",\n",
      "                    \"IT\",\n",
      "                    \"JO\",\n",
      "                    \"JP\",\n",
      "                    \"KW\",\n",
      "                    \"LB\",\n",
      "                    \"LI\",\n",
      "                    \"LT\",\n",
      "                    \"LU\",\n",
      "                    \"LV\",\n",
      "                    \"MA\",\n",
      "                    \"MC\",\n",
      "                    \"MT\",\n",
      "                    \"MX\",\n",
      "                    \"MY\",\n",
      "                    \"NI\",\n",
      "                    \"NL\",\n",
      "                    \"NO\",\n",
      "                    \"NZ\",\n",
      "                    \"OM\",\n",
      "                    \"PA\",\n",
      "                    \"PE\",\n",
      "                    \"PH\",\n",
      "                    \"PL\",\n",
      "                    \"PS\",\n",
      "                    \"PT\",\n",
      "                    \"PY\",\n",
      "                    \"QA\",\n",
      "                    \"RO\",\n",
      "                    \"SA\",\n",
      "                    \"SE\",\n",
      "                    \"SG\",\n",
      "                    \"SK\",\n",
      "                    \"SV\",\n",
      "                    \"TH\",\n",
      "                    \"TN\",\n",
      "                    \"TR\",\n",
      "                    \"TW\",\n",
      "                    \"US\",\n",
      "                    \"UY\",\n",
      "                    \"VN\",\n",
      "                    \"ZA\"\n",
      "                ],\n",
      "                \"external_urls\": {\n",
      "                    \"spotify\": \"https://open.spotify.com/album/3LhriqAiHJYw7rxvtlkvQc\"\n",
      "                },\n",
      "                \"href\": \"https://api.spotify.com/v1/albums/3LhriqAiHJYw7rxvtlkvQc\",\n",
      "                \"id\": \"3LhriqAiHJYw7rxvtlkvQc\",\n",
      "                \"images\": [\n",
      "                    {\n",
      "                        \"height\": 640,\n",
      "                        \"url\": \"https://i.scdn.co/image/ab67616d0000b273479856767f92aab97c956704\",\n",
      "                        \"width\": 640\n",
      "                    },\n",
      "                    {\n",
      "                        \"height\": 300,\n",
      "                        \"url\": \"https://i.scdn.co/image/ab67616d00001e02479856767f92aab97c956704\",\n",
      "                        \"width\": 300\n",
      "                    },\n",
      "                    {\n",
      "                        \"height\": 64,\n",
      "                        \"url\": \"https://i.scdn.co/image/ab67616d00004851479856767f92aab97c956704\",\n",
      "                        \"width\": 64\n",
      "                    }\n",
      "                ],\n",
      "                \"name\": \"Lose Somebody\",\n",
      "                \"release_date\": \"2020-05-15\",\n",
      "                \"release_date_precision\": \"day\",\n",
      "                \"total_tracks\": 1,\n",
      "                \"type\": \"album\",\n",
      "                \"uri\": \"spotify:album:3LhriqAiHJYw7rxvtlkvQc\"\n",
      "            },\n",
      "            {\n",
      "                \"album_type\": \"album\",\n",
      "                \"artists\": [\n",
      "                    {\n",
      "                        \"external_urls\": {\n",
      "                            \"spotify\": \"https://open.spotify.com/artist/0LyfQWJT6nXafLPZqxe9Of\"\n",
      "                        },\n",
      "                        \"href\": \"https://api.spotify.com/v1/artists/0LyfQWJT6nXafLPZqxe9Of\",\n",
      "                        \"id\": \"0LyfQWJT6nXafLPZqxe9Of\",\n",
      "                        \"name\": \"Various Artists\",\n",
      "                        \"type\": \"artist\",\n",
      "                        \"uri\": \"spotify:artist:0LyfQWJT6nXafLPZqxe9Of\"\n",
      "                    }\n",
      "                ],\n",
      "                \"available_markets\": [\n",
      "                    \"AD\",\n",
      "                    \"AE\",\n",
      "                    \"AR\",\n",
      "                    \"AT\",\n",
      "                    \"AU\",\n",
      "                    \"BE\",\n",
      "                    \"BG\",\n",
      "                    \"BH\",\n",
      "                    \"BO\",\n",
      "                    \"BR\",\n",
      "                    \"CA\",\n",
      "                    \"CH\",\n",
      "                    \"CL\",\n",
      "                    \"CO\",\n",
      "                    \"CR\",\n",
      "                    \"CY\",\n",
      "                    \"CZ\",\n",
      "                    \"DE\",\n",
      "                    \"DK\",\n",
      "                    \"DO\",\n",
      "                    \"DZ\",\n",
      "                    \"EC\",\n",
      "                    \"EE\",\n",
      "                    \"EG\",\n",
      "                    \"ES\",\n",
      "                    \"FI\",\n",
      "                    \"FR\",\n",
      "                    \"GB\",\n",
      "                    \"GR\",\n",
      "                    \"GT\",\n",
      "                    \"HK\",\n",
      "                    \"HN\",\n",
      "                    \"HU\",\n",
      "                    \"ID\",\n",
      "                    \"IE\",\n",
      "                    \"IL\",\n",
      "                    \"IN\",\n",
      "                    \"IS\",\n",
      "                    \"IT\",\n",
      "                    \"JO\",\n",
      "                    \"JP\",\n",
      "                    \"KW\",\n",
      "                    \"LB\",\n",
      "                    \"LI\",\n",
      "                    \"LT\",\n",
      "                    \"LU\",\n",
      "                    \"LV\",\n",
      "                    \"MA\",\n",
      "                    \"MC\",\n",
      "                    \"MT\",\n",
      "                    \"MX\",\n",
      "                    \"MY\",\n",
      "                    \"NI\",\n",
      "                    \"NL\",\n",
      "                    \"NO\",\n",
      "                    \"NZ\",\n",
      "                    \"OM\",\n",
      "                    \"PA\",\n",
      "                    \"PE\",\n",
      "                    \"PH\",\n",
      "                    \"PL\",\n",
      "                    \"PS\",\n",
      "                    \"PT\",\n",
      "                    \"PY\",\n",
      "                    \"QA\",\n",
      "                    \"RO\",\n",
      "                    \"SA\",\n",
      "                    \"SE\",\n",
      "                    \"SG\",\n",
      "                    \"SK\",\n",
      "                    \"SV\",\n",
      "                    \"TH\",\n",
      "                    \"TN\",\n",
      "                    \"TR\",\n",
      "                    \"TW\",\n",
      "                    \"US\",\n",
      "                    \"UY\",\n",
      "                    \"VN\",\n",
      "                    \"ZA\"\n",
      "                ],\n",
      "                \"external_urls\": {\n",
      "                    \"spotify\": \"https://open.spotify.com/album/2Zg5xZo3WwIoAZys8OcUpG\"\n",
      "                },\n",
      "                \"href\": \"https://api.spotify.com/v1/albums/2Zg5xZo3WwIoAZys8OcUpG\",\n",
      "                \"id\": \"2Zg5xZo3WwIoAZys8OcUpG\",\n",
      "                \"images\": [\n",
      "                    {\n",
      "                        \"height\": 640,\n",
      "                        \"url\": \"https://i.scdn.co/image/ab67616d0000b2732e819e33b9703a8b3fc85a35\",\n",
      "                        \"width\": 640\n",
      "                    },\n",
      "                    {\n",
      "                        \"height\": 300,\n",
      "                        \"url\": \"https://i.scdn.co/image/ab67616d00001e022e819e33b9703a8b3fc85a35\",\n",
      "                        \"width\": 300\n",
      "                    },\n",
      "                    {\n",
      "                        \"height\": 64,\n",
      "                        \"url\": \"https://i.scdn.co/image/ab67616d000048512e819e33b9703a8b3fc85a35\",\n",
      "                        \"width\": 64\n",
      "                    }\n",
      "                ],\n",
      "                \"name\": \"SCOOB! The Album\",\n",
      "                \"release_date\": \"2020-05-15\",\n",
      "                \"release_date_precision\": \"day\",\n",
      "                \"total_tracks\": 12,\n",
      "                \"type\": \"album\",\n",
      "                \"uri\": \"spotify:album:2Zg5xZo3WwIoAZys8OcUpG\"\n",
      "            },\n",
      "            {\n",
      "                \"album_type\": \"single\",\n",
      "                \"artists\": [\n",
      "                    {\n",
      "                        \"external_urls\": {\n",
      "                            \"spotify\": \"https://open.spotify.com/artist/6jJ0s89eD6GaHleKKya26X\"\n",
      "                        },\n",
      "                        \"href\": \"https://api.spotify.com/v1/artists/6jJ0s89eD6GaHleKKya26X\",\n",
      "                        \"id\": \"6jJ0s89eD6GaHleKKya26X\",\n",
      "                        \"name\": \"Katy Perry\",\n",
      "                        \"type\": \"artist\",\n",
      "                        \"uri\": \"spotify:artist:6jJ0s89eD6GaHleKKya26X\"\n",
      "                    }\n",
      "                ],\n",
      "                \"available_markets\": [\n",
      "                    \"AD\",\n",
      "                    \"AE\",\n",
      "                    \"AR\",\n",
      "                    \"AT\",\n",
      "                    \"AU\",\n",
      "                    \"BE\",\n",
      "                    \"BG\",\n",
      "                    \"BH\",\n",
      "                    \"BO\",\n",
      "                    \"BR\",\n",
      "                    \"CA\",\n",
      "                    \"CH\",\n",
      "                    \"CL\",\n",
      "                    \"CO\",\n",
      "                    \"CR\",\n",
      "                    \"CY\",\n",
      "                    \"CZ\",\n",
      "                    \"DE\",\n",
      "                    \"DK\",\n",
      "                    \"DO\",\n",
      "                    \"DZ\",\n",
      "                    \"EC\",\n",
      "                    \"EE\",\n",
      "                    \"EG\",\n",
      "                    \"ES\",\n",
      "                    \"FI\",\n",
      "                    \"FR\",\n",
      "                    \"GB\",\n",
      "                    \"GR\",\n",
      "                    \"GT\",\n",
      "                    \"HK\",\n",
      "                    \"HN\",\n",
      "                    \"HU\",\n",
      "                    \"ID\",\n",
      "                    \"IE\",\n",
      "                    \"IL\",\n",
      "                    \"IN\",\n",
      "                    \"IS\",\n",
      "                    \"IT\",\n",
      "                    \"JO\",\n",
      "                    \"JP\",\n",
      "                    \"KW\",\n",
      "                    \"LB\",\n",
      "                    \"LI\",\n",
      "                    \"LT\",\n",
      "                    \"LU\",\n",
      "                    \"LV\",\n",
      "                    \"MA\",\n",
      "                    \"MC\",\n",
      "                    \"MT\",\n",
      "                    \"MX\",\n",
      "                    \"MY\",\n",
      "                    \"NI\",\n",
      "                    \"NL\",\n",
      "                    \"NO\",\n",
      "                    \"NZ\",\n",
      "                    \"OM\",\n",
      "                    \"PA\",\n",
      "                    \"PE\",\n",
      "                    \"PH\",\n",
      "                    \"PL\",\n",
      "                    \"PS\",\n",
      "                    \"PT\",\n",
      "                    \"PY\",\n",
      "                    \"QA\",\n",
      "                    \"RO\",\n",
      "                    \"SA\",\n",
      "                    \"SE\",\n",
      "                    \"SG\",\n",
      "                    \"SK\",\n",
      "                    \"SV\",\n",
      "                    \"TH\",\n",
      "                    \"TN\",\n",
      "                    \"TR\",\n",
      "                    \"TW\",\n",
      "                    \"US\",\n",
      "                    \"UY\",\n",
      "                    \"VN\",\n",
      "                    \"ZA\"\n",
      "                ],\n",
      "                \"external_urls\": {\n",
      "                    \"spotify\": \"https://open.spotify.com/album/2m5J1DUH7hJpPSOromIqpN\"\n",
      "                },\n",
      "                \"href\": \"https://api.spotify.com/v1/albums/2m5J1DUH7hJpPSOromIqpN\",\n",
      "                \"id\": \"2m5J1DUH7hJpPSOromIqpN\",\n",
      "                \"images\": [\n",
      "                    {\n",
      "                        \"height\": 640,\n",
      "                        \"url\": \"https://i.scdn.co/image/ab67616d0000b2738df6751bad8ab6b5c928dba3\",\n",
      "                        \"width\": 640\n",
      "                    },\n",
      "                    {\n",
      "                        \"height\": 300,\n",
      "                        \"url\": \"https://i.scdn.co/image/ab67616d00001e028df6751bad8ab6b5c928dba3\",\n",
      "                        \"width\": 300\n",
      "                    },\n",
      "                    {\n",
      "                        \"height\": 64,\n",
      "                        \"url\": \"https://i.scdn.co/image/ab67616d000048518df6751bad8ab6b5c928dba3\",\n",
      "                        \"width\": 64\n",
      "                    }\n",
      "                ],\n",
      "                \"name\": \"Daisies\",\n",
      "                \"release_date\": \"2020-05-15\",\n",
      "                \"release_date_precision\": \"day\",\n",
      "                \"total_tracks\": 1,\n",
      "                \"type\": \"album\",\n",
      "                \"uri\": \"spotify:album:2m5J1DUH7hJpPSOromIqpN\"\n",
      "            },\n",
      "            {\n",
      "                \"album_type\": \"album\",\n",
      "                \"artists\": [\n",
      "                    {\n",
      "                        \"external_urls\": {\n",
      "                            \"spotify\": \"https://open.spotify.com/artist/6AgTAQt8XS6jRWi4sX7w49\"\n",
      "                        },\n",
      "                        \"href\": \"https://api.spotify.com/v1/artists/6AgTAQt8XS6jRWi4sX7w49\",\n",
      "                        \"id\": \"6AgTAQt8XS6jRWi4sX7w49\",\n",
      "                        \"name\": \"Polo G\",\n",
      "                        \"type\": \"artist\",\n",
      "                        \"uri\": \"spotify:artist:6AgTAQt8XS6jRWi4sX7w49\"\n",
      "                    }\n",
      "                ],\n",
      "                \"available_markets\": [\n",
      "                    \"AD\",\n",
      "                    \"AE\",\n",
      "                    \"AR\",\n",
      "                    \"AT\",\n",
      "                    \"AU\",\n",
      "                    \"BE\",\n",
      "                    \"BG\",\n",
      "                    \"BH\",\n",
      "                    \"BO\",\n",
      "                    \"BR\",\n",
      "                    \"CA\",\n",
      "                    \"CH\",\n",
      "                    \"CL\",\n",
      "                    \"CO\",\n",
      "                    \"CR\",\n",
      "                    \"CY\",\n",
      "                    \"CZ\",\n",
      "                    \"DE\",\n",
      "                    \"DK\",\n",
      "                    \"DO\",\n",
      "                    \"DZ\",\n",
      "                    \"EC\",\n",
      "                    \"EE\",\n",
      "                    \"EG\",\n",
      "                    \"ES\",\n",
      "                    \"FI\",\n",
      "                    \"FR\",\n",
      "                    \"GB\",\n",
      "                    \"GR\",\n",
      "                    \"GT\",\n",
      "                    \"HK\",\n",
      "                    \"HN\",\n",
      "                    \"HU\",\n",
      "                    \"ID\",\n",
      "                    \"IE\",\n",
      "                    \"IL\",\n",
      "                    \"IN\",\n",
      "                    \"IS\",\n",
      "                    \"IT\",\n",
      "                    \"JO\",\n",
      "                    \"JP\",\n",
      "                    \"KW\",\n",
      "                    \"LB\",\n",
      "                    \"LI\",\n",
      "                    \"LT\",\n",
      "                    \"LU\",\n",
      "                    \"LV\",\n",
      "                    \"MA\",\n",
      "                    \"MC\",\n",
      "                    \"MT\",\n",
      "                    \"MX\",\n",
      "                    \"MY\",\n",
      "                    \"NI\",\n",
      "                    \"NL\",\n",
      "                    \"NO\",\n",
      "                    \"NZ\",\n",
      "                    \"OM\",\n",
      "                    \"PA\",\n",
      "                    \"PE\",\n",
      "                    \"PH\",\n",
      "                    \"PL\",\n",
      "                    \"PS\",\n",
      "                    \"PT\",\n",
      "                    \"PY\",\n",
      "                    \"QA\",\n",
      "                    \"RO\",\n",
      "                    \"SA\",\n",
      "                    \"SE\",\n",
      "                    \"SG\",\n",
      "                    \"SK\",\n",
      "                    \"SV\",\n",
      "                    \"TH\",\n",
      "                    \"TN\",\n",
      "                    \"TR\",\n",
      "                    \"TW\",\n",
      "                    \"US\",\n",
      "                    \"UY\",\n",
      "                    \"VN\",\n",
      "                    \"ZA\"\n",
      "                ],\n",
      "                \"external_urls\": {\n",
      "                    \"spotify\": \"https://open.spotify.com/album/39xhYyNNDatQtgKw2KdXMz\"\n",
      "                },\n",
      "                \"href\": \"https://api.spotify.com/v1/albums/39xhYyNNDatQtgKw2KdXMz\",\n",
      "                \"id\": \"39xhYyNNDatQtgKw2KdXMz\",\n",
      "                \"images\": [\n",
      "                    {\n",
      "                        \"height\": 640,\n",
      "                        \"url\": \"https://i.scdn.co/image/ab67616d0000b273339f780dfdbc38558ea0761d\",\n",
      "                        \"width\": 640\n",
      "                    },\n",
      "                    {\n",
      "                        \"height\": 300,\n",
      "                        \"url\": \"https://i.scdn.co/image/ab67616d00001e02339f780dfdbc38558ea0761d\",\n",
      "                        \"width\": 300\n",
      "                    },\n",
      "                    {\n",
      "                        \"height\": 64,\n",
      "                        \"url\": \"https://i.scdn.co/image/ab67616d00004851339f780dfdbc38558ea0761d\",\n",
      "                        \"width\": 64\n",
      "                    }\n",
      "                ],\n",
      "                \"name\": \"THE GOAT\",\n",
      "                \"release_date\": \"2020-05-15\",\n",
      "                \"release_date_precision\": \"day\",\n",
      "                \"total_tracks\": 16,\n",
      "                \"type\": \"album\",\n",
      "                \"uri\": \"spotify:album:39xhYyNNDatQtgKw2KdXMz\"\n",
      "            },\n",
      "            {\n",
      "                \"album_type\": \"single\",\n",
      "                \"artists\": [\n",
      "                    {\n",
      "                        \"external_urls\": {\n",
      "                            \"spotify\": \"https://open.spotify.com/artist/7gOdHgIoIKoe4i9Tta6qdD\"\n",
      "                        },\n",
      "                        \"href\": \"https://api.spotify.com/v1/artists/7gOdHgIoIKoe4i9Tta6qdD\",\n",
      "                        \"id\": \"7gOdHgIoIKoe4i9Tta6qdD\",\n",
      "                        \"name\": \"Jonas Brothers\",\n",
      "                        \"type\": \"artist\",\n",
      "                        \"uri\": \"spotify:artist:7gOdHgIoIKoe4i9Tta6qdD\"\n",
      "                    },\n",
      "                    {\n",
      "                        \"external_urls\": {\n",
      "                            \"spotify\": \"https://open.spotify.com/artist/790FomKkXshlbRYZFtlgla\"\n",
      "                        },\n",
      "                        \"href\": \"https://api.spotify.com/v1/artists/790FomKkXshlbRYZFtlgla\",\n",
      "                        \"id\": \"790FomKkXshlbRYZFtlgla\",\n",
      "                        \"name\": \"KAROL G\",\n",
      "                        \"type\": \"artist\",\n",
      "                        \"uri\": \"spotify:artist:790FomKkXshlbRYZFtlgla\"\n",
      "                    }\n",
      "                ],\n",
      "                \"available_markets\": [\n",
      "                    \"AD\",\n",
      "                    \"AE\",\n",
      "                    \"AR\",\n",
      "                    \"AT\",\n",
      "                    \"AU\",\n",
      "                    \"BE\",\n",
      "                    \"BG\",\n",
      "                    \"BH\",\n",
      "                    \"BO\",\n",
      "                    \"BR\",\n",
      "                    \"CA\",\n",
      "                    \"CH\",\n",
      "                    \"CL\",\n",
      "                    \"CO\",\n",
      "                    \"CR\",\n",
      "                    \"CY\",\n",
      "                    \"CZ\",\n",
      "                    \"DE\",\n",
      "                    \"DK\",\n",
      "                    \"DO\",\n",
      "                    \"DZ\",\n",
      "                    \"EC\",\n",
      "                    \"EE\",\n",
      "                    \"EG\",\n",
      "                    \"ES\",\n",
      "                    \"FI\",\n",
      "                    \"FR\",\n",
      "                    \"GB\",\n",
      "                    \"GR\",\n",
      "                    \"GT\",\n",
      "                    \"HK\",\n",
      "                    \"HN\",\n",
      "                    \"HU\",\n",
      "                    \"ID\",\n",
      "                    \"IE\",\n",
      "                    \"IL\",\n",
      "                    \"IN\",\n",
      "                    \"IS\",\n",
      "                    \"IT\",\n",
      "                    \"JO\",\n",
      "                    \"JP\",\n",
      "                    \"KW\",\n",
      "                    \"LB\",\n",
      "                    \"LI\",\n",
      "                    \"LT\",\n",
      "                    \"LU\",\n",
      "                    \"LV\",\n",
      "                    \"MA\",\n",
      "                    \"MC\",\n",
      "                    \"MT\",\n",
      "                    \"MX\",\n",
      "                    \"MY\",\n",
      "                    \"NI\",\n",
      "                    \"NL\",\n",
      "                    \"NO\",\n",
      "                    \"NZ\",\n",
      "                    \"OM\",\n",
      "                    \"PA\",\n",
      "                    \"PE\",\n",
      "                    \"PH\",\n",
      "                    \"PL\",\n",
      "                    \"PS\",\n",
      "                    \"PT\",\n",
      "                    \"PY\",\n",
      "                    \"QA\",\n",
      "                    \"RO\",\n",
      "                    \"SA\",\n",
      "                    \"SE\",\n",
      "                    \"SG\",\n",
      "                    \"SK\",\n",
      "                    \"SV\",\n",
      "                    \"TH\",\n",
      "                    \"TN\",\n",
      "                    \"TR\",\n",
      "                    \"TW\",\n",
      "                    \"US\",\n",
      "                    \"UY\",\n",
      "                    \"VN\",\n",
      "                    \"ZA\"\n",
      "                ],\n",
      "                \"external_urls\": {\n",
      "                    \"spotify\": \"https://open.spotify.com/album/0i96PtPJV65ddxsfMfo45F\"\n",
      "                },\n",
      "                \"href\": \"https://api.spotify.com/v1/albums/0i96PtPJV65ddxsfMfo45F\",\n",
      "                \"id\": \"0i96PtPJV65ddxsfMfo45F\",\n",
      "                \"images\": [\n",
      "                    {\n",
      "                        \"height\": 640,\n",
      "                        \"url\": \"https://i.scdn.co/image/ab67616d0000b2733b3cd45dfa6f779c01d63fdb\",\n",
      "                        \"width\": 640\n",
      "                    },\n",
      "                    {\n",
      "                        \"height\": 300,\n",
      "                        \"url\": \"https://i.scdn.co/image/ab67616d00001e023b3cd45dfa6f779c01d63fdb\",\n",
      "                        \"width\": 300\n",
      "                    },\n",
      "                    {\n",
      "                        \"height\": 64,\n",
      "                        \"url\": \"https://i.scdn.co/image/ab67616d000048513b3cd45dfa6f779c01d63fdb\",\n",
      "                        \"width\": 64\n",
      "                    }\n",
      "                ],\n",
      "                \"name\": \"XV\",\n",
      "                \"release_date\": \"2020-05-15\",\n",
      "                \"release_date_precision\": \"day\",\n",
      "                \"total_tracks\": 2,\n",
      "                \"type\": \"album\",\n",
      "                \"uri\": \"spotify:album:0i96PtPJV65ddxsfMfo45F\"\n",
      "            },\n",
      "            {\n",
      "                \"album_type\": \"album\",\n",
      "                \"artists\": [\n",
      "                    {\n",
      "                        \"external_urls\": {\n",
      "                            \"spotify\": \"https://open.spotify.com/artist/25uiPmTg16RbhZWAqwLBy5\"\n",
      "                        },\n",
      "                        \"href\": \"https://api.spotify.com/v1/artists/25uiPmTg16RbhZWAqwLBy5\",\n",
      "                        \"id\": \"25uiPmTg16RbhZWAqwLBy5\",\n",
      "                        \"name\": \"Charli XCX\",\n",
      "                        \"type\": \"artist\",\n",
      "                        \"uri\": \"spotify:artist:25uiPmTg16RbhZWAqwLBy5\"\n",
      "                    }\n",
      "                ],\n",
      "                \"available_markets\": [\n",
      "                    \"AD\",\n",
      "                    \"AE\",\n",
      "                    \"AR\",\n",
      "                    \"AT\",\n",
      "                    \"AU\",\n",
      "                    \"BE\",\n",
      "                    \"BG\",\n",
      "                    \"BH\",\n",
      "                    \"BO\",\n",
      "                    \"BR\",\n",
      "                    \"CA\",\n",
      "                    \"CH\",\n",
      "                    \"CL\",\n",
      "                    \"CO\",\n",
      "                    \"CR\",\n",
      "                    \"CY\",\n",
      "                    \"CZ\",\n",
      "                    \"DE\",\n",
      "                    \"DK\",\n",
      "                    \"DO\",\n",
      "                    \"DZ\",\n",
      "                    \"EC\",\n",
      "                    \"EE\",\n",
      "                    \"EG\",\n",
      "                    \"ES\",\n",
      "                    \"FI\",\n",
      "                    \"FR\",\n",
      "                    \"GB\",\n",
      "                    \"GR\",\n",
      "                    \"GT\",\n",
      "                    \"HK\",\n",
      "                    \"HN\",\n",
      "                    \"HU\",\n",
      "                    \"ID\",\n",
      "                    \"IE\",\n",
      "                    \"IL\",\n",
      "                    \"IN\",\n",
      "                    \"IS\",\n",
      "                    \"IT\",\n",
      "                    \"JO\",\n",
      "                    \"JP\",\n",
      "                    \"KW\",\n",
      "                    \"LB\",\n",
      "                    \"LI\",\n",
      "                    \"LT\",\n",
      "                    \"LU\",\n",
      "                    \"LV\",\n",
      "                    \"MA\",\n",
      "                    \"MC\",\n",
      "                    \"MT\",\n",
      "                    \"MX\",\n",
      "                    \"MY\",\n",
      "                    \"NI\",\n",
      "                    \"NL\",\n",
      "                    \"NO\",\n",
      "                    \"NZ\",\n",
      "                    \"OM\",\n",
      "                    \"PA\",\n",
      "                    \"PE\",\n",
      "                    \"PH\",\n",
      "                    \"PL\",\n",
      "                    \"PS\",\n",
      "                    \"PT\",\n",
      "                    \"PY\",\n",
      "                    \"QA\",\n",
      "                    \"RO\",\n",
      "                    \"SA\",\n",
      "                    \"SE\",\n",
      "                    \"SG\",\n",
      "                    \"SK\",\n",
      "                    \"SV\",\n",
      "                    \"TH\",\n",
      "                    \"TN\",\n",
      "                    \"TR\",\n",
      "                    \"TW\",\n",
      "                    \"US\",\n",
      "                    \"UY\",\n",
      "                    \"VN\",\n",
      "                    \"ZA\"\n",
      "                ],\n",
      "                \"external_urls\": {\n",
      "                    \"spotify\": \"https://open.spotify.com/album/3a9qH2VEsSiOZvMrjaS0Nu\"\n",
      "                },\n",
      "                \"href\": \"https://api.spotify.com/v1/albums/3a9qH2VEsSiOZvMrjaS0Nu\",\n",
      "                \"id\": \"3a9qH2VEsSiOZvMrjaS0Nu\",\n",
      "                \"images\": [\n",
      "                    {\n",
      "                        \"height\": 640,\n",
      "                        \"url\": \"https://i.scdn.co/image/ab67616d0000b273664e38c99d077cc52ab48914\",\n",
      "                        \"width\": 640\n",
      "                    },\n",
      "                    {\n",
      "                        \"height\": 300,\n",
      "                        \"url\": \"https://i.scdn.co/image/ab67616d00001e02664e38c99d077cc52ab48914\",\n",
      "                        \"width\": 300\n",
      "                    },\n",
      "                    {\n",
      "                        \"height\": 64,\n",
      "                        \"url\": \"https://i.scdn.co/image/ab67616d00004851664e38c99d077cc52ab48914\",\n",
      "                        \"width\": 64\n",
      "                    }\n",
      "                ],\n",
      "                \"name\": \"how i'm feeling now\",\n",
      "                \"release_date\": \"2020-05-15\",\n",
      "                \"release_date_precision\": \"day\",\n",
      "                \"total_tracks\": 11,\n",
      "                \"type\": \"album\",\n",
      "                \"uri\": \"spotify:album:3a9qH2VEsSiOZvMrjaS0Nu\"\n",
      "            },\n",
      "            {\n",
      "                \"album_type\": \"single\",\n",
      "                \"artists\": [\n",
      "                    {\n",
      "                        \"external_urls\": {\n",
      "                            \"spotify\": \"https://open.spotify.com/artist/2jku7tDXc6XoB6MO2hFuqg\"\n",
      "                        },\n",
      "                        \"href\": \"https://api.spotify.com/v1/artists/2jku7tDXc6XoB6MO2hFuqg\",\n",
      "                        \"id\": \"2jku7tDXc6XoB6MO2hFuqg\",\n",
      "                        \"name\": \"Tory Lanez\",\n",
      "                        \"type\": \"artist\",\n",
      "                        \"uri\": \"spotify:artist:2jku7tDXc6XoB6MO2hFuqg\"\n",
      "                    }\n",
      "                ],\n",
      "                \"available_markets\": [\n",
      "                    \"AD\",\n",
      "                    \"AE\",\n",
      "                    \"AR\",\n",
      "                    \"AT\",\n",
      "                    \"AU\",\n",
      "                    \"BE\",\n",
      "                    \"BG\",\n",
      "                    \"BH\",\n",
      "                    \"BO\",\n",
      "                    \"BR\",\n",
      "                    \"CH\",\n",
      "                    \"CL\",\n",
      "                    \"CO\",\n",
      "                    \"CR\",\n",
      "                    \"CY\",\n",
      "                    \"CZ\",\n",
      "                    \"DE\",\n",
      "                    \"DK\",\n",
      "                    \"DO\",\n",
      "                    \"DZ\",\n",
      "                    \"EC\",\n",
      "                    \"EE\",\n",
      "                    \"EG\",\n",
      "                    \"ES\",\n",
      "                    \"FI\",\n",
      "                    \"FR\",\n",
      "                    \"GB\",\n",
      "                    \"GR\",\n",
      "                    \"GT\",\n",
      "                    \"HK\",\n",
      "                    \"HN\",\n",
      "                    \"HU\",\n",
      "                    \"ID\",\n",
      "                    \"IE\",\n",
      "                    \"IL\",\n",
      "                    \"IN\",\n",
      "                    \"IS\",\n",
      "                    \"IT\",\n",
      "                    \"JO\",\n",
      "                    \"JP\",\n",
      "                    \"KW\",\n",
      "                    \"LB\",\n",
      "                    \"LI\",\n",
      "                    \"LT\",\n",
      "                    \"LU\",\n",
      "                    \"LV\",\n",
      "                    \"MA\",\n",
      "                    \"MC\",\n",
      "                    \"MT\",\n",
      "                    \"MX\",\n",
      "                    \"MY\",\n",
      "                    \"NI\",\n",
      "                    \"NL\",\n",
      "                    \"NO\",\n",
      "                    \"NZ\",\n",
      "                    \"OM\",\n",
      "                    \"PA\",\n",
      "                    \"PE\",\n",
      "                    \"PH\",\n",
      "                    \"PL\",\n",
      "                    \"PS\",\n",
      "                    \"PT\",\n",
      "                    \"PY\",\n",
      "                    \"QA\",\n",
      "                    \"RO\",\n",
      "                    \"SA\",\n",
      "                    \"SE\",\n",
      "                    \"SG\",\n",
      "                    \"SK\",\n",
      "                    \"SV\",\n",
      "                    \"TH\",\n",
      "                    \"TN\",\n",
      "                    \"TR\",\n",
      "                    \"TW\",\n",
      "                    \"US\",\n",
      "                    \"UY\",\n",
      "                    \"VN\",\n",
      "                    \"ZA\"\n",
      "                ],\n",
      "                \"external_urls\": {\n",
      "                    \"spotify\": \"https://open.spotify.com/album/3lalGt6k7JM3tIji1Xbgmk\"\n",
      "                },\n",
      "                \"href\": \"https://api.spotify.com/v1/albums/3lalGt6k7JM3tIji1Xbgmk\",\n",
      "                \"id\": \"3lalGt6k7JM3tIji1Xbgmk\",\n",
      "                \"images\": [\n",
      "                    {\n",
      "                        \"height\": 640,\n",
      "                        \"url\": \"https://i.scdn.co/image/ab67616d0000b273c2ebaf0c84eb77f358d958bc\",\n",
      "                        \"width\": 640\n",
      "                    },\n",
      "                    {\n",
      "                        \"height\": 300,\n",
      "                        \"url\": \"https://i.scdn.co/image/ab67616d00001e02c2ebaf0c84eb77f358d958bc\",\n",
      "                        \"width\": 300\n",
      "                    },\n",
      "                    {\n",
      "                        \"height\": 64,\n",
      "                        \"url\": \"https://i.scdn.co/image/ab67616d00004851c2ebaf0c84eb77f358d958bc\",\n",
      "                        \"width\": 64\n",
      "                    }\n",
      "                ],\n",
      "                \"name\": \"Temperature Rising\",\n",
      "                \"release_date\": \"2020-05-15\",\n",
      "                \"release_date_precision\": \"day\",\n",
      "                \"total_tracks\": 1,\n",
      "                \"type\": \"album\",\n",
      "                \"uri\": \"spotify:album:3lalGt6k7JM3tIji1Xbgmk\"\n",
      "            },\n",
      "            {\n",
      "                \"album_type\": \"album\",\n",
      "                \"artists\": [\n",
      "                    {\n",
      "                        \"external_urls\": {\n",
      "                            \"spotify\": \"https://open.spotify.com/artist/2ueoLVCXQ948OfhVvAy3Nn\"\n",
      "                        },\n",
      "                        \"href\": \"https://api.spotify.com/v1/artists/2ueoLVCXQ948OfhVvAy3Nn\",\n",
      "                        \"id\": \"2ueoLVCXQ948OfhVvAy3Nn\",\n",
      "                        \"name\": \"Perfume Genius\",\n",
      "                        \"type\": \"artist\",\n",
      "                        \"uri\": \"spotify:artist:2ueoLVCXQ948OfhVvAy3Nn\"\n",
      "                    }\n",
      "                ],\n",
      "                \"available_markets\": [\n",
      "                    \"AD\",\n",
      "                    \"AE\",\n",
      "                    \"AR\",\n",
      "                    \"AT\",\n",
      "                    \"AU\",\n",
      "                    \"BE\",\n",
      "                    \"BG\",\n",
      "                    \"BH\",\n",
      "                    \"BO\",\n",
      "                    \"BR\",\n",
      "                    \"CA\",\n",
      "                    \"CH\",\n",
      "                    \"CL\",\n",
      "                    \"CO\",\n",
      "                    \"CR\",\n",
      "                    \"CY\",\n",
      "                    \"CZ\",\n",
      "                    \"DE\",\n",
      "                    \"DK\",\n",
      "                    \"DO\",\n",
      "                    \"DZ\",\n",
      "                    \"EC\",\n",
      "                    \"EE\",\n",
      "                    \"EG\",\n",
      "                    \"ES\",\n",
      "                    \"FI\",\n",
      "                    \"FR\",\n",
      "                    \"GB\",\n",
      "                    \"GR\",\n",
      "                    \"GT\",\n",
      "                    \"HK\",\n",
      "                    \"HN\",\n",
      "                    \"HU\",\n",
      "                    \"ID\",\n",
      "                    \"IE\",\n",
      "                    \"IL\",\n",
      "                    \"IN\",\n",
      "                    \"IS\",\n",
      "                    \"IT\",\n",
      "                    \"JO\",\n",
      "                    \"JP\",\n",
      "                    \"KW\",\n",
      "                    \"LB\",\n",
      "                    \"LI\",\n",
      "                    \"LT\",\n",
      "                    \"LU\",\n",
      "                    \"LV\",\n",
      "                    \"MA\",\n",
      "                    \"MC\",\n",
      "                    \"MT\",\n",
      "                    \"MX\",\n",
      "                    \"MY\",\n",
      "                    \"NI\",\n",
      "                    \"NL\",\n",
      "                    \"NO\",\n",
      "                    \"NZ\",\n",
      "                    \"OM\",\n",
      "                    \"PA\",\n",
      "                    \"PE\",\n",
      "                    \"PH\",\n",
      "                    \"PL\",\n",
      "                    \"PS\",\n",
      "                    \"PT\",\n",
      "                    \"PY\",\n",
      "                    \"QA\",\n",
      "                    \"RO\",\n",
      "                    \"SA\",\n",
      "                    \"SE\",\n",
      "                    \"SG\",\n",
      "                    \"SK\",\n",
      "                    \"SV\",\n",
      "                    \"TH\",\n",
      "                    \"TN\",\n",
      "                    \"TR\",\n",
      "                    \"TW\",\n",
      "                    \"US\",\n",
      "                    \"UY\",\n",
      "                    \"VN\",\n",
      "                    \"ZA\"\n",
      "                ],\n",
      "                \"external_urls\": {\n",
      "                    \"spotify\": \"https://open.spotify.com/album/6daEdTBi1hyFQgmsnR7oRr\"\n",
      "                },\n",
      "                \"href\": \"https://api.spotify.com/v1/albums/6daEdTBi1hyFQgmsnR7oRr\",\n",
      "                \"id\": \"6daEdTBi1hyFQgmsnR7oRr\",\n",
      "                \"images\": [\n",
      "                    {\n",
      "                        \"height\": 640,\n",
      "                        \"url\": \"https://i.scdn.co/image/ab67616d0000b2739af34850f5125ef195d6101a\",\n",
      "                        \"width\": 640\n",
      "                    },\n",
      "                    {\n",
      "                        \"height\": 300,\n",
      "                        \"url\": \"https://i.scdn.co/image/ab67616d00001e029af34850f5125ef195d6101a\",\n",
      "                        \"width\": 300\n",
      "                    },\n",
      "                    {\n",
      "                        \"height\": 64,\n",
      "                        \"url\": \"https://i.scdn.co/image/ab67616d000048519af34850f5125ef195d6101a\",\n",
      "                        \"width\": 64\n",
      "                    }\n",
      "                ],\n",
      "                \"name\": \"Set My Heart On Fire Immediately\",\n",
      "                \"release_date\": \"2020-05-15\",\n",
      "                \"release_date_precision\": \"day\",\n",
      "                \"total_tracks\": 13,\n",
      "                \"type\": \"album\",\n",
      "                \"uri\": \"spotify:album:6daEdTBi1hyFQgmsnR7oRr\"\n",
      "            },\n",
      "            {\n",
      "                \"album_type\": \"album\",\n",
      "                \"artists\": [\n",
      "                    {\n",
      "                        \"external_urls\": {\n",
      "                            \"spotify\": \"https://open.spotify.com/artist/7rkW85dBwwrJtlHRDkJDAC\"\n",
      "                        },\n",
      "                        \"href\": \"https://api.spotify.com/v1/artists/7rkW85dBwwrJtlHRDkJDAC\",\n",
      "                        \"id\": \"7rkW85dBwwrJtlHRDkJDAC\",\n",
      "                        \"name\": \"NAV\",\n",
      "                        \"type\": \"artist\",\n",
      "                        \"uri\": \"spotify:artist:7rkW85dBwwrJtlHRDkJDAC\"\n",
      "                    }\n",
      "                ],\n",
      "                \"available_markets\": [\n",
      "                    \"AD\",\n",
      "                    \"AE\",\n",
      "                    \"AR\",\n",
      "                    \"AT\",\n",
      "                    \"AU\",\n",
      "                    \"BE\",\n",
      "                    \"BG\",\n",
      "                    \"BH\",\n",
      "                    \"BO\",\n",
      "                    \"BR\",\n",
      "                    \"CA\",\n",
      "                    \"CH\",\n",
      "                    \"CL\",\n",
      "                    \"CO\",\n",
      "                    \"CR\",\n",
      "                    \"CY\",\n",
      "                    \"CZ\",\n",
      "                    \"DE\",\n",
      "                    \"DK\",\n",
      "                    \"DO\",\n",
      "                    \"DZ\",\n",
      "                    \"EC\",\n",
      "                    \"EE\",\n",
      "                    \"EG\",\n",
      "                    \"ES\",\n",
      "                    \"FI\",\n",
      "                    \"FR\",\n",
      "                    \"GB\",\n",
      "                    \"GR\",\n",
      "                    \"GT\",\n",
      "                    \"HK\",\n",
      "                    \"HN\",\n",
      "                    \"HU\",\n",
      "                    \"ID\",\n",
      "                    \"IE\",\n",
      "                    \"IL\",\n",
      "                    \"IN\",\n",
      "                    \"IS\",\n",
      "                    \"IT\",\n",
      "                    \"JO\",\n",
      "                    \"JP\",\n",
      "                    \"KW\",\n",
      "                    \"LB\",\n",
      "                    \"LI\",\n",
      "                    \"LT\",\n",
      "                    \"LU\",\n",
      "                    \"LV\",\n",
      "                    \"MA\",\n",
      "                    \"MC\",\n",
      "                    \"MT\",\n",
      "                    \"MX\",\n",
      "                    \"MY\",\n",
      "                    \"NI\",\n",
      "                    \"NL\",\n",
      "                    \"NO\",\n",
      "                    \"NZ\",\n",
      "                    \"OM\",\n",
      "                    \"PA\",\n",
      "                    \"PE\",\n",
      "                    \"PH\",\n",
      "                    \"PL\",\n",
      "                    \"PS\",\n",
      "                    \"PT\",\n",
      "                    \"PY\",\n",
      "                    \"QA\",\n",
      "                    \"RO\",\n",
      "                    \"SA\",\n",
      "                    \"SE\",\n",
      "                    \"SG\",\n",
      "                    \"SK\",\n",
      "                    \"SV\",\n",
      "                    \"TH\",\n",
      "                    \"TN\",\n",
      "                    \"TR\",\n",
      "                    \"TW\",\n",
      "                    \"US\",\n",
      "                    \"UY\",\n",
      "                    \"VN\",\n",
      "                    \"ZA\"\n",
      "                ],\n",
      "                \"external_urls\": {\n",
      "                    \"spotify\": \"https://open.spotify.com/album/2kx4l1OQNT2JXLld9HJDIh\"\n",
      "                },\n",
      "                \"href\": \"https://api.spotify.com/v1/albums/2kx4l1OQNT2JXLld9HJDIh\",\n",
      "                \"id\": \"2kx4l1OQNT2JXLld9HJDIh\",\n",
      "                \"images\": [\n",
      "                    {\n",
      "                        \"height\": 640,\n",
      "                        \"url\": \"https://i.scdn.co/image/ab67616d0000b273b9c89bb14d58ea3150bd435d\",\n",
      "                        \"width\": 640\n",
      "                    },\n",
      "                    {\n",
      "                        \"height\": 300,\n",
      "                        \"url\": \"https://i.scdn.co/image/ab67616d00001e02b9c89bb14d58ea3150bd435d\",\n",
      "                        \"width\": 300\n",
      "                    },\n",
      "                    {\n",
      "                        \"height\": 64,\n",
      "                        \"url\": \"https://i.scdn.co/image/ab67616d00004851b9c89bb14d58ea3150bd435d\",\n",
      "                        \"width\": 64\n",
      "                    }\n",
      "                ],\n",
      "                \"name\": \"Good Intentions (Brown Boy 2 Deluxe Version)\",\n",
      "                \"release_date\": \"2020-05-11\",\n",
      "                \"release_date_precision\": \"day\",\n",
      "                \"total_tracks\": 32,\n",
      "                \"type\": \"album\",\n",
      "                \"uri\": \"spotify:album:2kx4l1OQNT2JXLld9HJDIh\"\n",
      "            },\n",
      "            {\n",
      "                \"album_type\": \"single\",\n",
      "                \"artists\": [\n",
      "                    {\n",
      "                        \"external_urls\": {\n",
      "                            \"spotify\": \"https://open.spotify.com/artist/6oMuImdp5ZcFhWP0ESe6mG\"\n",
      "                        },\n",
      "                        \"href\": \"https://api.spotify.com/v1/artists/6oMuImdp5ZcFhWP0ESe6mG\",\n",
      "                        \"id\": \"6oMuImdp5ZcFhWP0ESe6mG\",\n",
      "                        \"name\": \"Migos\",\n",
      "                        \"type\": \"artist\",\n",
      "                        \"uri\": \"spotify:artist:6oMuImdp5ZcFhWP0ESe6mG\"\n",
      "                    }\n",
      "                ],\n",
      "                \"available_markets\": [\n",
      "                    \"AD\",\n",
      "                    \"AE\",\n",
      "                    \"AR\",\n",
      "                    \"AT\",\n",
      "                    \"AU\",\n",
      "                    \"BE\",\n",
      "                    \"BG\",\n",
      "                    \"BH\",\n",
      "                    \"BO\",\n",
      "                    \"BR\",\n",
      "                    \"CA\",\n",
      "                    \"CH\",\n",
      "                    \"CL\",\n",
      "                    \"CO\",\n",
      "                    \"CR\",\n",
      "                    \"CY\",\n",
      "                    \"CZ\",\n",
      "                    \"DE\",\n",
      "                    \"DK\",\n",
      "                    \"DO\",\n",
      "                    \"DZ\",\n",
      "                    \"EC\",\n",
      "                    \"EE\",\n",
      "                    \"EG\",\n",
      "                    \"ES\",\n",
      "                    \"FI\",\n",
      "                    \"FR\",\n",
      "                    \"GB\",\n",
      "                    \"GR\",\n",
      "                    \"GT\",\n",
      "                    \"HK\",\n",
      "                    \"HN\",\n",
      "                    \"HU\",\n",
      "                    \"ID\",\n",
      "                    \"IE\",\n",
      "                    \"IL\",\n",
      "                    \"IN\",\n",
      "                    \"IS\",\n",
      "                    \"IT\",\n",
      "                    \"JO\",\n",
      "                    \"JP\",\n",
      "                    \"KW\",\n",
      "                    \"LB\",\n",
      "                    \"LI\",\n",
      "                    \"LT\",\n",
      "                    \"LU\",\n",
      "                    \"LV\",\n",
      "                    \"MA\",\n",
      "                    \"MC\",\n",
      "                    \"MT\",\n",
      "                    \"MX\",\n",
      "                    \"MY\",\n",
      "                    \"NI\",\n",
      "                    \"NL\",\n",
      "                    \"NO\",\n",
      "                    \"NZ\",\n",
      "                    \"OM\",\n",
      "                    \"PA\",\n",
      "                    \"PE\",\n",
      "                    \"PH\",\n",
      "                    \"PL\",\n",
      "                    \"PS\",\n",
      "                    \"PT\",\n",
      "                    \"PY\",\n",
      "                    \"QA\",\n",
      "                    \"RO\",\n",
      "                    \"SA\",\n",
      "                    \"SE\",\n",
      "                    \"SG\",\n",
      "                    \"SK\",\n",
      "                    \"SV\",\n",
      "                    \"TH\",\n",
      "                    \"TN\",\n",
      "                    \"TR\",\n",
      "                    \"TW\",\n",
      "                    \"US\",\n",
      "                    \"UY\",\n",
      "                    \"VN\",\n",
      "                    \"ZA\"\n",
      "                ],\n",
      "                \"external_urls\": {\n",
      "                    \"spotify\": \"https://open.spotify.com/album/3PASWLvNfvfMF68dDznEgK\"\n",
      "                },\n",
      "                \"href\": \"https://api.spotify.com/v1/albums/3PASWLvNfvfMF68dDznEgK\",\n",
      "                \"id\": \"3PASWLvNfvfMF68dDznEgK\",\n",
      "                \"images\": [\n",
      "                    {\n",
      "                        \"height\": 640,\n",
      "                        \"url\": \"https://i.scdn.co/image/ab67616d0000b2739325c863d9139cc2d507421b\",\n",
      "                        \"width\": 640\n",
      "                    },\n",
      "                    {\n",
      "                        \"height\": 300,\n",
      "                        \"url\": \"https://i.scdn.co/image/ab67616d00001e029325c863d9139cc2d507421b\",\n",
      "                        \"width\": 300\n",
      "                    },\n",
      "                    {\n",
      "                        \"height\": 64,\n",
      "                        \"url\": \"https://i.scdn.co/image/ab67616d000048519325c863d9139cc2d507421b\",\n",
      "                        \"width\": 64\n",
      "                    }\n",
      "                ],\n",
      "                \"name\": \"Racks 2 Skinny\",\n",
      "                \"release_date\": \"2020-05-11\",\n",
      "                \"release_date_precision\": \"day\",\n",
      "                \"total_tracks\": 1,\n",
      "                \"type\": \"album\",\n",
      "                \"uri\": \"spotify:album:3PASWLvNfvfMF68dDznEgK\"\n",
      "            },\n",
      "            {\n",
      "                \"album_type\": \"single\",\n",
      "                \"artists\": [\n",
      "                    {\n",
      "                        \"external_urls\": {\n",
      "                            \"spotify\": \"https://open.spotify.com/artist/5Zq7R5qmi58ByYyBQTlNuk\"\n",
      "                        },\n",
      "                        \"href\": \"https://api.spotify.com/v1/artists/5Zq7R5qmi58ByYyBQTlNuk\",\n",
      "                        \"id\": \"5Zq7R5qmi58ByYyBQTlNuk\",\n",
      "                        \"name\": \"Lee Brice\",\n",
      "                        \"type\": \"artist\",\n",
      "                        \"uri\": \"spotify:artist:5Zq7R5qmi58ByYyBQTlNuk\"\n",
      "                    }\n",
      "                ],\n",
      "                \"available_markets\": [\n",
      "                    \"AD\",\n",
      "                    \"AE\",\n",
      "                    \"AR\",\n",
      "                    \"AT\",\n",
      "                    \"AU\",\n",
      "                    \"BE\",\n",
      "                    \"BG\",\n",
      "                    \"BH\",\n",
      "                    \"BO\",\n",
      "                    \"BR\",\n",
      "                    \"CA\",\n",
      "                    \"CH\",\n",
      "                    \"CL\",\n",
      "                    \"CO\",\n",
      "                    \"CR\",\n",
      "                    \"CY\",\n",
      "                    \"CZ\",\n",
      "                    \"DE\",\n",
      "                    \"DK\",\n",
      "                    \"DO\",\n",
      "                    \"DZ\",\n",
      "                    \"EC\",\n",
      "                    \"EE\",\n",
      "                    \"EG\",\n",
      "                    \"ES\",\n",
      "                    \"FI\",\n",
      "                    \"FR\",\n",
      "                    \"GB\",\n",
      "                    \"GR\",\n",
      "                    \"GT\",\n",
      "                    \"HK\",\n",
      "                    \"HN\",\n",
      "                    \"HU\",\n",
      "                    \"ID\",\n",
      "                    \"IE\",\n",
      "                    \"IL\",\n",
      "                    \"IN\",\n",
      "                    \"IS\",\n",
      "                    \"IT\",\n",
      "                    \"JO\",\n",
      "                    \"JP\",\n",
      "                    \"KW\",\n",
      "                    \"LB\",\n",
      "                    \"LI\",\n",
      "                    \"LT\",\n",
      "                    \"LU\",\n",
      "                    \"LV\",\n",
      "                    \"MA\",\n",
      "                    \"MC\",\n",
      "                    \"MT\",\n",
      "                    \"MX\",\n",
      "                    \"MY\",\n",
      "                    \"NI\",\n",
      "                    \"NL\",\n",
      "                    \"NO\",\n",
      "                    \"NZ\",\n",
      "                    \"OM\",\n",
      "                    \"PA\",\n",
      "                    \"PE\",\n",
      "                    \"PH\",\n",
      "                    \"PL\",\n",
      "                    \"PS\",\n",
      "                    \"PT\",\n",
      "                    \"PY\",\n",
      "                    \"QA\",\n",
      "                    \"RO\",\n",
      "                    \"SA\",\n",
      "                    \"SE\",\n",
      "                    \"SG\",\n",
      "                    \"SK\",\n",
      "                    \"SV\",\n",
      "                    \"TH\",\n",
      "                    \"TN\",\n",
      "                    \"TR\",\n",
      "                    \"TW\",\n",
      "                    \"US\",\n",
      "                    \"UY\",\n",
      "                    \"VN\",\n",
      "                    \"ZA\"\n",
      "                ],\n",
      "                \"external_urls\": {\n",
      "                    \"spotify\": \"https://open.spotify.com/album/5LK5cCx0XdniivfZ91vOSv\"\n",
      "                },\n",
      "                \"href\": \"https://api.spotify.com/v1/albums/5LK5cCx0XdniivfZ91vOSv\",\n",
      "                \"id\": \"5LK5cCx0XdniivfZ91vOSv\",\n",
      "                \"images\": [\n",
      "                    {\n",
      "                        \"height\": 640,\n",
      "                        \"url\": \"https://i.scdn.co/image/ab67616d0000b27306ae99421702f8a9d881e268\",\n",
      "                        \"width\": 640\n",
      "                    },\n",
      "                    {\n",
      "                        \"height\": 300,\n",
      "                        \"url\": \"https://i.scdn.co/image/ab67616d00001e0206ae99421702f8a9d881e268\",\n",
      "                        \"width\": 300\n",
      "                    },\n",
      "                    {\n",
      "                        \"height\": 64,\n",
      "                        \"url\": \"https://i.scdn.co/image/ab67616d0000485106ae99421702f8a9d881e268\",\n",
      "                        \"width\": 64\n",
      "                    }\n",
      "                ],\n",
      "                \"name\": \"One Of Them Girls\",\n",
      "                \"release_date\": \"2020-05-15\",\n",
      "                \"release_date_precision\": \"day\",\n",
      "                \"total_tracks\": 2,\n",
      "                \"type\": \"album\",\n",
      "                \"uri\": \"spotify:album:5LK5cCx0XdniivfZ91vOSv\"\n",
      "            },\n",
      "            {\n",
      "                \"album_type\": \"album\",\n",
      "                \"artists\": [\n",
      "                    {\n",
      "                        \"external_urls\": {\n",
      "                            \"spotify\": \"https://open.spotify.com/artist/2o5jDhtHVPhrJdv3cEQ99Z\"\n",
      "                        },\n",
      "                        \"href\": \"https://api.spotify.com/v1/artists/2o5jDhtHVPhrJdv3cEQ99Z\",\n",
      "                        \"id\": \"2o5jDhtHVPhrJdv3cEQ99Z\",\n",
      "                        \"name\": \"Ti\\u00ebsto\",\n",
      "                        \"type\": \"artist\",\n",
      "                        \"uri\": \"spotify:artist:2o5jDhtHVPhrJdv3cEQ99Z\"\n",
      "                    }\n",
      "                ],\n",
      "                \"available_markets\": [\n",
      "                    \"AD\",\n",
      "                    \"AE\",\n",
      "                    \"AR\",\n",
      "                    \"AT\",\n",
      "                    \"AU\",\n",
      "                    \"BE\",\n",
      "                    \"BG\",\n",
      "                    \"BH\",\n",
      "                    \"BO\",\n",
      "                    \"BR\",\n",
      "                    \"CA\",\n",
      "                    \"CH\",\n",
      "                    \"CL\",\n",
      "                    \"CO\",\n",
      "                    \"CR\",\n",
      "                    \"CY\",\n",
      "                    \"CZ\",\n",
      "                    \"DE\",\n",
      "                    \"DK\",\n",
      "                    \"DO\",\n",
      "                    \"DZ\",\n",
      "                    \"EC\",\n",
      "                    \"EE\",\n",
      "                    \"EG\",\n",
      "                    \"ES\",\n",
      "                    \"FI\",\n",
      "                    \"FR\",\n",
      "                    \"GB\",\n",
      "                    \"GR\",\n",
      "                    \"GT\",\n",
      "                    \"HK\",\n",
      "                    \"HN\",\n",
      "                    \"HU\",\n",
      "                    \"ID\",\n",
      "                    \"IE\",\n",
      "                    \"IL\",\n",
      "                    \"IN\",\n",
      "                    \"IS\",\n",
      "                    \"IT\",\n",
      "                    \"JO\",\n",
      "                    \"JP\",\n",
      "                    \"KW\",\n",
      "                    \"LB\",\n",
      "                    \"LI\",\n",
      "                    \"LT\",\n",
      "                    \"LU\",\n",
      "                    \"LV\",\n",
      "                    \"MA\",\n",
      "                    \"MC\",\n",
      "                    \"MT\",\n",
      "                    \"MX\",\n",
      "                    \"MY\",\n",
      "                    \"NI\",\n",
      "                    \"NL\",\n",
      "                    \"NO\",\n",
      "                    \"NZ\",\n",
      "                    \"OM\",\n",
      "                    \"PA\",\n",
      "                    \"PE\",\n",
      "                    \"PH\",\n",
      "                    \"PL\",\n",
      "                    \"PS\",\n",
      "                    \"PT\",\n",
      "                    \"PY\",\n",
      "                    \"QA\",\n",
      "                    \"RO\",\n",
      "                    \"SA\",\n",
      "                    \"SE\",\n",
      "                    \"SG\",\n",
      "                    \"SK\",\n",
      "                    \"SV\",\n",
      "                    \"TH\",\n",
      "                    \"TN\",\n",
      "                    \"TR\",\n",
      "                    \"TW\",\n",
      "                    \"US\",\n",
      "                    \"UY\",\n",
      "                    \"VN\",\n",
      "                    \"ZA\"\n",
      "                ],\n",
      "                \"external_urls\": {\n",
      "                    \"spotify\": \"https://open.spotify.com/album/6CIslPQSknp875cigkhKJC\"\n",
      "                },\n",
      "                \"href\": \"https://api.spotify.com/v1/albums/6CIslPQSknp875cigkhKJC\",\n",
      "                \"id\": \"6CIslPQSknp875cigkhKJC\",\n",
      "                \"images\": [\n",
      "                    {\n",
      "                        \"height\": 640,\n",
      "                        \"url\": \"https://i.scdn.co/image/ab67616d0000b2739759d6dfa2c19091814fccb3\",\n",
      "                        \"width\": 640\n",
      "                    },\n",
      "                    {\n",
      "                        \"height\": 300,\n",
      "                        \"url\": \"https://i.scdn.co/image/ab67616d00001e029759d6dfa2c19091814fccb3\",\n",
      "                        \"width\": 300\n",
      "                    },\n",
      "                    {\n",
      "                        \"height\": 64,\n",
      "                        \"url\": \"https://i.scdn.co/image/ab67616d000048519759d6dfa2c19091814fccb3\",\n",
      "                        \"width\": 64\n",
      "                    }\n",
      "                ],\n",
      "                \"name\": \"The London Sessions\",\n",
      "                \"release_date\": \"2020-05-15\",\n",
      "                \"release_date_precision\": \"day\",\n",
      "                \"total_tracks\": 13,\n",
      "                \"type\": \"album\",\n",
      "                \"uri\": \"spotify:album:6CIslPQSknp875cigkhKJC\"\n",
      "            },\n",
      "            {\n",
      "                \"album_type\": \"single\",\n",
      "                \"artists\": [\n",
      "                    {\n",
      "                        \"external_urls\": {\n",
      "                            \"spotify\": \"https://open.spotify.com/artist/6pBNfggcZZDCmb0p92OnGn\"\n",
      "                        },\n",
      "                        \"href\": \"https://api.spotify.com/v1/artists/6pBNfggcZZDCmb0p92OnGn\",\n",
      "                        \"id\": \"6pBNfggcZZDCmb0p92OnGn\",\n",
      "                        \"name\": \"Chase Rice\",\n",
      "                        \"type\": \"artist\",\n",
      "                        \"uri\": \"spotify:artist:6pBNfggcZZDCmb0p92OnGn\"\n",
      "                    }\n",
      "                ],\n",
      "                \"available_markets\": [\n",
      "                    \"AD\",\n",
      "                    \"AE\",\n",
      "                    \"AR\",\n",
      "                    \"AT\",\n",
      "                    \"AU\",\n",
      "                    \"BE\",\n",
      "                    \"BG\",\n",
      "                    \"BH\",\n",
      "                    \"BO\",\n",
      "                    \"BR\",\n",
      "                    \"CA\",\n",
      "                    \"CH\",\n",
      "                    \"CL\",\n",
      "                    \"CO\",\n",
      "                    \"CR\",\n",
      "                    \"CY\",\n",
      "                    \"CZ\",\n",
      "                    \"DE\",\n",
      "                    \"DK\",\n",
      "                    \"DO\",\n",
      "                    \"DZ\",\n",
      "                    \"EC\",\n",
      "                    \"EE\",\n",
      "                    \"EG\",\n",
      "                    \"ES\",\n",
      "                    \"FI\",\n",
      "                    \"FR\",\n",
      "                    \"GB\",\n",
      "                    \"GR\",\n",
      "                    \"GT\",\n",
      "                    \"HK\",\n",
      "                    \"HN\",\n",
      "                    \"HU\",\n",
      "                    \"ID\",\n",
      "                    \"IE\",\n",
      "                    \"IL\",\n",
      "                    \"IS\",\n",
      "                    \"IT\",\n",
      "                    \"JO\",\n",
      "                    \"JP\",\n",
      "                    \"KW\",\n",
      "                    \"LB\",\n",
      "                    \"LI\",\n",
      "                    \"LT\",\n",
      "                    \"LU\",\n",
      "                    \"LV\",\n",
      "                    \"MA\",\n",
      "                    \"MC\",\n",
      "                    \"MT\",\n",
      "                    \"MX\",\n",
      "                    \"MY\",\n",
      "                    \"NI\",\n",
      "                    \"NL\",\n",
      "                    \"NO\",\n",
      "                    \"NZ\",\n",
      "                    \"OM\",\n",
      "                    \"PA\",\n",
      "                    \"PE\",\n",
      "                    \"PH\",\n",
      "                    \"PL\",\n",
      "                    \"PS\",\n",
      "                    \"PT\",\n",
      "                    \"PY\",\n",
      "                    \"QA\",\n",
      "                    \"RO\",\n",
      "                    \"SA\",\n",
      "                    \"SE\",\n",
      "                    \"SG\",\n",
      "                    \"SK\",\n",
      "                    \"SV\",\n",
      "                    \"TH\",\n",
      "                    \"TN\",\n",
      "                    \"TR\",\n",
      "                    \"TW\",\n",
      "                    \"US\",\n",
      "                    \"UY\",\n",
      "                    \"VN\",\n",
      "                    \"ZA\"\n",
      "                ],\n",
      "                \"external_urls\": {\n",
      "                    \"spotify\": \"https://open.spotify.com/album/5XvXf3mdhShyLZhoJYR74q\"\n",
      "                },\n",
      "                \"href\": \"https://api.spotify.com/v1/albums/5XvXf3mdhShyLZhoJYR74q\",\n",
      "                \"id\": \"5XvXf3mdhShyLZhoJYR74q\",\n",
      "                \"images\": [\n",
      "                    {\n",
      "                        \"height\": 640,\n",
      "                        \"url\": \"https://i.scdn.co/image/ab67616d0000b2735f6b892b478747a769252650\",\n",
      "                        \"width\": 640\n",
      "                    },\n",
      "                    {\n",
      "                        \"height\": 300,\n",
      "                        \"url\": \"https://i.scdn.co/image/ab67616d00001e025f6b892b478747a769252650\",\n",
      "                        \"width\": 300\n",
      "                    },\n",
      "                    {\n",
      "                        \"height\": 64,\n",
      "                        \"url\": \"https://i.scdn.co/image/ab67616d000048515f6b892b478747a769252650\",\n",
      "                        \"width\": 64\n",
      "                    }\n",
      "                ],\n",
      "                \"name\": \"The Album, Pt. II\",\n",
      "                \"release_date\": \"2020-05-15\",\n",
      "                \"release_date_precision\": \"day\",\n",
      "                \"total_tracks\": 4,\n",
      "                \"type\": \"album\",\n",
      "                \"uri\": \"spotify:album:5XvXf3mdhShyLZhoJYR74q\"\n",
      "            },\n",
      "            {\n",
      "                \"album_type\": \"album\",\n",
      "                \"artists\": [\n",
      "                    {\n",
      "                        \"external_urls\": {\n",
      "                            \"spotify\": \"https://open.spotify.com/artist/1caBfBEapzw8z2Qz9q0OaQ\"\n",
      "                        },\n",
      "                        \"href\": \"https://api.spotify.com/v1/artists/1caBfBEapzw8z2Qz9q0OaQ\",\n",
      "                        \"id\": \"1caBfBEapzw8z2Qz9q0OaQ\",\n",
      "                        \"name\": \"Asking Alexandria\",\n",
      "                        \"type\": \"artist\",\n",
      "                        \"uri\": \"spotify:artist:1caBfBEapzw8z2Qz9q0OaQ\"\n",
      "                    }\n",
      "                ],\n",
      "                \"available_markets\": [\n",
      "                    \"AD\",\n",
      "                    \"AE\",\n",
      "                    \"AR\",\n",
      "                    \"AT\",\n",
      "                    \"AU\",\n",
      "                    \"BE\",\n",
      "                    \"BG\",\n",
      "                    \"BH\",\n",
      "                    \"BO\",\n",
      "                    \"BR\",\n",
      "                    \"CA\",\n",
      "                    \"CH\",\n",
      "                    \"CL\",\n",
      "                    \"CO\",\n",
      "                    \"CR\",\n",
      "                    \"CY\",\n",
      "                    \"CZ\",\n",
      "                    \"DE\",\n",
      "                    \"DK\",\n",
      "                    \"DO\",\n",
      "                    \"DZ\",\n",
      "                    \"EC\",\n",
      "                    \"EE\",\n",
      "                    \"EG\",\n",
      "                    \"ES\",\n",
      "                    \"FI\",\n",
      "                    \"FR\",\n",
      "                    \"GB\",\n",
      "                    \"GR\",\n",
      "                    \"GT\",\n",
      "                    \"HK\",\n",
      "                    \"HN\",\n",
      "                    \"HU\",\n",
      "                    \"ID\",\n",
      "                    \"IE\",\n",
      "                    \"IL\",\n",
      "                    \"IN\",\n",
      "                    \"IS\",\n",
      "                    \"IT\",\n",
      "                    \"JO\",\n",
      "                    \"JP\",\n",
      "                    \"KW\",\n",
      "                    \"LB\",\n",
      "                    \"LI\",\n",
      "                    \"LT\",\n",
      "                    \"LU\",\n",
      "                    \"LV\",\n",
      "                    \"MA\",\n",
      "                    \"MC\",\n",
      "                    \"MT\",\n",
      "                    \"MX\",\n",
      "                    \"MY\",\n",
      "                    \"NI\",\n",
      "                    \"NL\",\n",
      "                    \"NO\",\n",
      "                    \"NZ\",\n",
      "                    \"OM\",\n",
      "                    \"PA\",\n",
      "                    \"PE\",\n",
      "                    \"PH\",\n",
      "                    \"PL\",\n",
      "                    \"PS\",\n",
      "                    \"PT\",\n",
      "                    \"PY\",\n",
      "                    \"QA\",\n",
      "                    \"RO\",\n",
      "                    \"SA\",\n",
      "                    \"SE\",\n",
      "                    \"SG\",\n",
      "                    \"SK\",\n",
      "                    \"SV\",\n",
      "                    \"TH\",\n",
      "                    \"TN\",\n",
      "                    \"TR\",\n",
      "                    \"TW\",\n",
      "                    \"US\",\n",
      "                    \"UY\",\n",
      "                    \"VN\",\n",
      "                    \"ZA\"\n",
      "                ],\n",
      "                \"external_urls\": {\n",
      "                    \"spotify\": \"https://open.spotify.com/album/5VKKXDvYuJmRc2UQHCwNQK\"\n",
      "                },\n",
      "                \"href\": \"https://api.spotify.com/v1/albums/5VKKXDvYuJmRc2UQHCwNQK\",\n",
      "                \"id\": \"5VKKXDvYuJmRc2UQHCwNQK\",\n",
      "                \"images\": [\n",
      "                    {\n",
      "                        \"height\": 640,\n",
      "                        \"url\": \"https://i.scdn.co/image/ab67616d0000b273d30ebbcdf987ab5273abdd8d\",\n",
      "                        \"width\": 640\n",
      "                    },\n",
      "                    {\n",
      "                        \"height\": 300,\n",
      "                        \"url\": \"https://i.scdn.co/image/ab67616d00001e02d30ebbcdf987ab5273abdd8d\",\n",
      "                        \"width\": 300\n",
      "                    },\n",
      "                    {\n",
      "                        \"height\": 64,\n",
      "                        \"url\": \"https://i.scdn.co/image/ab67616d00004851d30ebbcdf987ab5273abdd8d\",\n",
      "                        \"width\": 64\n",
      "                    }\n",
      "                ],\n",
      "                \"name\": \"Like A House On Fire\",\n",
      "                \"release_date\": \"2020-05-15\",\n",
      "                \"release_date_precision\": \"day\",\n",
      "                \"total_tracks\": 15,\n",
      "                \"type\": \"album\",\n",
      "                \"uri\": \"spotify:album:5VKKXDvYuJmRc2UQHCwNQK\"\n",
      "            },\n",
      "            {\n",
      "                \"album_type\": \"single\",\n",
      "                \"artists\": [\n",
      "                    {\n",
      "                        \"external_urls\": {\n",
      "                            \"spotify\": \"https://open.spotify.com/artist/7d3WFRME3vBY2cgoP38RDo\"\n",
      "                        },\n",
      "                        \"href\": \"https://api.spotify.com/v1/artists/7d3WFRME3vBY2cgoP38RDo\",\n",
      "                        \"id\": \"7d3WFRME3vBY2cgoP38RDo\",\n",
      "                        \"name\": \"Lil Skies\",\n",
      "                        \"type\": \"artist\",\n",
      "                        \"uri\": \"spotify:artist:7d3WFRME3vBY2cgoP38RDo\"\n",
      "                    }\n",
      "                ],\n",
      "                \"available_markets\": [\n",
      "                    \"AD\",\n",
      "                    \"AE\",\n",
      "                    \"AR\",\n",
      "                    \"AT\",\n",
      "                    \"AU\",\n",
      "                    \"BE\",\n",
      "                    \"BG\",\n",
      "                    \"BH\",\n",
      "                    \"BO\",\n",
      "                    \"BR\",\n",
      "                    \"CA\",\n",
      "                    \"CH\",\n",
      "                    \"CL\",\n",
      "                    \"CO\",\n",
      "                    \"CR\",\n",
      "                    \"CY\",\n",
      "                    \"CZ\",\n",
      "                    \"DE\",\n",
      "                    \"DK\",\n",
      "                    \"DO\",\n",
      "                    \"DZ\",\n",
      "                    \"EC\",\n",
      "                    \"EE\",\n",
      "                    \"EG\",\n",
      "                    \"ES\",\n",
      "                    \"FI\",\n",
      "                    \"FR\",\n",
      "                    \"GB\",\n",
      "                    \"GR\",\n",
      "                    \"GT\",\n",
      "                    \"HK\",\n",
      "                    \"HN\",\n",
      "                    \"HU\",\n",
      "                    \"ID\",\n",
      "                    \"IE\",\n",
      "                    \"IL\",\n",
      "                    \"IN\",\n",
      "                    \"IS\",\n",
      "                    \"IT\",\n",
      "                    \"JO\",\n",
      "                    \"JP\",\n",
      "                    \"KW\",\n",
      "                    \"LB\",\n",
      "                    \"LI\",\n",
      "                    \"LT\",\n",
      "                    \"LU\",\n",
      "                    \"LV\",\n",
      "                    \"MA\",\n",
      "                    \"MC\",\n",
      "                    \"MT\",\n",
      "                    \"MX\",\n",
      "                    \"MY\",\n",
      "                    \"NI\",\n",
      "                    \"NL\",\n",
      "                    \"NO\",\n",
      "                    \"NZ\",\n",
      "                    \"OM\",\n",
      "                    \"PA\",\n",
      "                    \"PE\",\n",
      "                    \"PH\",\n",
      "                    \"PL\",\n",
      "                    \"PS\",\n",
      "                    \"PT\",\n",
      "                    \"PY\",\n",
      "                    \"QA\",\n",
      "                    \"RO\",\n",
      "                    \"SA\",\n",
      "                    \"SE\",\n",
      "                    \"SG\",\n",
      "                    \"SK\",\n",
      "                    \"SV\",\n",
      "                    \"TH\",\n",
      "                    \"TN\",\n",
      "                    \"TR\",\n",
      "                    \"TW\",\n",
      "                    \"US\",\n",
      "                    \"UY\",\n",
      "                    \"VN\",\n",
      "                    \"ZA\"\n",
      "                ],\n",
      "                \"external_urls\": {\n",
      "                    \"spotify\": \"https://open.spotify.com/album/3cVy1WTjSAVpzUc7MVCTLu\"\n",
      "                },\n",
      "                \"href\": \"https://api.spotify.com/v1/albums/3cVy1WTjSAVpzUc7MVCTLu\",\n",
      "                \"id\": \"3cVy1WTjSAVpzUc7MVCTLu\",\n",
      "                \"images\": [\n",
      "                    {\n",
      "                        \"height\": 640,\n",
      "                        \"url\": \"https://i.scdn.co/image/ab67616d0000b273f7571dc32332081426ab3818\",\n",
      "                        \"width\": 640\n",
      "                    },\n",
      "                    {\n",
      "                        \"height\": 300,\n",
      "                        \"url\": \"https://i.scdn.co/image/ab67616d00001e02f7571dc32332081426ab3818\",\n",
      "                        \"width\": 300\n",
      "                    },\n",
      "                    {\n",
      "                        \"height\": 64,\n",
      "                        \"url\": \"https://i.scdn.co/image/ab67616d00004851f7571dc32332081426ab3818\",\n",
      "                        \"width\": 64\n",
      "                    }\n",
      "                ],\n",
      "                \"name\": \"Riot\",\n",
      "                \"release_date\": \"2020-05-13\",\n",
      "                \"release_date_precision\": \"day\",\n",
      "                \"total_tracks\": 1,\n",
      "                \"type\": \"album\",\n",
      "                \"uri\": \"spotify:album:3cVy1WTjSAVpzUc7MVCTLu\"\n",
      "            },\n",
      "            {\n",
      "                \"album_type\": \"album\",\n",
      "                \"artists\": [\n",
      "                    {\n",
      "                        \"external_urls\": {\n",
      "                            \"spotify\": \"https://open.spotify.com/artist/55fhWPvDiMpLnE4ZzNXZyW\"\n",
      "                        },\n",
      "                        \"href\": \"https://api.spotify.com/v1/artists/55fhWPvDiMpLnE4ZzNXZyW\",\n",
      "                        \"id\": \"55fhWPvDiMpLnE4ZzNXZyW\",\n",
      "                        \"name\": \"Noah Cyrus\",\n",
      "                        \"type\": \"artist\",\n",
      "                        \"uri\": \"spotify:artist:55fhWPvDiMpLnE4ZzNXZyW\"\n",
      "                    }\n",
      "                ],\n",
      "                \"available_markets\": [\n",
      "                    \"AD\",\n",
      "                    \"AE\",\n",
      "                    \"AR\",\n",
      "                    \"AT\",\n",
      "                    \"AU\",\n",
      "                    \"BE\",\n",
      "                    \"BG\",\n",
      "                    \"BH\",\n",
      "                    \"BO\",\n",
      "                    \"BR\",\n",
      "                    \"CA\",\n",
      "                    \"CH\",\n",
      "                    \"CL\",\n",
      "                    \"CO\",\n",
      "                    \"CR\",\n",
      "                    \"CY\",\n",
      "                    \"CZ\",\n",
      "                    \"DE\",\n",
      "                    \"DK\",\n",
      "                    \"DO\",\n",
      "                    \"DZ\",\n",
      "                    \"EC\",\n",
      "                    \"EE\",\n",
      "                    \"EG\",\n",
      "                    \"ES\",\n",
      "                    \"FI\",\n",
      "                    \"FR\",\n",
      "                    \"GB\",\n",
      "                    \"GR\",\n",
      "                    \"GT\",\n",
      "                    \"HK\",\n",
      "                    \"HN\",\n",
      "                    \"HU\",\n",
      "                    \"ID\",\n",
      "                    \"IE\",\n",
      "                    \"IL\",\n",
      "                    \"IN\",\n",
      "                    \"IS\",\n",
      "                    \"IT\",\n",
      "                    \"JO\",\n",
      "                    \"JP\",\n",
      "                    \"KW\",\n",
      "                    \"LB\",\n",
      "                    \"LI\",\n",
      "                    \"LT\",\n",
      "                    \"LU\",\n",
      "                    \"LV\",\n",
      "                    \"MA\",\n",
      "                    \"MC\",\n",
      "                    \"MT\",\n",
      "                    \"MX\",\n",
      "                    \"MY\",\n",
      "                    \"NI\",\n",
      "                    \"NL\",\n",
      "                    \"NO\",\n",
      "                    \"NZ\",\n",
      "                    \"OM\",\n",
      "                    \"PA\",\n",
      "                    \"PE\",\n",
      "                    \"PH\",\n",
      "                    \"PL\",\n",
      "                    \"PS\",\n",
      "                    \"PT\",\n",
      "                    \"PY\",\n",
      "                    \"QA\",\n",
      "                    \"RO\",\n",
      "                    \"SA\",\n",
      "                    \"SE\",\n",
      "                    \"SG\",\n",
      "                    \"SK\",\n",
      "                    \"SV\",\n",
      "                    \"TH\",\n",
      "                    \"TN\",\n",
      "                    \"TR\",\n",
      "                    \"TW\",\n",
      "                    \"US\",\n",
      "                    \"UY\",\n",
      "                    \"VN\",\n",
      "                    \"ZA\"\n",
      "                ],\n",
      "                \"external_urls\": {\n",
      "                    \"spotify\": \"https://open.spotify.com/album/5Gn3fFzlWL89j0hGumtXb5\"\n",
      "                },\n",
      "                \"href\": \"https://api.spotify.com/v1/albums/5Gn3fFzlWL89j0hGumtXb5\",\n",
      "                \"id\": \"5Gn3fFzlWL89j0hGumtXb5\",\n",
      "                \"images\": [\n",
      "                    {\n",
      "                        \"height\": 640,\n",
      "                        \"url\": \"https://i.scdn.co/image/ab67616d0000b2737f66b73bd6e86f4c8d2a7692\",\n",
      "                        \"width\": 640\n",
      "                    },\n",
      "                    {\n",
      "                        \"height\": 300,\n",
      "                        \"url\": \"https://i.scdn.co/image/ab67616d00001e027f66b73bd6e86f4c8d2a7692\",\n",
      "                        \"width\": 300\n",
      "                    },\n",
      "                    {\n",
      "                        \"height\": 64,\n",
      "                        \"url\": \"https://i.scdn.co/image/ab67616d000048517f66b73bd6e86f4c8d2a7692\",\n",
      "                        \"width\": 64\n",
      "                    }\n",
      "                ],\n",
      "                \"name\": \"THE END OF EVERYTHING\",\n",
      "                \"release_date\": \"2020-05-15\",\n",
      "                \"release_date_precision\": \"day\",\n",
      "                \"total_tracks\": 8,\n",
      "                \"type\": \"album\",\n",
      "                \"uri\": \"spotify:album:5Gn3fFzlWL89j0hGumtXb5\"\n",
      "            },\n",
      "            {\n",
      "                \"album_type\": \"single\",\n",
      "                \"artists\": [\n",
      "                    {\n",
      "                        \"external_urls\": {\n",
      "                            \"spotify\": \"https://open.spotify.com/artist/6C1ohJrd5VydigQtaGy5Wa\"\n",
      "                        },\n",
      "                        \"href\": \"https://api.spotify.com/v1/artists/6C1ohJrd5VydigQtaGy5Wa\",\n",
      "                        \"id\": \"6C1ohJrd5VydigQtaGy5Wa\",\n",
      "                        \"name\": \"Joyner Lucas\",\n",
      "                        \"type\": \"artist\",\n",
      "                        \"uri\": \"spotify:artist:6C1ohJrd5VydigQtaGy5Wa\"\n",
      "                    },\n",
      "                    {\n",
      "                        \"external_urls\": {\n",
      "                            \"spotify\": \"https://open.spotify.com/artist/41qil2VaGbD194gaEcmmyx\"\n",
      "                        },\n",
      "                        \"href\": \"https://api.spotify.com/v1/artists/41qil2VaGbD194gaEcmmyx\",\n",
      "                        \"id\": \"41qil2VaGbD194gaEcmmyx\",\n",
      "                        \"name\": \"Will Smith\",\n",
      "                        \"type\": \"artist\",\n",
      "                        \"uri\": \"spotify:artist:41qil2VaGbD194gaEcmmyx\"\n",
      "                    }\n",
      "                ],\n",
      "                \"available_markets\": [\n",
      "                    \"AD\",\n",
      "                    \"AE\",\n",
      "                    \"AR\",\n",
      "                    \"AT\",\n",
      "                    \"AU\",\n",
      "                    \"BE\",\n",
      "                    \"BG\",\n",
      "                    \"BH\",\n",
      "                    \"BO\",\n",
      "                    \"BR\",\n",
      "                    \"CA\",\n",
      "                    \"CH\",\n",
      "                    \"CL\",\n",
      "                    \"CO\",\n",
      "                    \"CR\",\n",
      "                    \"CY\",\n",
      "                    \"CZ\",\n",
      "                    \"DE\",\n",
      "                    \"DK\",\n",
      "                    \"DO\",\n",
      "                    \"DZ\",\n",
      "                    \"EC\",\n",
      "                    \"EE\",\n",
      "                    \"EG\",\n",
      "                    \"ES\",\n",
      "                    \"FI\",\n",
      "                    \"FR\",\n",
      "                    \"GB\",\n",
      "                    \"GR\",\n",
      "                    \"GT\",\n",
      "                    \"HK\",\n",
      "                    \"HN\",\n",
      "                    \"HU\",\n",
      "                    \"ID\",\n",
      "                    \"IE\",\n",
      "                    \"IL\",\n",
      "                    \"IN\",\n",
      "                    \"IS\",\n",
      "                    \"IT\",\n",
      "                    \"JO\",\n",
      "                    \"JP\",\n",
      "                    \"KW\",\n",
      "                    \"LB\",\n",
      "                    \"LI\",\n",
      "                    \"LT\",\n",
      "                    \"LU\",\n",
      "                    \"LV\",\n",
      "                    \"MA\",\n",
      "                    \"MC\",\n",
      "                    \"MT\",\n",
      "                    \"MX\",\n",
      "                    \"MY\",\n",
      "                    \"NI\",\n",
      "                    \"NL\",\n",
      "                    \"NO\",\n",
      "                    \"NZ\",\n",
      "                    \"OM\",\n",
      "                    \"PA\",\n",
      "                    \"PE\",\n",
      "                    \"PH\",\n",
      "                    \"PL\",\n",
      "                    \"PS\",\n",
      "                    \"PT\",\n",
      "                    \"PY\",\n",
      "                    \"QA\",\n",
      "                    \"RO\",\n",
      "                    \"SA\",\n",
      "                    \"SE\",\n",
      "                    \"SG\",\n",
      "                    \"SK\",\n",
      "                    \"SV\",\n",
      "                    \"TH\",\n",
      "                    \"TN\",\n",
      "                    \"TR\",\n",
      "                    \"TW\",\n",
      "                    \"US\",\n",
      "                    \"UY\",\n",
      "                    \"VN\",\n",
      "                    \"ZA\"\n",
      "                ],\n",
      "                \"external_urls\": {\n",
      "                    \"spotify\": \"https://open.spotify.com/album/3tOe6XM8LmRA5vDAaMqp8e\"\n",
      "                },\n",
      "                \"href\": \"https://api.spotify.com/v1/albums/3tOe6XM8LmRA5vDAaMqp8e\",\n",
      "                \"id\": \"3tOe6XM8LmRA5vDAaMqp8e\",\n",
      "                \"images\": [\n",
      "                    {\n",
      "                        \"height\": 640,\n",
      "                        \"url\": \"https://i.scdn.co/image/ab67616d0000b2734ac196312c24faedb76a345e\",\n",
      "                        \"width\": 640\n",
      "                    },\n",
      "                    {\n",
      "                        \"height\": 300,\n",
      "                        \"url\": \"https://i.scdn.co/image/ab67616d00001e024ac196312c24faedb76a345e\",\n",
      "                        \"width\": 300\n",
      "                    },\n",
      "                    {\n",
      "                        \"height\": 64,\n",
      "                        \"url\": \"https://i.scdn.co/image/ab67616d000048514ac196312c24faedb76a345e\",\n",
      "                        \"width\": 64\n",
      "                    }\n",
      "                ],\n",
      "                \"name\": \"Will (Remix)\",\n",
      "                \"release_date\": \"2020-05-15\",\n",
      "                \"release_date_precision\": \"day\",\n",
      "                \"total_tracks\": 1,\n",
      "                \"type\": \"album\",\n",
      "                \"uri\": \"spotify:album:3tOe6XM8LmRA5vDAaMqp8e\"\n",
      "            },\n",
      "            {\n",
      "                \"album_type\": \"single\",\n",
      "                \"artists\": [\n",
      "                    {\n",
      "                        \"external_urls\": {\n",
      "                            \"spotify\": \"https://open.spotify.com/artist/6Xgp2XMz1fhVYe7i6yNAax\"\n",
      "                        },\n",
      "                        \"href\": \"https://api.spotify.com/v1/artists/6Xgp2XMz1fhVYe7i6yNAax\",\n",
      "                        \"id\": \"6Xgp2XMz1fhVYe7i6yNAax\",\n",
      "                        \"name\": \"Trippie Redd\",\n",
      "                        \"type\": \"artist\",\n",
      "                        \"uri\": \"spotify:artist:6Xgp2XMz1fhVYe7i6yNAax\"\n",
      "                    },\n",
      "                    {\n",
      "                        \"external_urls\": {\n",
      "                            \"spotify\": \"https://open.spotify.com/artist/2HPaUgqeutzr3jx5a9WyDV\"\n",
      "                        },\n",
      "                        \"href\": \"https://api.spotify.com/v1/artists/2HPaUgqeutzr3jx5a9WyDV\",\n",
      "                        \"id\": \"2HPaUgqeutzr3jx5a9WyDV\",\n",
      "                        \"name\": \"PARTYNEXTDOOR\",\n",
      "                        \"type\": \"artist\",\n",
      "                        \"uri\": \"spotify:artist:2HPaUgqeutzr3jx5a9WyDV\"\n",
      "                    }\n",
      "                ],\n",
      "                \"available_markets\": [\n",
      "                    \"AD\",\n",
      "                    \"AE\",\n",
      "                    \"AR\",\n",
      "                    \"AT\",\n",
      "                    \"AU\",\n",
      "                    \"BE\",\n",
      "                    \"BG\",\n",
      "                    \"BH\",\n",
      "                    \"BO\",\n",
      "                    \"BR\",\n",
      "                    \"CA\",\n",
      "                    \"CH\",\n",
      "                    \"CL\",\n",
      "                    \"CO\",\n",
      "                    \"CR\",\n",
      "                    \"CY\",\n",
      "                    \"CZ\",\n",
      "                    \"DE\",\n",
      "                    \"DK\",\n",
      "                    \"DO\",\n",
      "                    \"DZ\",\n",
      "                    \"EC\",\n",
      "                    \"EE\",\n",
      "                    \"EG\",\n",
      "                    \"ES\",\n",
      "                    \"FI\",\n",
      "                    \"FR\",\n",
      "                    \"GB\",\n",
      "                    \"GR\",\n",
      "                    \"GT\",\n",
      "                    \"HK\",\n",
      "                    \"HN\",\n",
      "                    \"HU\",\n",
      "                    \"ID\",\n",
      "                    \"IE\",\n",
      "                    \"IL\",\n",
      "                    \"IN\",\n",
      "                    \"IS\",\n",
      "                    \"IT\",\n",
      "                    \"JO\",\n",
      "                    \"JP\",\n",
      "                    \"KW\",\n",
      "                    \"LB\",\n",
      "                    \"LI\",\n",
      "                    \"LT\",\n",
      "                    \"LU\",\n",
      "                    \"LV\",\n",
      "                    \"MA\",\n",
      "                    \"MC\",\n",
      "                    \"MT\",\n",
      "                    \"MX\",\n",
      "                    \"MY\",\n",
      "                    \"NI\",\n",
      "                    \"NL\",\n",
      "                    \"NO\",\n",
      "                    \"NZ\",\n",
      "                    \"OM\",\n",
      "                    \"PA\",\n",
      "                    \"PE\",\n",
      "                    \"PH\",\n",
      "                    \"PL\",\n",
      "                    \"PS\",\n",
      "                    \"PT\",\n",
      "                    \"PY\",\n",
      "                    \"QA\",\n",
      "                    \"RO\",\n",
      "                    \"SA\",\n",
      "                    \"SE\",\n",
      "                    \"SG\",\n",
      "                    \"SK\",\n",
      "                    \"SV\",\n",
      "                    \"TH\",\n",
      "                    \"TN\",\n",
      "                    \"TR\",\n",
      "                    \"TW\",\n",
      "                    \"US\",\n",
      "                    \"UY\",\n",
      "                    \"VN\",\n",
      "                    \"ZA\"\n",
      "                ],\n",
      "                \"external_urls\": {\n",
      "                    \"spotify\": \"https://open.spotify.com/album/7rcMHNqNbQxF5TaPMHFoKu\"\n",
      "                },\n",
      "                \"href\": \"https://api.spotify.com/v1/albums/7rcMHNqNbQxF5TaPMHFoKu\",\n",
      "                \"id\": \"7rcMHNqNbQxF5TaPMHFoKu\",\n",
      "                \"images\": [\n",
      "                    {\n",
      "                        \"height\": 640,\n",
      "                        \"url\": \"https://i.scdn.co/image/ab67616d0000b273de32a6662a7db272328f4761\",\n",
      "                        \"width\": 640\n",
      "                    },\n",
      "                    {\n",
      "                        \"height\": 300,\n",
      "                        \"url\": \"https://i.scdn.co/image/ab67616d00001e02de32a6662a7db272328f4761\",\n",
      "                        \"width\": 300\n",
      "                    },\n",
      "                    {\n",
      "                        \"height\": 64,\n",
      "                        \"url\": \"https://i.scdn.co/image/ab67616d00004851de32a6662a7db272328f4761\",\n",
      "                        \"width\": 64\n",
      "                    }\n",
      "                ],\n",
      "                \"name\": \"Excitement\",\n",
      "                \"release_date\": \"2020-05-15\",\n",
      "                \"release_date_precision\": \"day\",\n",
      "                \"total_tracks\": 1,\n",
      "                \"type\": \"album\",\n",
      "                \"uri\": \"spotify:album:7rcMHNqNbQxF5TaPMHFoKu\"\n",
      "            },\n",
      "            {\n",
      "                \"album_type\": \"single\",\n",
      "                \"artists\": [\n",
      "                    {\n",
      "                        \"external_urls\": {\n",
      "                            \"spotify\": \"https://open.spotify.com/artist/3NPpFNZtSTHheNBaWC82rB\"\n",
      "                        },\n",
      "                        \"href\": \"https://api.spotify.com/v1/artists/3NPpFNZtSTHheNBaWC82rB\",\n",
      "                        \"id\": \"3NPpFNZtSTHheNBaWC82rB\",\n",
      "                        \"name\": \"X Ambassadors\",\n",
      "                        \"type\": \"artist\",\n",
      "                        \"uri\": \"spotify:artist:3NPpFNZtSTHheNBaWC82rB\"\n",
      "                    },\n",
      "                    {\n",
      "                        \"external_urls\": {\n",
      "                            \"spotify\": \"https://open.spotify.com/artist/0pCNk4D3E2xtszsm6hMsWr\"\n",
      "                        },\n",
      "                        \"href\": \"https://api.spotify.com/v1/artists/0pCNk4D3E2xtszsm6hMsWr\",\n",
      "                        \"id\": \"0pCNk4D3E2xtszsm6hMsWr\",\n",
      "                        \"name\": \"K.Flay\",\n",
      "                        \"type\": \"artist\",\n",
      "                        \"uri\": \"spotify:artist:0pCNk4D3E2xtszsm6hMsWr\"\n",
      "                    },\n",
      "                    {\n",
      "                        \"external_urls\": {\n",
      "                            \"spotify\": \"https://open.spotify.com/artist/4ZgQDCtRqZlhLswVS6MHN4\"\n",
      "                        },\n",
      "                        \"href\": \"https://api.spotify.com/v1/artists/4ZgQDCtRqZlhLswVS6MHN4\",\n",
      "                        \"id\": \"4ZgQDCtRqZlhLswVS6MHN4\",\n",
      "                        \"name\": \"grandson\",\n",
      "                        \"type\": \"artist\",\n",
      "                        \"uri\": \"spotify:artist:4ZgQDCtRqZlhLswVS6MHN4\"\n",
      "                    }\n",
      "                ],\n",
      "                \"available_markets\": [\n",
      "                    \"AD\",\n",
      "                    \"AE\",\n",
      "                    \"AR\",\n",
      "                    \"AT\",\n",
      "                    \"AU\",\n",
      "                    \"BE\",\n",
      "                    \"BG\",\n",
      "                    \"BH\",\n",
      "                    \"BO\",\n",
      "                    \"BR\",\n",
      "                    \"CA\",\n",
      "                    \"CH\",\n",
      "                    \"CL\",\n",
      "                    \"CO\",\n",
      "                    \"CR\",\n",
      "                    \"CY\",\n",
      "                    \"CZ\",\n",
      "                    \"DE\",\n",
      "                    \"DK\",\n",
      "                    \"DO\",\n",
      "                    \"DZ\",\n",
      "                    \"EC\",\n",
      "                    \"EE\",\n",
      "                    \"EG\",\n",
      "                    \"ES\",\n",
      "                    \"FI\",\n",
      "                    \"FR\",\n",
      "                    \"GB\",\n",
      "                    \"GR\",\n",
      "                    \"GT\",\n",
      "                    \"HK\",\n",
      "                    \"HN\",\n",
      "                    \"HU\",\n",
      "                    \"ID\",\n",
      "                    \"IE\",\n",
      "                    \"IL\",\n",
      "                    \"IN\",\n",
      "                    \"IS\",\n",
      "                    \"IT\",\n",
      "                    \"JO\",\n",
      "                    \"JP\",\n",
      "                    \"KW\",\n",
      "                    \"LB\",\n",
      "                    \"LI\",\n",
      "                    \"LT\",\n",
      "                    \"LU\",\n",
      "                    \"LV\",\n",
      "                    \"MA\",\n",
      "                    \"MC\",\n",
      "                    \"MT\",\n",
      "                    \"MX\",\n",
      "                    \"MY\",\n",
      "                    \"NI\",\n",
      "                    \"NL\",\n",
      "                    \"NO\",\n",
      "                    \"NZ\",\n",
      "                    \"OM\",\n",
      "                    \"PA\",\n",
      "                    \"PE\",\n",
      "                    \"PH\",\n",
      "                    \"PL\",\n",
      "                    \"PS\",\n",
      "                    \"PT\",\n",
      "                    \"PY\",\n",
      "                    \"QA\",\n",
      "                    \"RO\",\n",
      "                    \"SA\",\n",
      "                    \"SE\",\n",
      "                    \"SG\",\n",
      "                    \"SK\",\n",
      "                    \"SV\",\n",
      "                    \"TH\",\n",
      "                    \"TN\",\n",
      "                    \"TR\",\n",
      "                    \"TW\",\n",
      "                    \"US\",\n",
      "                    \"UY\",\n",
      "                    \"VN\",\n",
      "                    \"ZA\"\n",
      "                ],\n",
      "                \"external_urls\": {\n",
      "                    \"spotify\": \"https://open.spotify.com/album/2JQbWWpYG6kKppiD6z2FwL\"\n",
      "                },\n",
      "                \"href\": \"https://api.spotify.com/v1/albums/2JQbWWpYG6kKppiD6z2FwL\",\n",
      "                \"id\": \"2JQbWWpYG6kKppiD6z2FwL\",\n",
      "                \"images\": [\n",
      "                    {\n",
      "                        \"height\": 640,\n",
      "                        \"url\": \"https://i.scdn.co/image/ab67616d0000b273e420fab8e9ec9cf79c073a28\",\n",
      "                        \"width\": 640\n",
      "                    },\n",
      "                    {\n",
      "                        \"height\": 300,\n",
      "                        \"url\": \"https://i.scdn.co/image/ab67616d00001e02e420fab8e9ec9cf79c073a28\",\n",
      "                        \"width\": 300\n",
      "                    },\n",
      "                    {\n",
      "                        \"height\": 64,\n",
      "                        \"url\": \"https://i.scdn.co/image/ab67616d00004851e420fab8e9ec9cf79c073a28\",\n",
      "                        \"width\": 64\n",
      "                    }\n",
      "                ],\n",
      "                \"name\": \"Zen (with K.Flay & grandson)\",\n",
      "                \"release_date\": \"2020-05-15\",\n",
      "                \"release_date_precision\": \"day\",\n",
      "                \"total_tracks\": 1,\n",
      "                \"type\": \"album\",\n",
      "                \"uri\": \"spotify:album:2JQbWWpYG6kKppiD6z2FwL\"\n",
      "            }\n",
      "        ],\n",
      "        \"limit\": 20,\n",
      "        \"next\": \"https://api.spotify.com/v1/browse/new-releases?offset=20&limit=20\",\n",
      "        \"offset\": 0,\n",
      "        \"previous\": null,\n",
      "        \"total\": 100\n",
      "    }\n",
      "}\n"
     ]
    }
   ],
   "source": [
    "# One way to make it easier to read\n",
    "print(json.dumps(data, indent=4))"
   ]
  },
  {
   "cell_type": "code",
   "execution_count": null,
   "metadata": {
    "hidden": true,
    "slideshow": {
     "slide_type": "fragment"
    }
   },
   "outputs": [],
   "source": [
    "# Using the default Jupyter Notebook's display() helps\n",
    "#display(data) # Uncomment this to do the same as just displaying the last line\n"
   ]
  },
  {
   "cell_type": "markdown",
   "metadata": {
    "hidden": true,
    "slideshow": {
     "slide_type": "slide"
    }
   },
   "source": [
    "To start exploring, let's check the type of our new `data` object and start mapping out the hierarchy."
   ]
  },
  {
   "cell_type": "code",
   "execution_count": 5,
   "metadata": {
    "hidden": true,
    "slideshow": {
     "slide_type": "fragment"
    }
   },
   "outputs": [
    {
     "data": {
      "text/plain": [
       "dict"
      ]
     },
     "execution_count": 5,
     "metadata": {},
     "output_type": "execute_result"
    }
   ],
   "source": [
    "type(data)"
   ]
  },
  {
   "cell_type": "code",
   "execution_count": 6,
   "metadata": {
    "hidden": true,
    "slideshow": {
     "slide_type": "fragment"
    }
   },
   "outputs": [
    {
     "data": {
      "text/plain": [
       "dict_keys(['albums'])"
      ]
     },
     "execution_count": 6,
     "metadata": {},
     "output_type": "execute_result"
    }
   ],
   "source": [
    "data.keys()"
   ]
  },
  {
   "cell_type": "markdown",
   "metadata": {
    "hidden": true,
    "slideshow": {
     "slide_type": "fragment"
    }
   },
   "source": [
    "In this case, there is only a single key, 'albums', so we'll continue on down the pathway exploring and mapping out the hierarchy. Once again, let's start by checking the type of this nested data structure."
   ]
  },
  {
   "cell_type": "code",
   "execution_count": 7,
   "metadata": {
    "hidden": true,
    "slideshow": {
     "slide_type": "subslide"
    }
   },
   "outputs": [
    {
     "data": {
      "text/plain": [
       "dict"
      ]
     },
     "execution_count": 7,
     "metadata": {},
     "output_type": "execute_result"
    }
   ],
   "source": [
    "type(data['albums'])"
   ]
  },
  {
   "cell_type": "code",
   "execution_count": 8,
   "metadata": {
    "hidden": true,
    "slideshow": {
     "slide_type": "fragment"
    }
   },
   "outputs": [
    {
     "data": {
      "text/plain": [
       "dict_keys(['href', 'items', 'limit', 'next', 'offset', 'previous', 'total'])"
      ]
     },
     "execution_count": 8,
     "metadata": {},
     "output_type": "execute_result"
    }
   ],
   "source": [
    "data['albums'].keys()"
   ]
  },
  {
   "cell_type": "markdown",
   "metadata": {
    "hidden": true,
    "slideshow": {
     "slide_type": "slide"
    }
   },
   "source": [
    "At this point, things are starting to look something like this: \n",
    "\n",
    "![](images/json_diagram1.jpg)\n",
    "\n",
    "If we were to continue checking individual data types, we'd have a lot to go through. To simplify this, let's use a `for` loop:"
   ]
  },
  {
   "cell_type": "code",
   "execution_count": 9,
   "metadata": {
    "hidden": true,
    "slideshow": {
     "slide_type": "fragment"
    }
   },
   "outputs": [
    {
     "name": "stdout",
     "output_type": "stream",
     "text": [
      "href <class 'str'>\n",
      "items <class 'list'>\n",
      "limit <class 'int'>\n",
      "next <class 'str'>\n",
      "offset <class 'int'>\n",
      "previous <class 'NoneType'>\n",
      "total <class 'int'>\n"
     ]
    }
   ],
   "source": [
    "for key, value in data['albums'].items():\n",
    "    print(key, type(value))"
   ]
  },
  {
   "cell_type": "markdown",
   "metadata": {
    "hidden": true,
    "slideshow": {
     "slide_type": "slide"
    }
   },
   "source": [
    "Adding this to our diagram, we now have something like this:\n",
    "\n",
    "![](images/json_diagram2.jpg)\n",
    "\n",
    "Let's look at the `items` list - this contains the album information. "
   ]
  },
  {
   "cell_type": "code",
   "execution_count": 10,
   "metadata": {
    "hidden": true,
    "slideshow": {
     "slide_type": "fragment"
    }
   },
   "outputs": [
    {
     "data": {
      "text/plain": [
       "list"
      ]
     },
     "execution_count": 10,
     "metadata": {},
     "output_type": "execute_result"
    }
   ],
   "source": [
    "type(data['albums']['items'])"
   ]
  },
  {
   "cell_type": "code",
   "execution_count": 11,
   "metadata": {
    "hidden": true,
    "scrolled": true,
    "slideshow": {
     "slide_type": "slide"
    }
   },
   "outputs": [
    {
     "data": {
      "text/plain": [
       "{'external_urls': {'spotify': 'https://open.spotify.com/artist/1RyvyyTE3xzB2ZywiAwp0i'},\n",
       " 'href': 'https://api.spotify.com/v1/artists/1RyvyyTE3xzB2ZywiAwp0i',\n",
       " 'id': '1RyvyyTE3xzB2ZywiAwp0i',\n",
       " 'name': 'Future',\n",
       " 'type': 'artist',\n",
       " 'uri': 'spotify:artist:1RyvyyTE3xzB2ZywiAwp0i'}"
      ]
     },
     "execution_count": 11,
     "metadata": {},
     "output_type": "execute_result"
    }
   ],
   "source": [
    "data['albums']['items'][0]['artists'][0]"
   ]
  },
  {
   "cell_type": "markdown",
   "metadata": {
    "hidden": true,
    "slideshow": {
     "slide_type": "slide"
    }
   },
   "source": [
    "We access values as we would for nested lists or dictionaries in Python."
   ]
  },
  {
   "cell_type": "code",
   "execution_count": 12,
   "metadata": {
    "hidden": true,
    "slideshow": {
     "slide_type": "fragment"
    }
   },
   "outputs": [
    {
     "data": {
      "text/plain": [
       "dict_keys(['album_type', 'artists', 'available_markets', 'external_urls', 'href', 'id', 'images', 'name', 'release_date', 'release_date_precision', 'total_tracks', 'type', 'uri'])"
      ]
     },
     "execution_count": 12,
     "metadata": {},
     "output_type": "execute_result"
    }
   ],
   "source": [
    "data['albums']['items'][0].keys()"
   ]
  },
  {
   "cell_type": "code",
   "execution_count": 13,
   "metadata": {
    "hidden": true,
    "slideshow": {
     "slide_type": "fragment"
    }
   },
   "outputs": [
    {
     "data": {
      "text/plain": [
       "'Future'"
      ]
     },
     "execution_count": 13,
     "metadata": {},
     "output_type": "execute_result"
    }
   ],
   "source": [
    "data['albums']['items'][0]['artists'][0]['name']"
   ]
  },
  {
   "cell_type": "code",
   "execution_count": 14,
   "metadata": {
    "hidden": true,
    "slideshow": {
     "slide_type": "fragment"
    }
   },
   "outputs": [
    {
     "data": {
      "text/plain": [
       "'Kygo'"
      ]
     },
     "execution_count": 14,
     "metadata": {},
     "output_type": "execute_result"
    }
   ],
   "source": [
    "data['albums']['items'][1]['artists'][0]['name']"
   ]
  },
  {
   "cell_type": "markdown",
   "metadata": {
    "heading_collapsed": true,
    "slideshow": {
     "slide_type": "slide"
    }
   },
   "source": [
    "# Loading in Plant Data"
   ]
  },
  {
   "cell_type": "markdown",
   "metadata": {
    "hidden": true,
    "slideshow": {
     "slide_type": "fragment"
    }
   },
   "source": [
    "Now that we have a handle on how to deal with data in JSON form, let's load in a new dataset and construct an analysis!\n",
    "This dataset was gathered with the [Trefle API](https://docs.trefle.io/). It contains information about 1000 plants in JSON form."
   ]
  },
  {
   "cell_type": "code",
   "execution_count": 15,
   "metadata": {
    "hidden": true,
    "slideshow": {
     "slide_type": "fragment"
    }
   },
   "outputs": [],
   "source": [
    "with open('data/plants.json', 'r') as f:\n",
    "    plants = json.load(f)"
   ]
  },
  {
   "cell_type": "code",
   "execution_count": 16,
   "metadata": {
    "slideshow": {
     "slide_type": "fragment"
    }
   },
   "outputs": [
    {
     "data": {
      "text/plain": [
       "list"
      ]
     },
     "execution_count": 16,
     "metadata": {},
     "output_type": "execute_result"
    }
   ],
   "source": [
    "type(plants)"
   ]
  },
  {
   "cell_type": "code",
   "execution_count": 17,
   "metadata": {
    "hidden": true,
    "slideshow": {
     "slide_type": "fragment"
    }
   },
   "outputs": [
    {
     "data": {
      "text/plain": [
       "1000"
      ]
     },
     "execution_count": 17,
     "metadata": {},
     "output_type": "execute_result"
    }
   ],
   "source": [
    "len(plants)"
   ]
  },
  {
   "cell_type": "markdown",
   "metadata": {
    "heading_collapsed": true,
    "hidden": true,
    "slideshow": {
     "slide_type": "slide"
    }
   },
   "source": [
    "## What Information Do We Have?"
   ]
  },
  {
   "cell_type": "markdown",
   "metadata": {
    "hidden": true,
    "slideshow": {
     "slide_type": "fragment"
    }
   },
   "source": [
    "Let's take a look at the first plant in our list to see what information is available."
   ]
  },
  {
   "cell_type": "code",
   "execution_count": 18,
   "metadata": {
    "hidden": true,
    "scrolled": true,
    "slideshow": {
     "slide_type": "slide"
    }
   },
   "outputs": [
    {
     "data": {
      "text/plain": [
       "{'id': 678281,\n",
       " 'common_name': 'Evergreen oak',\n",
       " 'slug': 'quercus-rotundifolia',\n",
       " 'scientific_name': 'Quercus rotundifolia',\n",
       " 'year': 1785,\n",
       " 'bibliography': 'Encycl. 1: 723 (1785)',\n",
       " 'author': 'Lam.',\n",
       " 'status': 'accepted',\n",
       " 'rank': 'species',\n",
       " 'family_common_name': 'Beech family',\n",
       " 'genus_id': 5778,\n",
       " 'image_url': 'https://bs.plantnet.org/image/o/1a03948baf0300da25558c2448f086d39b41ca30',\n",
       " 'synonyms': ['Quercus lyauteyi',\n",
       "  'Quercus rotundifolia f. crassicupulata',\n",
       "  'Quercus ballota',\n",
       "  'Quercus ilex f. brevicupulata',\n",
       "  'Quercus calycina',\n",
       "  'Quercus rotundifolia f. dolichocalyx',\n",
       "  'Quercus rotundifolia f. pilosella',\n",
       "  'Quercus rotundifolia f. macrocarpa',\n",
       "  'Quercus rotundifolia f. calycina',\n",
       "  'Quercus ilex f. macrocarpa',\n",
       "  'Quercus ilex subsp. ballota',\n",
       "  'Quercus rotundifolia var. pilosella',\n",
       "  'Quercus rotundifolia var. brevicupulata',\n",
       "  'Quercus rotundifolia subsp. maghrebiana',\n",
       "  'Quercus rotundifolia f. brevicupulata',\n",
       "  'Quercus rotundifolia var. macrocarpa'],\n",
       " 'genus': 'Quercus',\n",
       " 'family': 'Fagaceae',\n",
       " 'links': {'self': '/api/v1/species/quercus-rotundifolia',\n",
       "  'plant': '/api/v1/plants/quercus-rotundifolia',\n",
       "  'genus': '/api/v1/genus/quercus'}}"
      ]
     },
     "execution_count": 18,
     "metadata": {},
     "output_type": "execute_result"
    }
   ],
   "source": [
    "plants[0]\n"
   ]
  },
  {
   "cell_type": "markdown",
   "metadata": {
    "hidden": true,
    "slideshow": {
     "slide_type": "fragment"
    }
   },
   "source": [
    "You can find more information about these fields [here](https://docs.trefle.io/docs/advanced/plants-fields)."
   ]
  },
  {
   "cell_type": "markdown",
   "metadata": {
    "heading_collapsed": true,
    "hidden": true,
    "slideshow": {
     "slide_type": "slide"
    }
   },
   "source": [
    "## Plant Families"
   ]
  },
  {
   "cell_type": "markdown",
   "metadata": {
    "hidden": true,
    "slideshow": {
     "slide_type": "fragment"
    }
   },
   "source": [
    "Let's start by seeing what botanical families are represented in our data. We'll build a dictionary that counts the plants by family. We'll use the common names for this purpose."
   ]
  },
  {
   "cell_type": "code",
   "execution_count": 19,
   "metadata": {
    "hidden": true,
    "slideshow": {
     "slide_type": "fragment"
    }
   },
   "outputs": [],
   "source": [
    "plant_dict = defaultdict(int)\n",
    "for plant in plants:\n",
    "    plant_dict[plant['family_common_name']] += 1"
   ]
  },
  {
   "cell_type": "code",
   "execution_count": 20,
   "metadata": {
    "slideshow": {
     "slide_type": "slide"
    }
   },
   "outputs": [
    {
     "data": {
      "text/plain": [
       "defaultdict(int,\n",
       "            {'Beech family': 10,\n",
       "             'Nettle family': 2,\n",
       "             'Grass family': 81,\n",
       "             'Plantain family': 25,\n",
       "             'Buttercup family': 21,\n",
       "             'Pea family': 63,\n",
       "             'Olive family': 5,\n",
       "             'Rose family': 49,\n",
       "             'Birch family': 7,\n",
       "             'Rush family': 19,\n",
       "             'Buckwheat family': 17,\n",
       "             'Soapberry family': 7,\n",
       "             'Pine family': 10,\n",
       "             'Mint family': 45,\n",
       "             'Madder family': 9,\n",
       "             None: 113,\n",
       "             'Pink family': 31,\n",
       "             'Carrot family': 29,\n",
       "             'Geranium family': 10,\n",
       "             'Aster family': 80,\n",
       "             'Horsetail family': 7,\n",
       "             'Heath family': 17,\n",
       "             'Loosestrife family': 2,\n",
       "             'Bracken Fern family': 1,\n",
       "             'Mustard family': 29,\n",
       "             'Evening Primrose family': 10,\n",
       "             'Willow family': 3,\n",
       "             'Polypody family': 7,\n",
       "             'Dogwood family': 3,\n",
       "             'Honeysuckle family': 9,\n",
       "             'Morning-glory family': 3,\n",
       "             'Iris family': 1,\n",
       "             'Spleenwort family': 8,\n",
       "             'Amaranth family': 6,\n",
       "             'Sedge family': 41,\n",
       "             'Buckthorn family': 3,\n",
       "             'Holly family': 1,\n",
       "             'Potato family': 7,\n",
       "             'Bellflower family': 9,\n",
       "             'Wood-Sorrel family': 3,\n",
       "             'Borage family': 13,\n",
       "             'Bittersweet family': 2,\n",
       "             'Primrose family': 12,\n",
       "             'Poppy family': 7,\n",
       "             'Spurge family': 10,\n",
       "             'Cat-tail family': 4,\n",
       "             'Arum family': 8,\n",
       "             'Water-plantain family': 1,\n",
       "             'Hemp family': 1,\n",
       "             'Sumac family': 2,\n",
       "             'Touch-me-not family': 3,\n",
       "             'Broom-rape family': 10,\n",
       "             'Elm family': 2,\n",
       "             'Flax family': 2,\n",
       "             'Stonecrop family': 8,\n",
       "             'Brachythecium moss family': 3,\n",
       "             'Rock-rose family': 5,\n",
       "             'Mallow family': 5,\n",
       "             'Buckbean family': 1,\n",
       "             'Sundew family': 2,\n",
       "             'Milkwort family': 2,\n",
       "             'Cypress family': 2,\n",
       "             'Myrtle family': 2,\n",
       "             'Verbena family': 3,\n",
       "             'Ginseng family': 1,\n",
       "             'Currant family': 4,\n",
       "             'Sandalwood family': 1,\n",
       "             'Pondweed family': 7,\n",
       "             'Water-lily family': 2,\n",
       "             'Gentian family': 6,\n",
       "             'Yam family': 1,\n",
       "             'Walnut family': 1,\n",
       "             'Boxwood family': 1,\n",
       "             'Dogbane family': 3,\n",
       "             'Mignonette family': 2,\n",
       "             'Bladderwort family': 2,\n",
       "             'Melastome family': 1,\n",
       "             'Saxifrage family': 5,\n",
       "             'Purslane family': 1,\n",
       "             'Grape family': 2,\n",
       "             'Pokeweed family': 1,\n",
       "             'Mezereum family': 3,\n",
       "             'Bayberry family': 1,\n",
       "             'Club-moss family': 4,\n",
       "             'Hornwort family': 1,\n",
       "             'Leadwort family': 1,\n",
       "             'Arrow-grass family': 2,\n",
       "             'Cucumber family': 1,\n",
       "             'Water Milfoil family': 3,\n",
       "             'Tape-grass family': 10,\n",
       "             'Manatee-grass family': 4,\n",
       "             'Eel-grass family': 1,\n",
       "             'Flowering Rush family': 1,\n",
       "             'Lily family': 2,\n",
       "             'Spike-moss family': 1,\n",
       "             'Barberry family': 1,\n",
       "             \"Adder's-tongue family\": 2,\n",
       "             'Oleaster family': 1,\n",
       "             'Palm family': 2,\n",
       "             'Acanthus family': 1,\n",
       "             'Calamus family': 1,\n",
       "             'Birthwort family': 1,\n",
       "             'Pittosporum family': 2})"
      ]
     },
     "execution_count": 20,
     "metadata": {},
     "output_type": "execute_result"
    }
   ],
   "source": [
    "plant_dict"
   ]
  },
  {
   "cell_type": "code",
   "execution_count": 21,
   "metadata": {
    "hidden": true,
    "slideshow": {
     "slide_type": "slide"
    }
   },
   "outputs": [
    {
     "data": {
      "text/plain": [
       "10"
      ]
     },
     "execution_count": 21,
     "metadata": {},
     "output_type": "execute_result"
    }
   ],
   "source": [
    "plant_dict['Beech family']"
   ]
  },
  {
   "cell_type": "markdown",
   "metadata": {
    "hidden": true,
    "slideshow": {
     "slide_type": "fragment"
    }
   },
   "source": [
    "Are there any missing values?"
   ]
  },
  {
   "cell_type": "code",
   "execution_count": 22,
   "metadata": {
    "hidden": true,
    "slideshow": {
     "slide_type": "fragment"
    }
   },
   "outputs": [
    {
     "data": {
      "text/plain": [
       "113"
      ]
     },
     "execution_count": 22,
     "metadata": {},
     "output_type": "execute_result"
    }
   ],
   "source": [
    "plant_dict[None]"
   ]
  },
  {
   "cell_type": "markdown",
   "metadata": {
    "hidden": true,
    "slideshow": {
     "slide_type": "fragment"
    }
   },
   "source": [
    "Let's remove these by using a dictionary comprehension:"
   ]
  },
  {
   "cell_type": "code",
   "execution_count": 23,
   "metadata": {
    "hidden": true,
    "slideshow": {
     "slide_type": "fragment"
    }
   },
   "outputs": [],
   "source": [
    "fams_clean = {fam: num for fam, num in plant_dict.items() if fam != None}"
   ]
  },
  {
   "cell_type": "code",
   "execution_count": 24,
   "metadata": {
    "hidden": true,
    "slideshow": {
     "slide_type": "fragment"
    }
   },
   "outputs": [
    {
     "data": {
      "text/plain": [
       "0"
      ]
     },
     "execution_count": 24,
     "metadata": {},
     "output_type": "execute_result"
    }
   ],
   "source": [
    "fams_clean.get(None, 0)"
   ]
  },
  {
   "cell_type": "markdown",
   "metadata": {
    "hidden": true,
    "slideshow": {
     "slide_type": "slide"
    }
   },
   "source": [
    "Let's also remove the families whose counts are less than ten:"
   ]
  },
  {
   "cell_type": "code",
   "execution_count": 25,
   "metadata": {
    "hidden": true,
    "slideshow": {
     "slide_type": "fragment"
    }
   },
   "outputs": [],
   "source": [
    "fams_clean = {fam: num for fam, num in fams_clean.items() if num >= 10}"
   ]
  },
  {
   "cell_type": "markdown",
   "metadata": {
    "hidden": true,
    "slideshow": {
     "slide_type": "slide"
    }
   },
   "source": [
    "Now we can make a bar chart of the numbers:"
   ]
  },
  {
   "cell_type": "code",
   "execution_count": 26,
   "metadata": {
    "hidden": true,
    "slideshow": {
     "slide_type": "fragment"
    }
   },
   "outputs": [
    {
     "name": "stderr",
     "output_type": "stream",
     "text": [
      "/var/folders/2p/nt5qh1k96rz3xx3nnnj961040000gn/T/ipykernel_81697/240305066.py:1: MatplotlibDeprecationWarning: The seaborn styles shipped by Matplotlib are deprecated since 3.6, as they no longer correspond to the styles shipped by seaborn. However, they will remain available as 'seaborn-v0_8-<style>'. Alternatively, directly use the seaborn API instead.\n",
      "  plt.style.use('seaborn')\n"
     ]
    }
   ],
   "source": [
    "plt.style.use('seaborn')"
   ]
  },
  {
   "cell_type": "code",
   "execution_count": 27,
   "metadata": {
    "hidden": true,
    "slideshow": {
     "slide_type": "slide"
    }
   },
   "outputs": [
    {
     "data": {
      "image/png": "[encoded data removed]",
      "text/plain": [
       "<Figure size 2000x1200 with 1 Axes>"
      ]
     },
     "metadata": {},
     "output_type": "display_data"
    }
   ],
   "source": [
    "fig, ax = plt.subplots(figsize=(20, 12))\n",
    "\n",
    "ax.bar(x=list(fams_clean.keys()), height=list(fams_clean.values()))\n",
    "ax.set_title('Families by Number', fontsize=30)\n",
    "plt.xticks(rotation=80, fontsize=20)\n",
    "plt.yticks(fontsize=20);"
   ]
  },
  {
   "cell_type": "markdown",
   "metadata": {
    "heading_collapsed": true,
    "hidden": true,
    "slideshow": {
     "slide_type": "slide"
    }
   },
   "source": [
    "## Synonyms"
   ]
  },
  {
   "cell_type": "markdown",
   "metadata": {
    "hidden": true,
    "slideshow": {
     "slide_type": "fragment"
    }
   },
   "source": [
    "Suppose we wanted to know how many synonymous names were listed for each plant. We could grab this number with a list comprehension:"
   ]
  },
  {
   "cell_type": "code",
   "execution_count": 28,
   "metadata": {
    "slideshow": {
     "slide_type": "fragment"
    }
   },
   "outputs": [
    {
     "data": {
      "text/plain": [
       "{'id': 678281,\n",
       " 'common_name': 'Evergreen oak',\n",
       " 'slug': 'quercus-rotundifolia',\n",
       " 'scientific_name': 'Quercus rotundifolia',\n",
       " 'year': 1785,\n",
       " 'bibliography': 'Encycl. 1: 723 (1785)',\n",
       " 'author': 'Lam.',\n",
       " 'status': 'accepted',\n",
       " 'rank': 'species',\n",
       " 'family_common_name': 'Beech family',\n",
       " 'genus_id': 5778,\n",
       " 'image_url': 'https://bs.plantnet.org/image/o/1a03948baf0300da25558c2448f086d39b41ca30',\n",
       " 'synonyms': ['Quercus lyauteyi',\n",
       "  'Quercus rotundifolia f. crassicupulata',\n",
       "  'Quercus ballota',\n",
       "  'Quercus ilex f. brevicupulata',\n",
       "  'Quercus calycina',\n",
       "  'Quercus rotundifolia f. dolichocalyx',\n",
       "  'Quercus rotundifolia f. pilosella',\n",
       "  'Quercus rotundifolia f. macrocarpa',\n",
       "  'Quercus rotundifolia f. calycina',\n",
       "  'Quercus ilex f. macrocarpa',\n",
       "  'Quercus ilex subsp. ballota',\n",
       "  'Quercus rotundifolia var. pilosella',\n",
       "  'Quercus rotundifolia var. brevicupulata',\n",
       "  'Quercus rotundifolia subsp. maghrebiana',\n",
       "  'Quercus rotundifolia f. brevicupulata',\n",
       "  'Quercus rotundifolia var. macrocarpa'],\n",
       " 'genus': 'Quercus',\n",
       " 'family': 'Fagaceae',\n",
       " 'links': {'self': '/api/v1/species/quercus-rotundifolia',\n",
       "  'plant': '/api/v1/plants/quercus-rotundifolia',\n",
       "  'genus': '/api/v1/genus/quercus'}}"
      ]
     },
     "execution_count": 28,
     "metadata": {},
     "output_type": "execute_result"
    }
   ],
   "source": [
    "plants[0]"
   ]
  },
  {
   "cell_type": "code",
   "execution_count": 29,
   "metadata": {
    "hidden": true,
    "slideshow": {
     "slide_type": "slide"
    }
   },
   "outputs": [],
   "source": [
    "num_syn = [len(plant['synonyms']) for plant in plants]"
   ]
  },
  {
   "cell_type": "code",
   "execution_count": 30,
   "metadata": {
    "hidden": true,
    "slideshow": {
     "slide_type": "fragment"
    }
   },
   "outputs": [
    {
     "data": {
      "image/png": "[encoded data removed]",
      "text/plain": [
       "<Figure size 800x600 with 1 Axes>"
      ]
     },
     "metadata": {},
     "output_type": "display_data"
    }
   ],
   "source": [
    "fig, ax = plt.subplots(figsize=(8, 6))\n",
    "\n",
    "ax.scatter(range(1000), num_syn, alpha=0.8)\n",
    "ax.set_title('Numbers of Synonyms');"
   ]
  },
  {
   "cell_type": "markdown",
   "metadata": {
    "heading_collapsed": true,
    "hidden": true,
    "slideshow": {
     "slide_type": "slide"
    }
   },
   "source": [
    "## Exercise"
   ]
  },
  {
   "cell_type": "markdown",
   "metadata": {
    "heading_collapsed": true,
    "hidden": true,
    "slideshow": {
     "slide_type": "fragment"
    }
   },
   "source": [
    "One plant has nearly 350 synonynms! What plant is this?"
   ]
  },
  {
   "cell_type": "code",
   "execution_count": 35,
   "metadata": {
    "slideshow": {
     "slide_type": "fragment"
    }
   },
   "outputs": [
    {
     "data": {
      "text/plain": [
       "[{'id': 182597,\n",
       "  'common_name': 'Irish potato',\n",
       "  'slug': 'solanum-tuberosum',\n",
       "  'scientific_name': 'Solanum tuberosum',\n",
       "  'year': 1753,\n",
       "  'bibliography': 'Sp. Pl.: 185 (1753)',\n",
       "  'author': 'L.',\n",
       "  'status': 'accepted',\n",
       "  'rank': 'species',\n",
       "  'family_common_name': 'Potato family',\n",
       "  'genus_id': 4329,\n",
       "  'image_url': 'https://bs.plantnet.org/image/o/95a0197b33f8efe2ea7a0d25f84476415779a4b5',\n",
       "  'synonyms': ['Solanum tuberosum subsp. andigenum',\n",
       "   'Solanum tuberosum f. chiar-pala',\n",
       "   'Solanum tuberosum var. strobilinum',\n",
       "   'Solanum tuberosum var. murukewillu',\n",
       "   'Solanum stenotomum var. peruanum',\n",
       "   'Larnax sylvarum subsp. novogranatensis',\n",
       "   'Solanum andigenum f. tiahuanacense',\n",
       "   'Solanum andigenum f. pallidum',\n",
       "   'Solanum tuberosum var. batatinum',\n",
       "   'Solanum tuberosum var. rugiorum',\n",
       "   'Solanum andigenum f. ovatibaccatum',\n",
       "   'Solanum tuberosum f. contortum',\n",
       "   'Solanum andigenum f. llutuc-runtum',\n",
       "   'Solanum andigenum var. mexicanum',\n",
       "   'Solanum tuberosum var. album',\n",
       "   'Solanum andigenum f. ancacc-maquin',\n",
       "   'Solanum andigenum f. conicicolumnatum',\n",
       "   'Solanum andigenum f. dilatatum',\n",
       "   'Parmentiera edulis',\n",
       "   'Solanum andigenum subsp. australiperuvianum',\n",
       "   'Solanum tuberosum f. thalassinum',\n",
       "   'Solanum aracatscha',\n",
       "   'Solanum tuberosum var. melanoceras',\n",
       "   'Solanum stenotomum var. cyaneum',\n",
       "   'Solanum andigenum var. quechuanum',\n",
       "   'Solanum tuberosum var. sesquimensale',\n",
       "   'Solanum tuberosum f. viride',\n",
       "   'Solanum tuberosum f. laram-lelekkoya',\n",
       "   'Solanum andigenum f. alccai-huarmi',\n",
       "   'Solanum stenotomum f. catari-papa',\n",
       "   'Solanum andigenum f. caesium',\n",
       "   'Solanum tuberosum f. ovatum',\n",
       "   'Solanum tuberosum f. sebastianum',\n",
       "   \"Solanum phureja var. janck'o-phureja\",\n",
       "   'Solanum chilotanum var. angustifurcatum',\n",
       "   'Solanum tuberosum var. bertuchii',\n",
       "   'Solanum chilotanum var. talukdarii',\n",
       "   'Solanum phureja',\n",
       "   'Solanum leptostigma',\n",
       "   'Solanum sendigena',\n",
       "   'Solanum andigenum f. ccompis',\n",
       "   'Solanum diemii',\n",
       "   'Solanum tuberosum f. milagro',\n",
       "   'Solanum stenotomum var. megalocalyx',\n",
       "   'Solanum tenuifilamentum',\n",
       "   'Solanum tuberosum f. coraila',\n",
       "   'Solanum tuberosum var. elegans',\n",
       "   'Solanum tuberosum var. norfolcicum',\n",
       "   'Lycopersicon tuberosum',\n",
       "   'Solanum stenotomum f. ccami',\n",
       "   'Solanum tuberosum var. platyceras',\n",
       "   'Solanum tuberosum var. hispanicum',\n",
       "   'Solanum tuberosum var. yutuense',\n",
       "   'Solanum andigenum var. stenophyllum',\n",
       "   'Solanum rybinii var. popayanum',\n",
       "   'Solanum chaucha var. khoyllu',\n",
       "   \"Solanum tuberosum f. wila-k'oyu\",\n",
       "   'Solanum stenotomum f. koso-nahui',\n",
       "   'Solanum tuberosum f. huichinkka',\n",
       "   'Solanum andigenum f. ppacc-nacha',\n",
       "   'Solanum stenotomum var. puca-lunca',\n",
       "   'Solanum andigenum f. bifidum',\n",
       "   'Solanum tuberosum var. taraco',\n",
       "   'Solanum oceanicum',\n",
       "   'Solanum tuberosum f. latum',\n",
       "   'Solanum andigenum f. cryptostylum',\n",
       "   'Solanum phureja f. sayhuanimayo',\n",
       "   'Solanum tuberosum var. praecox',\n",
       "   'Solanum aracc-papa',\n",
       "   'Solanum stenotomum f. tiele',\n",
       "   'Solanum tuberosum var. hassicum',\n",
       "   'Solanum tuberosum var. multibaccatum',\n",
       "   'Solanum andigenum var. herrerae',\n",
       "   'Solanum andigenum var. aymaranum',\n",
       "   'Solanum phureja var. sanguineum',\n",
       "   'Solanum stenotomum f. chincherae',\n",
       "   'Solanum goniocalyx var. caeruleum',\n",
       "   'Solanum stenotomum f. roseum',\n",
       "   'Solanum sinense',\n",
       "   'Solanum andigenum f. chalcoense',\n",
       "   'Solanum andigenum f. chimaco',\n",
       "   'Solanum tuberosum var. menapianum',\n",
       "   'Solanum tuberosum var. merceri',\n",
       "   'Solanum tuberosum f. enode',\n",
       "   'Solanum stenotomum f. chojllu',\n",
       "   'Solanum tuberosum var. bufoninum',\n",
       "   'Solanum tuberosum var. corsicanum',\n",
       "   'Solanum chaucha var. puca-suitu',\n",
       "   'Solanum andigenum subsp. tarmense',\n",
       "   'Solanum stenotomum f. eucaliptae',\n",
       "   'Solanum tuberosum f. isla-imilla',\n",
       "   'Solanum tuberosum f. wila-monda',\n",
       "   'Solanum stenotomum var. putis',\n",
       "   'Solanum andigenum f. pomacanchicum',\n",
       "   'Solanum tuberosum f. chiar-lelekkoya',\n",
       "   'Solanum riobambense',\n",
       "   'Solanum andigenum f. arcuatum',\n",
       "   'Solanum tuberosum f. elongatum',\n",
       "   'Solanum tuberosum var. conocarpum',\n",
       "   'Solanum kesselbrenneri',\n",
       "   'Solanum phureja f. timusi',\n",
       "   'Solanum andigenum subsp. ecuatorianum',\n",
       "   'Solanum tuberosum var. schnittspahnii',\n",
       "   'Solanum tuberosum var. aethiopicum',\n",
       "   'Solanum andigenum var. bolivianum',\n",
       "   'Solanum andigenum var. huairuru',\n",
       "   'Solanum maglia var. chubutense',\n",
       "   'Solanum stenotomum f. alcay-imilla',\n",
       "   'Solanum tuberosum f. overita',\n",
       "   'Solanum andigenum',\n",
       "   'Solanum tuberosum var. malcachu',\n",
       "   'Solanum andigenum var. colombianum',\n",
       "   'Solanum tuberosum f. wila-imilla',\n",
       "   'Solanum molinae',\n",
       "   'Solanum andigenum f. incrassatum',\n",
       "   'Solanum stenotomum var. huicu',\n",
       "   'Solanum subandigenum',\n",
       "   'Solanum tuberosum var. crassipedicellatum',\n",
       "   'Solanum tuberosum var. ulmense',\n",
       "   'Solanum tuberosum f. camota',\n",
       "   'Solanum tuberosum var. villaroella',\n",
       "   'Solanum stenotomum f. cohuasa',\n",
       "   'Solanum phureja var. caeruleum',\n",
       "   'Solanum andigenum var. sihuanum',\n",
       "   'Solanum rybinii var. boyacense',\n",
       "   'Solanum tuberosum var. tener',\n",
       "   'Solanum caniarense',\n",
       "   'Solanum chaucha var. surimana',\n",
       "   'Solanum zykinii',\n",
       "   'Solanum stenotomum f. pitoca',\n",
       "   \"Solanum tuberosum f. jancck'o-kkoyllu\",\n",
       "   'Solanum stenotomum f. kehuillo',\n",
       "   'Solanum andigenum f. microstigma',\n",
       "   'Solanum tascalense',\n",
       "   'Solanum cayeuxi',\n",
       "   'Solanum tuberosum f. chojo-sajama',\n",
       "   'Solanum andigenum f. pacus',\n",
       "   'Solanum tuberosum var. rockii',\n",
       "   'Solanum tuberosum var. rubrisuturatum',\n",
       "   'Solanum phureja f. viuda',\n",
       "   'Solanum tuberosum var. guaytecarum',\n",
       "   'Solanum stenotomum f. yuracc',\n",
       "   'Solanum tuberosum var. putscheanum',\n",
       "   'Solanum andigenum subsp. colombianum',\n",
       "   'Solanum andigenum var. grauense',\n",
       "   'Solanum tuberosum var. cordiforme',\n",
       "   'Solanum tarmense',\n",
       "   'Solanum dubium',\n",
       "   'Solanum goniocalyx',\n",
       "   'Solanum cultum',\n",
       "   'Solanum andigenum f. basiscopum',\n",
       "   'Solanum stenotomum f. yana-cculi',\n",
       "   'Solanum tuberosum var. lelekkoya',\n",
       "   'Solanum mamilliferum',\n",
       "   'Solanum tuberosum f. pulo',\n",
       "   'Solanum stenotomum f. phitu-huayacas',\n",
       "   'Solanum andigenum var. cuzcoense',\n",
       "   \"Solanum tuberosum f. janck'o-chockella\",\n",
       "   'Solanum tuberosum f. yurac-taraco',\n",
       "   'Solanum andigenum f. cevallosii',\n",
       "   'Solanum chocclo',\n",
       "   'Solanum stenotomum var. keccrana',\n",
       "   'Solanum tuberosum var. cultum',\n",
       "   'Solanum tuberosum var. rossicum',\n",
       "   'Solanum tuberosum f. chaped',\n",
       "   'Solanum stenotomum f. cuchipacon',\n",
       "   'Solanum estradea',\n",
       "   'Solanum tuberosum var. reniforme',\n",
       "   'Solanum tuberosum var. pecorum',\n",
       "   'Solanum stenotomum f. canastilla',\n",
       "   'Solanum andigenum var. socco-huaccoto',\n",
       "   'Solanum rybinii var. pastoense',\n",
       "   'Solanum stenotomum f. canasense',\n",
       "   'Solanum tuberosum subsp. chiloense',\n",
       "   'Solanum tuberosum var. runa',\n",
       "   'Solanum tuberosum f. huaca-zapato',\n",
       "   'Solanum andigenum f. lapazense',\n",
       "   'Solanum andigenum f. tolucanum',\n",
       "   'Solanum cardenasii',\n",
       "   'Solanum ochoanum',\n",
       "   'Solanum tuberosum f. conicum',\n",
       "   'Solanum tuberosum var. praedicandum',\n",
       "   'Solanum paramoense',\n",
       "   'Solanum tuberosum var. borsdorfianum',\n",
       "   'Solanum chilotanum',\n",
       "   'Solanum andigenum var. hederiforme',\n",
       "   'Solanum andigenum f. lecke-umo',\n",
       "   'Solanum andigenum subsp. aya-papa',\n",
       "   'Solanum stenotomum f. pallidum',\n",
       "   'Solanum andigenum f. nodosum',\n",
       "   'Solanum tuberosum var. vulgare',\n",
       "   \"Solanum tuberosum f. janck'o-pala\",\n",
       "   'Solanum andigenum var. ccusi',\n",
       "   'Solanum stenotomum var. chapina',\n",
       "   'Solanum tuberosum f. crassifilamentum',\n",
       "   'Solanum tuberosum var. peruvianum',\n",
       "   'Solanum tuberosum f. montticum',\n",
       "   'Solanum andigenum f. caiceda',\n",
       "   'Solanum tuberosum var. chiloense',\n",
       "   'Solanum tuberosum var. fragariinum',\n",
       "   'Solanum tuberosum var. holsaticum',\n",
       "   'Solanum tuberosum var. helenanum',\n",
       "   'Solanum tuberosum f. brachykalukon',\n",
       "   'Solanum tuberosum var. sabinei',\n",
       "   'Solanum andigenum var. platyantherum',\n",
       "   'Solanum rybinii',\n",
       "   'Solanum stenotomum f. orcco-amajaya',\n",
       "   'Solanum tuberosum f. alkka-imilla',\n",
       "   'Solanum tuberosum var. salamandrinum',\n",
       "   'Solanum andigenum f. tocanum',\n",
       "   'Solanum tuberosum f. sani-imilla',\n",
       "   'Solanum andigenum f. guatemalense',\n",
       "   'Solanum andigenum f. lanciacuminatum',\n",
       "   'Solanum hygrothermicum',\n",
       "   'Solanum tuberosum var. xanthoceras',\n",
       "   'Solanum yabari var. cuzcoense',\n",
       "   'Solanum chaucha f. purpureum',\n",
       "   'Solanum tuberosum var. elongatum',\n",
       "   'Solanum ascasabii',\n",
       "   'Solanum chiloense',\n",
       "   'Solanum sanmartinense',\n",
       "   'Solanum stenotomum f. kamara',\n",
       "   'Solanum andigenum var. latius',\n",
       "   'Solanum stenotomum f. chilcas',\n",
       "   'Solanum tuberosum f. kunurana',\n",
       "   'Solanum tuberosum f. infectum',\n",
       "   'Solanum phureja subsp. estradae',\n",
       "   'Solanum andigenum var. ckello-huaccoto',\n",
       "   'Solanum andigenum f. sunchchu',\n",
       "   'Solanum tuberosum var. nucinum',\n",
       "   'Solanum tuberosum var. cepinum',\n",
       "   'Solanum tuberosum f. oculosum',\n",
       "   'Solanum tuberosum var. chilotanum',\n",
       "   'Solanum tuberosum f. brevipapillosum',\n",
       "   'Solanum macmillanii',\n",
       "   'Solanum parmentieri',\n",
       "   'Solanum rybinii var. bogotense',\n",
       "   'Solanum tuberosum var. brachyceras',\n",
       "   'Solanum stenotomum f. phinu',\n",
       "   'Solanum sylvestre',\n",
       "   'Solanum tuberosum f. tinguipaya',\n",
       "   'Solanum andigenum subsp. argentinicum',\n",
       "   'Solanum andigenum f. coeruleum',\n",
       "   'Solanum tuberosum f. alkka-silla',\n",
       "   'Solanum tuberosum var. sicha',\n",
       "   'Solanum chilotanum f. parvicorollatum',\n",
       "   'Solanum andigenum f. tenue',\n",
       "   'Solanum tuberosum var. drakeanum',\n",
       "   'Solanum tuberosum var. recurvatum',\n",
       "   'Solanum tuberosum f. acuminatum',\n",
       "   'Solanum andigenum f. huaca-layra',\n",
       "   'Solanum yabari',\n",
       "   'Solanum boyacense',\n",
       "   'Solanum tuberosum f. araucanum',\n",
       "   'Solanum phureja subsp. hygrothermicum',\n",
       "   'Solanum tuberosum var. leonhardianum',\n",
       "   'Solanum tuberosum var. nobile',\n",
       "   'Solanum stenotomum f. puca',\n",
       "   'Solanum phureja var. rubroroseum',\n",
       "   'Solanum andigenum var. digitotuberosum',\n",
       "   'Battata tuberosa',\n",
       "   'Solanum stenotomum f. negrum',\n",
       "   'Solanum andigenum f. lisarassa',\n",
       "   'Solanum andigenum var. longibaccatum',\n",
       "   'Solanum tuberosum f. pichuna',\n",
       "   'Solanum stenotomum',\n",
       "   'Solanum stenotomum f. piticana',\n",
       "   'Solanum andigenum f. huaman-uma',\n",
       "   'Solanum andigenum var. brevicalyx',\n",
       "   'Solanum stenotomum var. pitiquilla',\n",
       "   'Solanum phureja var. flavum',\n",
       "   'Solanum tuberosum var. anglicum',\n",
       "   'Solanum tuberosum f. indianum',\n",
       "   'Solanum tuberosum var. julianum',\n",
       "   'Solanum tuberosum var. kaunitzii',\n",
       "   'Solanum coeruleiflorum',\n",
       "   'Solanum herrerae',\n",
       "   'Solanum utile',\n",
       "   'Solanum tuberosum var. versicolor',\n",
       "   'Solanum chaucha var. ckati',\n",
       "   'Solanum stenotomum f. huamanpa-uman',\n",
       "   'Solanum apurimacense',\n",
       "   'Solanum tuberosum f. wila-pala',\n",
       "   'Solanum esculentum',\n",
       "   'Solanum chilotanum f. magnicorollatum',\n",
       "   'Solanum tuberosum var. sipancachi',\n",
       "   'Solanum sabinei',\n",
       "   'Solanum tuberosum f. amajaya',\n",
       "   'Solanum andigenum f. huallata',\n",
       "   'Solanum andigenum f. ppaqui',\n",
       "   'Solanum chaucha',\n",
       "   'Solanum phureja var. macmillanii',\n",
       "   'Solanum andigenum f. globosum',\n",
       "   'Solanum tuberosum var. saccharatum',\n",
       "   'Solanum tuberosum f. pillicuma',\n",
       "   'Solanum tuberosum var. erythroceras',\n",
       "   'Solanum tuberosum var. vuchefeldicum',\n",
       "   'Solanum churuspi',\n",
       "   'Solanum phureja f. orbiculatum',\n",
       "   'Solanum andigenum var. imilla',\n",
       "   'Solanum stenotomum f. cochicallo',\n",
       "   'Solanum andigenum f. lilacinoflorum',\n",
       "   'Solanum erlansonii',\n",
       "   'Solanum andigenum f. magnicorollatum',\n",
       "   'Solanum stenotomum var. ccami',\n",
       "   'Solanum andigenum var. carhua',\n",
       "   'Solanum andigenum f. ccompetillo',\n",
       "   'Solanum tuberosum var. alaudinum',\n",
       "   'Solanum tuberosum var. palatinatum',\n",
       "   'Solanum tuberosum f. mahuinhue',\n",
       "   'Solanum stenotomum var. poccoya',\n",
       "   'Solanum tuberosum var. cucumerinum',\n",
       "   'Solanum phureja var. pujeri',\n",
       "   'Solanum tuberosum var. laurentianum',\n",
       "   'Solanum tuberosum var. brevipilosum',\n",
       "   'Solanum stenotomum subsp. goniocalyx',\n",
       "   'Solanum chaucha var. ccoe-sulla',\n",
       "   'Solanum stenotomum f. huanuchi',\n",
       "   'Solanum andigenum subsp. bolivianum',\n",
       "   'Solanum stenotomum f. kantillero',\n",
       "   'Solanum tuberosum f. wila-huaycku',\n",
       "   'Solanum tuberosum f. azul-runa',\n",
       "   'Solanum chariense',\n",
       "   'Solanum andigenum f. uncuna',\n",
       "   'Solanum parvicorollatum',\n",
       "   'Solanum phureja var. erlansonii',\n",
       "   'Solanum tuberosum f. surico',\n",
       "   'Solanum yabari var. pepino',\n",
       "   'Solanum tuberosum var. chubutense',\n",
       "   'Solanum chaucha f. roseum',\n",
       "   'Solanum tuberosum var. tinctorium',\n",
       "   'Solanum andigenum f. discolor',\n",
       "   'Solanum tuberosum f. auriculatum',\n",
       "   'Solanum tuberosum f. tenuipedicellatum',\n",
       "   'Solanum andigenum subsp. centraliperuvianum',\n",
       "   'Solanum tuberosum var. californicum',\n",
       "   'Solanum maglia var. guaytecarum',\n",
       "   'Solanum stenotomum f. huallata-chinchi',\n",
       "   'Solanum andigenum f. elongatipedicellatum',\n",
       "   'Solanum andigenum var. juninum',\n",
       "   'Solanum tuberosum f. nigrum',\n",
       "   'Solanum tuberosum var. polemoniifolium'],\n",
       "  'genus': 'Solanum',\n",
       "  'family': 'Solanaceae',\n",
       "  'links': {'self': '/api/v1/species/solanum-tuberosum',\n",
       "   'plant': '/api/v1/plants/solanum-tuberosum',\n",
       "   'genus': '/api/v1/genus/solanum'}}]"
      ]
     },
     "execution_count": 35,
     "metadata": {},
     "output_type": "execute_result"
    }
   ],
   "source": [
    "[plant for plant in plants if len(plant['synonyms']) > 300]"
   ]
  },
  {
   "cell_type": "markdown",
   "metadata": {
    "heading_collapsed": true,
    "hidden": true,
    "slideshow": {
     "slide_type": "fragment"
    }
   },
   "source": [
    "<details>\n",
    "    <summary>\n",
    "        Answer\n",
    "    </summary>\n",
    "\n",
    "```python\n",
    "[plant for plant in plants if len(plant['synonyms']) > 300]\n",
    "```\n",
    "</details>"
   ]
  },
  {
   "cell_type": "markdown",
   "metadata": {
    "heading_collapsed": true,
    "hidden": true,
    "slideshow": {
     "slide_type": "slide"
    }
   },
   "source": [
    "## Bibliography"
   ]
  },
  {
   "cell_type": "code",
   "execution_count": null,
   "metadata": {
    "hidden": true,
    "slideshow": {
     "slide_type": "fragment"
    }
   },
   "outputs": [],
   "source": [
    "biblios = [plant['bibliography'] for plant in plants]"
   ]
  },
  {
   "cell_type": "code",
   "execution_count": null,
   "metadata": {
    "hidden": true,
    "slideshow": {
     "slide_type": "fragment"
    }
   },
   "outputs": [],
   "source": [
    "biblios[0]"
   ]
  },
  {
   "cell_type": "markdown",
   "metadata": {
    "hidden": true,
    "slideshow": {
     "slide_type": "fragment"
    }
   },
   "source": [
    "Let's check the bibliographies for any explicit mention of Linnaeus, the godfather of biological taxonomy. First we'll remove the plants with no bibliography:"
   ]
  },
  {
   "cell_type": "code",
   "execution_count": null,
   "metadata": {
    "hidden": true,
    "slideshow": {
     "slide_type": "fragment"
    }
   },
   "outputs": [],
   "source": [
    "hasbiblio = [plant for plant in plants if plant['bibliography'] != None]"
   ]
  },
  {
   "cell_type": "code",
   "execution_count": null,
   "metadata": {
    "cell_style": "center",
    "hidden": true,
    "slideshow": {
     "slide_type": "fragment"
    }
   },
   "outputs": [],
   "source": [
    "len(hasbiblio)"
   ]
  },
  {
   "cell_type": "code",
   "execution_count": null,
   "metadata": {
    "cell_style": "center",
    "hidden": true,
    "slideshow": {
     "slide_type": "slide"
    }
   },
   "outputs": [],
   "source": [
    "linnaeans = [plant['bibliography'] for plant in hasbiblio if 'Linnaeus'in plant['bibliography']]\n",
    "linnaeans"
   ]
  },
  {
   "cell_type": "markdown",
   "metadata": {
    "heading_collapsed": true,
    "slideshow": {
     "slide_type": "slide"
    }
   },
   "source": [
    "# Matching Author and Bibliography"
   ]
  },
  {
   "cell_type": "markdown",
   "metadata": {
    "hidden": true,
    "slideshow": {
     "slide_type": "fragment"
    }
   },
   "source": [
    "In fact, _Species Plantarum_ (1753) was written by Linnaeus, and \"Sp. Pl.\" In these bibliographies is a reference to that master work. Let's check to see who the author is for these records whose bibliographies start with \"Sp. Pl.\":"
   ]
  },
  {
   "cell_type": "code",
   "execution_count": null,
   "metadata": {
    "slideshow": {
     "slide_type": "fragment"
    }
   },
   "outputs": [],
   "source": [
    "sps = []\n",
    "for plant in hasbiblio:\n",
    "    if plant['bibliography'].startswith('Sp. Pl.'):\n",
    "            sps.append(plant)"
   ]
  },
  {
   "cell_type": "code",
   "execution_count": null,
   "metadata": {
    "cell_style": "center",
    "hidden": true,
    "slideshow": {
     "slide_type": "fragment"
    }
   },
   "outputs": [],
   "source": [
    "sp_authors = [sp['author'] for sp in sps]"
   ]
  },
  {
   "cell_type": "code",
   "execution_count": null,
   "metadata": {
    "cell_style": "center",
    "hidden": true,
    "slideshow": {
     "slide_type": "fragment"
    }
   },
   "outputs": [],
   "source": [
    "uniq_auth = list(set(sp_authors))"
   ]
  },
  {
   "cell_type": "code",
   "execution_count": null,
   "metadata": {
    "cell_style": "center",
    "hidden": true,
    "slideshow": {
     "slide_type": "slide"
    }
   },
   "outputs": [],
   "source": [
    "counts = []\n",
    "for author in uniq_auth:\n",
    "    counts.append(sp_authors.count(author))"
   ]
  },
  {
   "cell_type": "code",
   "execution_count": null,
   "metadata": {
    "cell_style": "center",
    "hidden": true,
    "slideshow": {
     "slide_type": "fragment"
    }
   },
   "outputs": [],
   "source": [
    "dict(zip(uniq_auth, counts))"
   ]
  },
  {
   "cell_type": "markdown",
   "metadata": {
    "heading_collapsed": true,
    "hidden": true,
    "slideshow": {
     "slide_type": "slide"
    }
   },
   "source": [
    "## Exercise"
   ]
  },
  {
   "cell_type": "markdown",
   "metadata": {
    "hidden": true,
    "slideshow": {
     "slide_type": "fragment"
    }
   },
   "source": [
    "Change the author to 'L.' (for 'Linnaeus') for all of these records."
   ]
  },
  {
   "cell_type": "code",
   "execution_count": null,
   "metadata": {},
   "outputs": [],
   "source": []
  },
  {
   "cell_type": "markdown",
   "metadata": {
    "hidden": true,
    "slideshow": {
     "slide_type": "fragment"
    }
   },
   "source": [
    "<details>\n",
    "    <summary>\n",
    "        Answer\n",
    "    </summary>\n",
    "\n",
    "```python\n",
    "for plant in plants:\n",
    "    try:\n",
    "        if plant['bibliography'].startswith('Sp. Pl.'):\n",
    "            plant['author'] = 'L.'\n",
    "    except:\n",
    "        continue\n",
    "    \n",
    "    \n",
    "or\n",
    "    \n",
    "    \n",
    "for plant in plants:\n",
    "    if plant['bibliography'] != None and plant['bibliography'].startswith('Sp. Pl.'):\n",
    "            plant['author'] = 'L.'    \n",
    "```\n",
    "</details>"
   ]
  },
  {
   "cell_type": "markdown",
   "metadata": {
    "heading_collapsed": true,
    "slideshow": {
     "slide_type": "slide"
    }
   },
   "source": [
    "# Teaser: Bringing in `pandas`: Back to Synonyms"
   ]
  },
  {
   "cell_type": "markdown",
   "metadata": {
    "hidden": true,
    "slideshow": {
     "slide_type": "fragment"
    }
   },
   "source": [
    "Let's take advantage of the DataFrame tools from `pandas`:"
   ]
  },
  {
   "cell_type": "code",
   "execution_count": null,
   "metadata": {
    "hidden": true,
    "slideshow": {
     "slide_type": "fragment"
    }
   },
   "outputs": [],
   "source": [
    "plants_df = pd.DataFrame(plants)"
   ]
  },
  {
   "cell_type": "code",
   "execution_count": null,
   "metadata": {
    "hidden": true,
    "slideshow": {
     "slide_type": "slide"
    }
   },
   "outputs": [],
   "source": [
    "plants_df.head()"
   ]
  },
  {
   "cell_type": "markdown",
   "metadata": {
    "heading_collapsed": true,
    "hidden": true,
    "slideshow": {
     "slide_type": "slide"
    }
   },
   "source": [
    "## Exercises for Later"
   ]
  },
  {
   "cell_type": "markdown",
   "metadata": {
    "hidden": true,
    "slideshow": {
     "slide_type": "fragment"
    }
   },
   "source": [
    "1. Add the number of synonyms as a new column called \"num_syn\".\n",
    "2. Sort the DataFrame by number of synonyms in descending order.\n",
    "3. Grab the Image URL of the plant that has the fourth-highest number of synonyms.\n",
    "4. Paste it into your browser and take a look!"
   ]
  },
  {
   "cell_type": "code",
   "execution_count": null,
   "metadata": {},
   "outputs": [],
   "source": []
  },
  {
   "cell_type": "markdown",
   "metadata": {
    "hidden": true
   },
   "source": [
    "<details>\n",
    "    <summary>Answer here\n",
    "    </summary>\n",
    "\n",
    "```python\n",
    "plants_df['num_syn'] = plants_df['synonyms'].map(len)\n",
    "sorted_ = plants_df.sort_values('num_syn', ascending=False)\n",
    "sorted_.loc[3, 'image_url']\n",
    "```\n",
    "</details>"
   ]
  },
  {
   "cell_type": "markdown",
   "metadata": {
    "heading_collapsed": true,
    "slideshow": {
     "slide_type": "slide"
    }
   },
   "source": [
    "# Year"
   ]
  },
  {
   "cell_type": "markdown",
   "metadata": {
    "hidden": true,
    "slideshow": {
     "slide_type": "fragment"
    }
   },
   "source": [
    "The year is an indication of when a valid name for the plant first appeared in print. Let's build a simple histogram of these years:"
   ]
  },
  {
   "cell_type": "code",
   "execution_count": null,
   "metadata": {
    "hidden": true,
    "scrolled": true,
    "slideshow": {
     "slide_type": "fragment"
    }
   },
   "outputs": [],
   "source": []
  },
  {
   "cell_type": "markdown",
   "metadata": {
    "heading_collapsed": true,
    "hidden": true,
    "slideshow": {
     "slide_type": "slide"
    }
   },
   "source": [
    "## Exercise"
   ]
  },
  {
   "cell_type": "markdown",
   "metadata": {
    "hidden": true,
    "slideshow": {
     "slide_type": "fragment"
    }
   },
   "source": [
    "How many plants have first been written about just in the last 20 years? Make a bar chart or pie chart that shows the distribution by family of these plants."
   ]
  },
  {
   "cell_type": "code",
   "execution_count": null,
   "metadata": {
    "slideshow": {
     "slide_type": "fragment"
    }
   },
   "outputs": [],
   "source": []
  },
  {
   "cell_type": "markdown",
   "metadata": {
    "hidden": true,
    "slideshow": {
     "slide_type": "fragment"
    }
   },
   "source": [
    "<details>\n",
    "    <summary>\n",
    "        One answer here\n",
    "    </summary>\n",
    "\n",
    "```python\n",
    "recent = plants_df[plants_df['year'] >= 2001]\n",
    "fig, ax = plt.subplots(1, 2, figsize=(14, 6))\n",
    "ax[0].bar(recent['family_common_name'].value_counts().index,\n",
    "       recent['family_common_name'].value_counts(),\n",
    "      color='darkgreen')\n",
    "ax[1].pie(recent['family_common_name'].value_counts(),\n",
    "      labels=recent['family_common_name'].value_counts().index,\n",
    "      radius=1.2, labeldistance=0.4, rotatelabels=True);\n",
    "```    \n",
    "</details>"
   ]
  },
  {
   "cell_type": "code",
   "execution_count": null,
   "metadata": {
    "hidden": true
   },
   "outputs": [],
   "source": []
  },
  {
   "cell_type": "code",
   "execution_count": null,
   "metadata": {},
   "outputs": [],
   "source": []
  },
  {
   "cell_type": "code",
   "execution_count": null,
   "metadata": {},
   "outputs": [],
   "source": []
  }
 ],
 "metadata": {
  "kernelspec": {
   "display_name": "Python 3 (ipykernel)",
   "language": "python",
   "name": "python3"
  },
  "language_info": {
   "codemirror_mode": {
    "name": "ipython",
    "version": 3
   },
   "file_extension": ".py",
   "mimetype": "text/x-python",
   "name": "python",
   "nbconvert_exporter": "python",
   "pygments_lexer": "ipython3",
   "version": "3.9.16"
  },
  "toc": {
   "base_numbering": 1,
   "nav_menu": {},
   "number_sections": true,
   "sideBar": true,
   "skip_h1_title": false,
   "title_cell": "Table of Contents",
   "title_sidebar": "TOC",
   "toc_cell": true,
   "toc_position": {
    "height": "calc(100% - 180px)",
    "left": "10px",
    "top": "150px",
    "width": "288px"
   },
   "toc_section_display": true,
   "toc_window_display": true
  }
 },
 "nbformat": 4,
 "nbformat_minor": 4
}
